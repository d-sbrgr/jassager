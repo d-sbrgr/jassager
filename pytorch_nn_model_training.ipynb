{
 "cells": [
  {
   "cell_type": "code",
   "id": "initial_id",
   "metadata": {
    "collapsed": true,
    "ExecuteTime": {
     "end_time": "2024-11-05T19:35:47.814742Z",
     "start_time": "2024-11-05T19:35:47.808603Z"
    }
   },
   "source": [
    "%matplotlib inline\n",
    "\n",
    "import numpy as np\n",
    "import pandas as pd\n",
    "import matplotlib.pyplot as plt\n",
    "import seaborn as sns\n",
    "import pickle\n",
    "\n",
    "from pathlib import Path\n",
    "from sklearn.model_selection import train_test_split\n",
    "\n",
    "import torch\n",
    "import torch.nn as nn\n",
    "import torch.optim as optim\n",
    "from torch.utils.data import DataLoader, TensorDataset\n",
    "from sklearn.preprocessing import LabelEncoder\n",
    "from sklearn.utils.class_weight import compute_class_weight\n",
    "from models.model import TrumpPredictorNN\n",
    "from sklearn.metrics import confusion_matrix\n",
    "\n"
   ],
   "outputs": [],
   "execution_count": 30
  },
  {
   "metadata": {
    "ExecuteTime": {
     "end_time": "2024-11-05T19:35:48.763585Z",
     "start_time": "2024-11-05T19:35:48.759403Z"
    }
   },
   "cell_type": "code",
   "source": "path_to_data = Path('jass_data')",
   "id": "54fa9c1f1f90c56",
   "outputs": [],
   "execution_count": 31
  },
  {
   "metadata": {
    "ExecuteTime": {
     "end_time": "2024-11-05T19:35:50.313870Z",
     "start_time": "2024-11-05T19:35:49.896577Z"
    }
   },
   "cell_type": "code",
   "source": "data = pd.read_csv(path_to_data / 'filtered_data.csv', low_memory=False)",
   "id": "30b22e46d6dfeca1",
   "outputs": [],
   "execution_count": 32
  },
  {
   "metadata": {
    "ExecuteTime": {
     "end_time": "2024-11-05T19:35:51.285911Z",
     "start_time": "2024-11-05T19:35:51.257629Z"
    }
   },
   "cell_type": "code",
   "source": "data.head()",
   "id": "3fd793df50fc8f0a",
   "outputs": [
    {
     "data": {
      "text/plain": [
       "      DA     DK     DQ     DJ    D10     D9     D8     D7     D6     HA  ...  \\\n",
       "0  False   True  False  False  False  False  False  False   True   True  ...   \n",
       "1  False   True  False  False  False  False  False  False  False  False  ...   \n",
       "2  False  False   True  False  False  False  False  False  False  False  ...   \n",
       "3  False  False  False  False  False  False  False  False   True  False  ...   \n",
       "4  False  False  False  False   True  False  False  False  False  False  ...   \n",
       "\n",
       "   S_J9A  S_J9_plus_card_and_2_other_aces   C_J9  C_AKQ  C_678  \\\n",
       "0  False                            False  False  False  False   \n",
       "1  False                            False  False  False  False   \n",
       "2  False                            False  False  False  False   \n",
       "3  False                            False  False  False  False   \n",
       "4  False                            False  False  False  False   \n",
       "\n",
       "   C_J_and_4_more  C_9A_and_3_more  C_J9A  C_J9_plus_card_and_2_other_aces  \\\n",
       "0           False            False  False                            False   \n",
       "1           False            False  False                            False   \n",
       "2           False            False  False                            False   \n",
       "3           False            False  False                            False   \n",
       "4           False            False  False                            False   \n",
       "\n",
       "   any_specified_feature_true  \n",
       "0                        True  \n",
       "1                        True  \n",
       "2                       False  \n",
       "3                       False  \n",
       "4                       False  \n",
       "\n",
       "[5 rows x 67 columns]"
      ],
      "text/html": [
       "<div>\n",
       "<style scoped>\n",
       "    .dataframe tbody tr th:only-of-type {\n",
       "        vertical-align: middle;\n",
       "    }\n",
       "\n",
       "    .dataframe tbody tr th {\n",
       "        vertical-align: top;\n",
       "    }\n",
       "\n",
       "    .dataframe thead th {\n",
       "        text-align: right;\n",
       "    }\n",
       "</style>\n",
       "<table border=\"1\" class=\"dataframe\">\n",
       "  <thead>\n",
       "    <tr style=\"text-align: right;\">\n",
       "      <th></th>\n",
       "      <th>DA</th>\n",
       "      <th>DK</th>\n",
       "      <th>DQ</th>\n",
       "      <th>DJ</th>\n",
       "      <th>D10</th>\n",
       "      <th>D9</th>\n",
       "      <th>D8</th>\n",
       "      <th>D7</th>\n",
       "      <th>D6</th>\n",
       "      <th>HA</th>\n",
       "      <th>...</th>\n",
       "      <th>S_J9A</th>\n",
       "      <th>S_J9_plus_card_and_2_other_aces</th>\n",
       "      <th>C_J9</th>\n",
       "      <th>C_AKQ</th>\n",
       "      <th>C_678</th>\n",
       "      <th>C_J_and_4_more</th>\n",
       "      <th>C_9A_and_3_more</th>\n",
       "      <th>C_J9A</th>\n",
       "      <th>C_J9_plus_card_and_2_other_aces</th>\n",
       "      <th>any_specified_feature_true</th>\n",
       "    </tr>\n",
       "  </thead>\n",
       "  <tbody>\n",
       "    <tr>\n",
       "      <th>0</th>\n",
       "      <td>False</td>\n",
       "      <td>True</td>\n",
       "      <td>False</td>\n",
       "      <td>False</td>\n",
       "      <td>False</td>\n",
       "      <td>False</td>\n",
       "      <td>False</td>\n",
       "      <td>False</td>\n",
       "      <td>True</td>\n",
       "      <td>True</td>\n",
       "      <td>...</td>\n",
       "      <td>False</td>\n",
       "      <td>False</td>\n",
       "      <td>False</td>\n",
       "      <td>False</td>\n",
       "      <td>False</td>\n",
       "      <td>False</td>\n",
       "      <td>False</td>\n",
       "      <td>False</td>\n",
       "      <td>False</td>\n",
       "      <td>True</td>\n",
       "    </tr>\n",
       "    <tr>\n",
       "      <th>1</th>\n",
       "      <td>False</td>\n",
       "      <td>True</td>\n",
       "      <td>False</td>\n",
       "      <td>False</td>\n",
       "      <td>False</td>\n",
       "      <td>False</td>\n",
       "      <td>False</td>\n",
       "      <td>False</td>\n",
       "      <td>False</td>\n",
       "      <td>False</td>\n",
       "      <td>...</td>\n",
       "      <td>False</td>\n",
       "      <td>False</td>\n",
       "      <td>False</td>\n",
       "      <td>False</td>\n",
       "      <td>False</td>\n",
       "      <td>False</td>\n",
       "      <td>False</td>\n",
       "      <td>False</td>\n",
       "      <td>False</td>\n",
       "      <td>True</td>\n",
       "    </tr>\n",
       "    <tr>\n",
       "      <th>2</th>\n",
       "      <td>False</td>\n",
       "      <td>False</td>\n",
       "      <td>True</td>\n",
       "      <td>False</td>\n",
       "      <td>False</td>\n",
       "      <td>False</td>\n",
       "      <td>False</td>\n",
       "      <td>False</td>\n",
       "      <td>False</td>\n",
       "      <td>False</td>\n",
       "      <td>...</td>\n",
       "      <td>False</td>\n",
       "      <td>False</td>\n",
       "      <td>False</td>\n",
       "      <td>False</td>\n",
       "      <td>False</td>\n",
       "      <td>False</td>\n",
       "      <td>False</td>\n",
       "      <td>False</td>\n",
       "      <td>False</td>\n",
       "      <td>False</td>\n",
       "    </tr>\n",
       "    <tr>\n",
       "      <th>3</th>\n",
       "      <td>False</td>\n",
       "      <td>False</td>\n",
       "      <td>False</td>\n",
       "      <td>False</td>\n",
       "      <td>False</td>\n",
       "      <td>False</td>\n",
       "      <td>False</td>\n",
       "      <td>False</td>\n",
       "      <td>True</td>\n",
       "      <td>False</td>\n",
       "      <td>...</td>\n",
       "      <td>False</td>\n",
       "      <td>False</td>\n",
       "      <td>False</td>\n",
       "      <td>False</td>\n",
       "      <td>False</td>\n",
       "      <td>False</td>\n",
       "      <td>False</td>\n",
       "      <td>False</td>\n",
       "      <td>False</td>\n",
       "      <td>False</td>\n",
       "    </tr>\n",
       "    <tr>\n",
       "      <th>4</th>\n",
       "      <td>False</td>\n",
       "      <td>False</td>\n",
       "      <td>False</td>\n",
       "      <td>False</td>\n",
       "      <td>True</td>\n",
       "      <td>False</td>\n",
       "      <td>False</td>\n",
       "      <td>False</td>\n",
       "      <td>False</td>\n",
       "      <td>False</td>\n",
       "      <td>...</td>\n",
       "      <td>False</td>\n",
       "      <td>False</td>\n",
       "      <td>False</td>\n",
       "      <td>False</td>\n",
       "      <td>False</td>\n",
       "      <td>False</td>\n",
       "      <td>False</td>\n",
       "      <td>False</td>\n",
       "      <td>False</td>\n",
       "      <td>False</td>\n",
       "    </tr>\n",
       "  </tbody>\n",
       "</table>\n",
       "<p>5 rows × 67 columns</p>\n",
       "</div>"
      ]
     },
     "execution_count": 33,
     "metadata": {},
     "output_type": "execute_result"
    }
   ],
   "execution_count": 33
  },
  {
   "metadata": {
    "ExecuteTime": {
     "end_time": "2024-11-05T19:35:53.798817Z",
     "start_time": "2024-11-05T19:35:53.791202Z"
    }
   },
   "cell_type": "code",
   "source": "feature_columns = data.drop(columns=['trump'])",
   "id": "3b46e606f01c3aae",
   "outputs": [],
   "execution_count": 34
  },
  {
   "metadata": {
    "ExecuteTime": {
     "end_time": "2024-11-05T19:35:55.163257Z",
     "start_time": "2024-11-05T19:35:55.110858Z"
    }
   },
   "cell_type": "code",
   "source": [
    "# split the data\n",
    "X_train, X_test, y_train, y_test = train_test_split(feature_columns, data['trump'], test_size=0.2, stratify=data['trump'], random_state=42\n",
    ")\n",
    "\n",
    "\n",
    "print(\"X_train shape:\", X_train.shape)\n",
    "print(\"y_train distribution:\\n\", y_train.value_counts())"
   ],
   "id": "673662057e10b0",
   "outputs": [
    {
     "name": "stdout",
     "output_type": "stream",
     "text": [
      "X_train shape: (41193, 66)\n",
      "y_train distribution:\n",
      " trump\n",
      "UNE_UFE     9404\n",
      "OBE_ABE     7538\n",
      "SPADES      7080\n",
      "CLUBS       6924\n",
      "HEARTS      5138\n",
      "DIAMONDS    5109\n",
      "Name: count, dtype: int64\n"
     ]
    }
   ],
   "execution_count": 35
  },
  {
   "metadata": {
    "ExecuteTime": {
     "end_time": "2024-11-05T19:35:59.118924Z",
     "start_time": "2024-11-05T19:35:59.115046Z"
    }
   },
   "cell_type": "code",
   "source": "labels = ['DIAMONDS', 'HEARTS', 'SPADES', 'CLUBS', 'OBE_ABE', 'UNE_UFE']\n",
   "id": "4bbd8a41007e82c9",
   "outputs": [],
   "execution_count": 36
  },
  {
   "metadata": {
    "ExecuteTime": {
     "end_time": "2024-11-05T19:40:16.281628Z",
     "start_time": "2024-11-05T19:40:16.263812Z"
    }
   },
   "cell_type": "code",
   "source": [
    "# Encode the 'trump' target variable\n",
    "label_encoder = LabelEncoder()\n",
    "\n",
    "y_train_encoded = label_encoder.fit_transform(y_train)\n",
    "y_test_encoded = label_encoder.transform(y_test)    \n",
    "\n",
    "# Convert encoded targets to tensors\n",
    "y_train_tensor = torch.tensor(y_train_encoded, dtype=torch.long)\n",
    "y_test_tensor = torch.tensor(y_test_encoded, dtype=torch.long)\n",
    "\n",
    "# Convert data to PyTorch tensors\n",
    "X_train_tensor = torch.tensor(X_train.values, dtype=torch.float32)\n",
    "X_test_tensor = torch.tensor(X_test.values, dtype=torch.float32)\n",
    "\n",
    "\n",
    "# Define Dataset and DataLoader\n",
    "train_dataset = TensorDataset(X_train_tensor, y_train_tensor)\n",
    "test_dataset = TensorDataset(X_test_tensor, y_test_tensor)\n",
    "train_loader = DataLoader(train_dataset, batch_size=64, shuffle=True)\n",
    "test_loader = DataLoader(test_dataset, batch_size=64, shuffle=False)\n",
    "\n"
   ],
   "id": "e602580f01500c7a",
   "outputs": [],
   "execution_count": 37
  },
  {
   "metadata": {
    "ExecuteTime": {
     "end_time": "2024-11-05T19:40:17.077797Z",
     "start_time": "2024-11-05T19:40:17.062104Z"
    }
   },
   "cell_type": "code",
   "source": [
    "# Initialize model, loss function, and optimizer with updated input_size\n",
    "\n",
    "class_weights = compute_class_weight('balanced', classes=np.unique(y_train_encoded), y=y_train_encoded)\n",
    "class_weights_tensor = torch.tensor(class_weights, dtype=torch.float32)\n",
    "\n",
    "input_size = X_train.shape[1]  # Confirm this includes all features (66 in total)\n",
    "output_size = len(set(y_train))  # Number of unique classes in 'trump'\n",
    "model = TrumpPredictorNN(input_size, output_size)\n",
    "criterion = nn.CrossEntropyLoss(weight=class_weights_tensor)\n",
    "optimizer = optim.SGD(model.parameters(), lr=0.001, momentum=0.9)\n"
   ],
   "id": "9e657c6a14a46b78",
   "outputs": [],
   "execution_count": 38
  },
  {
   "metadata": {
    "ExecuteTime": {
     "end_time": "2024-11-05T19:40:17.759011Z",
     "start_time": "2024-11-05T19:40:17.753332Z"
    }
   },
   "cell_type": "code",
   "source": [
    "def evaluate_model(model, test_loader):\n",
    "    model.eval()\n",
    "    total_loss = 0  # Initialize total loss for validation\n",
    "    with torch.no_grad():\n",
    "        for X_batch, y_batch in test_loader:\n",
    "            outputs = model(X_batch)\n",
    "            loss = criterion(outputs, y_batch)\n",
    "            # Accumulate the loss\n",
    "            total_loss += loss.item()\n",
    "    # Calculate average validation loss\n",
    "    average_loss = total_loss / len(test_loader)\n",
    "    return average_loss"
   ],
   "id": "42f0eb02e299b925",
   "outputs": [],
   "execution_count": 39
  },
  {
   "metadata": {
    "ExecuteTime": {
     "end_time": "2024-11-05T19:40:21.604874Z",
     "start_time": "2024-11-05T19:40:21.595618Z"
    }
   },
   "cell_type": "code",
   "source": [
    "# Training function\n",
    "\n",
    "training_losses = []\n",
    "validation_losses = []\n",
    "num_epochs = 40\n",
    "\n",
    "# Training function with average loss calculation and validation\n",
    "def train_model(model, train_loader, test_loader, num_epochs):\n",
    "    for epoch in range(num_epochs):\n",
    "        model.train()\n",
    "        total_train_loss = 0  # Initialize total training loss\n",
    "        for X_batch, y_batch in train_loader:\n",
    "            # Zero the gradients\n",
    "            optimizer.zero_grad()\n",
    "            # Forward pass\n",
    "            outputs = model(X_batch)\n",
    "            # Compute loss\n",
    "            loss = criterion(outputs, y_batch)\n",
    "            # Backward pass\n",
    "            loss.backward()\n",
    "            # Update weights\n",
    "            optimizer.step()\n",
    "            # Accumulate training loss\n",
    "            total_train_loss += loss.item()\n",
    "        # Calculate average training loss\n",
    "        average_train_loss = total_train_loss / len(train_loader)\n",
    "        \n",
    "        # Compute validation loss\n",
    "        val_loss = evaluate_model(model, test_loader)\n",
    "        \n",
    "        # After calculating average losses\n",
    "        training_losses.append(average_train_loss)\n",
    "        validation_losses.append(val_loss)\n",
    "        \n",
    "        # Print losses\n",
    "        print(f\"Epoch {epoch + 1}/{num_epochs}, Training Loss: {average_train_loss:.4f}, Validation Loss: {val_loss:.4f}\")\n"
   ],
   "id": "dc6f27847385360",
   "outputs": [],
   "execution_count": 40
  },
  {
   "metadata": {
    "ExecuteTime": {
     "end_time": "2024-11-05T19:41:12.827828Z",
     "start_time": "2024-11-05T19:40:23.589157Z"
    }
   },
   "cell_type": "code",
   "source": [
    "# Training the model\n",
    "train_model(model, train_loader, test_loader, num_epochs)"
   ],
   "id": "132981104a3a98",
   "outputs": [
    {
     "name": "stdout",
     "output_type": "stream",
     "text": [
      "Epoch 1/40, Training Loss: 1.3694, Validation Loss: 0.7609\n",
      "Epoch 2/40, Training Loss: 0.8769, Validation Loss: 0.6160\n",
      "Epoch 3/40, Training Loss: 0.7632, Validation Loss: 0.5886\n",
      "Epoch 4/40, Training Loss: 0.7032, Validation Loss: 0.5758\n",
      "Epoch 5/40, Training Loss: 0.6772, Validation Loss: 0.5649\n",
      "Epoch 6/40, Training Loss: 0.6567, Validation Loss: 0.5602\n",
      "Epoch 7/40, Training Loss: 0.6426, Validation Loss: 0.5543\n",
      "Epoch 8/40, Training Loss: 0.6273, Validation Loss: 0.5511\n",
      "Epoch 9/40, Training Loss: 0.6190, Validation Loss: 0.5491\n",
      "Epoch 10/40, Training Loss: 0.6091, Validation Loss: 0.5443\n",
      "Epoch 11/40, Training Loss: 0.6082, Validation Loss: 0.5471\n",
      "Epoch 12/40, Training Loss: 0.5969, Validation Loss: 0.5429\n",
      "Epoch 13/40, Training Loss: 0.5955, Validation Loss: 0.5511\n",
      "Epoch 14/40, Training Loss: 0.5922, Validation Loss: 0.5408\n",
      "Epoch 15/40, Training Loss: 0.5883, Validation Loss: 0.5407\n",
      "Epoch 16/40, Training Loss: 0.5842, Validation Loss: 0.5388\n",
      "Epoch 17/40, Training Loss: 0.5822, Validation Loss: 0.5375\n",
      "Epoch 18/40, Training Loss: 0.5760, Validation Loss: 0.5346\n",
      "Epoch 19/40, Training Loss: 0.5786, Validation Loss: 0.5346\n",
      "Epoch 20/40, Training Loss: 0.5751, Validation Loss: 0.5402\n",
      "Epoch 21/40, Training Loss: 0.5713, Validation Loss: 0.5350\n",
      "Epoch 22/40, Training Loss: 0.5700, Validation Loss: 0.5360\n",
      "Epoch 23/40, Training Loss: 0.5677, Validation Loss: 0.5357\n",
      "Epoch 24/40, Training Loss: 0.5673, Validation Loss: 0.5331\n",
      "Epoch 25/40, Training Loss: 0.5662, Validation Loss: 0.5353\n",
      "Epoch 26/40, Training Loss: 0.5586, Validation Loss: 0.5332\n",
      "Epoch 27/40, Training Loss: 0.5589, Validation Loss: 0.5330\n",
      "Epoch 28/40, Training Loss: 0.5597, Validation Loss: 0.5301\n",
      "Epoch 29/40, Training Loss: 0.5593, Validation Loss: 0.5300\n",
      "Epoch 30/40, Training Loss: 0.5568, Validation Loss: 0.5285\n",
      "Epoch 31/40, Training Loss: 0.5546, Validation Loss: 0.5300\n",
      "Epoch 32/40, Training Loss: 0.5541, Validation Loss: 0.5296\n",
      "Epoch 33/40, Training Loss: 0.5538, Validation Loss: 0.5296\n",
      "Epoch 34/40, Training Loss: 0.5514, Validation Loss: 0.5283\n",
      "Epoch 35/40, Training Loss: 0.5522, Validation Loss: 0.5280\n",
      "Epoch 36/40, Training Loss: 0.5498, Validation Loss: 0.5287\n",
      "Epoch 37/40, Training Loss: 0.5505, Validation Loss: 0.5285\n",
      "Epoch 38/40, Training Loss: 0.5508, Validation Loss: 0.5295\n",
      "Epoch 39/40, Training Loss: 0.5476, Validation Loss: 0.5262\n",
      "Epoch 40/40, Training Loss: 0.5454, Validation Loss: 0.5301\n"
     ]
    }
   ],
   "execution_count": 41
  },
  {
   "metadata": {
    "ExecuteTime": {
     "end_time": "2024-11-05T19:41:16.288419Z",
     "start_time": "2024-11-05T19:41:16.129312Z"
    }
   },
   "cell_type": "code",
   "source": [
    "# After training is complete\n",
    "plt.figure(figsize=(8, 6))\n",
    "plt.plot(range(1, num_epochs + 1), training_losses, label='Training Loss')\n",
    "plt.plot(range(1, num_epochs + 1), validation_losses, label='Validation Loss')\n",
    "plt.xlabel('Epochs')\n",
    "plt.ylabel('Loss')\n",
    "plt.title('Training and Validation Loss over Epochs')\n",
    "plt.legend()\n",
    "plt.show()"
   ],
   "id": "fafc9958c7f187fd",
   "outputs": [
    {
     "data": {
      "text/plain": [
       "<Figure size 800x600 with 1 Axes>"
      ],
      "image/png": "[encoded data removed]"
     },
     "metadata": {},
     "output_type": "display_data"
    }
   ],
   "execution_count": 42
  },
  {
   "metadata": {
    "ExecuteTime": {
     "end_time": "2024-11-05T19:41:19.507258Z",
     "start_time": "2024-11-05T19:41:19.503196Z"
    }
   },
   "cell_type": "code",
   "source": [
    "def predict(model, X):\n",
    "    model.eval()\n",
    "    with torch.no_grad():\n",
    "        outputs = model(X)\n",
    "        _, predictions = torch.max(outputs, 1)\n",
    "    return predictions\n"
   ],
   "id": "48c76c79f68af241",
   "outputs": [],
   "execution_count": 43
  },
  {
   "metadata": {
    "ExecuteTime": {
     "end_time": "2024-11-05T19:41:21.716809Z",
     "start_time": "2024-11-05T19:41:21.269712Z"
    }
   },
   "cell_type": "code",
   "source": [
    "# Ensure the model is in evaluation mode\n",
    "model.eval()\n",
    "\n",
    "# Lists to store true labels and predictions\n",
    "all_targets = []\n",
    "all_preds = []\n",
    "\n",
    "with torch.no_grad():\n",
    "    for X_batch, y_batch in test_loader:\n",
    "        outputs = model(X_batch)\n",
    "        _, preds = torch.max(outputs, 1)\n",
    "        all_targets.extend(y_batch.cpu().numpy())\n",
    "        all_preds.extend(preds.cpu().numpy())\n",
    "\n",
    "\n",
    "# Compute confusion matrix\n",
    "cm = confusion_matrix(all_targets, all_preds)\n",
    "\n",
    "# Use label encoder classes, which now excludes 'PUSH'\n",
    "labels = label_encoder.classes_\n",
    "\n",
    "# Plot confusion matrix\n",
    "plt.figure(figsize=(10, 8))\n",
    "sns.heatmap(cm, annot=True, fmt='d', xticklabels=labels, yticklabels=labels, cmap='Blues')\n",
    "\n",
    "plt.ylabel('True Labels')\n",
    "plt.xlabel('Predicted Labels')\n",
    "plt.title('Confusion Matrix')\n",
    "plt.show()\n"
   ],
   "id": "a4513472efc150a1",
   "outputs": [
    {
     "data": {
      "text/plain": [
       "<Figure size 1000x800 with 2 Axes>"
      ],
      "image/png": "[encoded data removed]"
     },
     "metadata": {},
     "output_type": "display_data"
    }
   ],
   "execution_count": 44
  },
  {
   "metadata": {
    "ExecuteTime": {
     "end_time": "2024-11-05T19:43:13.462010Z",
     "start_time": "2024-11-05T19:43:13.454118Z"
    }
   },
   "cell_type": "code",
   "source": [
    "# Save the entire model\n",
    "torch.save(model, 'models/trump_predictor.pth')"
   ],
   "id": "2343b2c908699fe4",
   "outputs": [],
   "execution_count": 45
  },
  {
   "metadata": {
    "ExecuteTime": {
     "end_time": "2024-11-05T19:43:14.676786Z",
     "start_time": "2024-11-05T19:43:14.669311Z"
    }
   },
   "cell_type": "code",
   "source": [
    "# Save the label encoder\n",
    "with open('encoder/label_encoder.pkl', 'wb') as f:\n",
    "    pickle.dump(label_encoder, f)\n"
   ],
   "id": "ecddd1f286b7664f",
   "outputs": [],
   "execution_count": 46
  },
  {
   "metadata": {
    "ExecuteTime": {
     "end_time": "2024-10-31T15:48:31.414758800Z",
     "start_time": "2024-10-31T08:56:50.152539Z"
    }
   },
   "cell_type": "code",
   "source": "print(X_train)",
   "id": "e86e37033eb4f81",
   "outputs": [
    {
     "name": "stdout",
     "output_type": "stream",
     "text": [
      "           DA     DK     DQ     DJ    D10     D9     D8     D7     D6     HA  \\\n",
      "101697  False  False  False  False  False  False  False  False  False  False   \n",
      "226689  False  False  False  False  False  False   True  False   True   True   \n",
      "41818    True   True  False  False  False  False  False  False   True   True   \n",
      "121525  False   True  False  False   True  False  False  False  False  False   \n",
      "43035   False  False  False   True  False  False  False  False  False  False   \n",
      "...       ...    ...    ...    ...    ...    ...    ...    ...    ...    ...   \n",
      "227177  False   True  False  False  False  False  False   True  False  False   \n",
      "11043   False  False  False  False  False  False  False   True   True  False   \n",
      "34206   False  False  False  False   True  False  False   True  False   True   \n",
      "212374   True  False  False  False   True   True  False  False  False  False   \n",
      "105154  False  False  False  False   True  False   True  False  False  False   \n",
      "\n",
      "        ...  H_9A_and_3_more  H_J9A  H_J9_plus_card_and_2_other_aces  \\\n",
      "101697  ...            False  False                            False   \n",
      "226689  ...            False  False                            False   \n",
      "41818   ...            False  False                            False   \n",
      "121525  ...            False  False                            False   \n",
      "43035   ...            False  False                            False   \n",
      "...     ...              ...    ...                              ...   \n",
      "227177  ...            False  False                            False   \n",
      "11043   ...            False  False                            False   \n",
      "34206   ...            False  False                            False   \n",
      "212374  ...            False  False                            False   \n",
      "105154  ...            False  False                            False   \n",
      "\n",
      "        S_9A_and_3_more  S_J9A  S_J9_plus_card_and_2_other_aces  \\\n",
      "101697            False  False                            False   \n",
      "226689            False  False                            False   \n",
      "41818             False  False                            False   \n",
      "121525            False  False                            False   \n",
      "43035             False  False                            False   \n",
      "...                 ...    ...                              ...   \n",
      "227177            False  False                            False   \n",
      "11043             False  False                            False   \n",
      "34206             False  False                            False   \n",
      "212374            False  False                            False   \n",
      "105154            False  False                            False   \n",
      "\n",
      "        C_9A_and_3_more  C_J9A  C_J9_plus_card_and_2_other_aces  \\\n",
      "101697            False  False                            False   \n",
      "226689            False  False                            False   \n",
      "41818             False  False                            False   \n",
      "121525            False  False                            False   \n",
      "43035             False  False                            False   \n",
      "...                 ...    ...                              ...   \n",
      "227177            False  False                            False   \n",
      "11043             False  False                            False   \n",
      "34206             False  False                            False   \n",
      "212374            False  False                            False   \n",
      "105154            False  False                            False   \n",
      "\n",
      "        any_specified_feature_true  \n",
      "101697                        True  \n",
      "226689                       False  \n",
      "41818                         True  \n",
      "121525                        True  \n",
      "43035                        False  \n",
      "...                            ...  \n",
      "227177                       False  \n",
      "11043                        False  \n",
      "34206                        False  \n",
      "212374                       False  \n",
      "105154                       False  \n",
      "\n",
      "[185396 rows x 66 columns]\n"
     ]
    }
   ],
   "execution_count": 28
  }
 ],
 "metadata": {
  "kernelspec": {
   "display_name": "Python 3",
   "language": "python",
   "name": "python3"
  },
  "language_info": {
   "codemirror_mode": {
    "name": "ipython",
    "version": 2
   },
   "file_extension": ".py",
   "mimetype": "text/x-python",
   "name": "python",
   "nbconvert_exporter": "python",
   "pygments_lexer": "ipython2",
   "version": "2.7.6"
  }
 },
 "nbformat": 4,
 "nbformat_minor": 5
}
