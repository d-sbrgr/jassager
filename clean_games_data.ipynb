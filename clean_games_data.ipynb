{
 "cells": [
  {
   "cell_type": "code",
   "id": "initial_id",
   "metadata": {
    "collapsed": true,
    "ExecuteTime": {
     "end_time": "2024-12-06T15:12:05.255032Z",
     "start_time": "2024-12-06T15:12:05.248829Z"
    }
   },
   "source": [
    "import json\n",
    "import pandas as pd\n",
    "from pathlib import Path"
   ],
   "outputs": [],
   "execution_count": 46
  },
  {
   "metadata": {
    "ExecuteTime": {
     "end_time": "2024-12-06T15:12:05.319663Z",
     "start_time": "2024-12-06T15:12:05.270485Z"
    }
   },
   "cell_type": "code",
   "source": "stats = json.load(open('./data/stat/player_all_stat.json'))",
   "id": "b0f650640b784cea",
   "outputs": [],
   "execution_count": 47
  },
  {
   "metadata": {
    "ExecuteTime": {
     "end_time": "2024-12-06T15:12:05.359884Z",
     "start_time": "2024-12-06T15:12:05.341113Z"
    }
   },
   "cell_type": "code",
   "source": "df = pd.DataFrame(stats)",
   "id": "55ad6b449a080ccb",
   "outputs": [],
   "execution_count": 48
  },
  {
   "metadata": {
    "ExecuteTime": {
     "end_time": "2024-12-06T15:12:05.391911Z",
     "start_time": "2024-12-06T15:12:05.379516Z"
    }
   },
   "cell_type": "code",
   "source": [
    "total_recorded_games = df[\"nr\"].sum()\n",
    "\n",
    "def print_games_count(df: pd.DataFrame):\n",
    "    remaining_games = df[\"nr\"].sum()\n",
    "    print(f\"Remaining / total (%): {remaining_games} / {total_recorded_games} ({100 * remaining_games / total_recorded_games:.2f})\")"
   ],
   "id": "83f791aeede20811",
   "outputs": [],
   "execution_count": 49
  },
  {
   "metadata": {},
   "cell_type": "markdown",
   "source": "Remove anonymous players and players that average less than half of maximum points",
   "id": "558012a115f2eebd"
  },
  {
   "metadata": {
    "ExecuteTime": {
     "end_time": "2024-12-06T15:12:05.430083Z",
     "start_time": "2024-12-06T15:12:05.413150Z"
    }
   },
   "cell_type": "code",
   "source": [
    "df = df[(df[\"id\"] > 0) & (df[\"mean\"] >= 157 / 2)]\n",
    "print_games_count(df)"
   ],
   "id": "a45041432415b162",
   "outputs": [
    {
     "name": "stdout",
     "output_type": "stream",
     "text": [
      "Remaining / total (%): 2680927 / 7287512 (36.79)\n"
     ]
    }
   ],
   "execution_count": 50
  },
  {
   "metadata": {},
   "cell_type": "markdown",
   "source": "Show statistics on all non-anonymous players",
   "id": "780badec342a736c"
  },
  {
   "metadata": {
    "ExecuteTime": {
     "end_time": "2024-12-06T15:12:05.535534Z",
     "start_time": "2024-12-06T15:12:05.497120Z"
    }
   },
   "cell_type": "code",
   "source": "df.describe()",
   "id": "221a808f43ef0cb7",
   "outputs": [
    {
     "data": {
      "text/plain": [
       "                 id         mean          std            nr\n",
       "count   2023.000000  2023.000000  2023.000000   2023.000000\n",
       "mean   45283.501236    82.616613    42.341373   1325.223431\n",
       "std    27953.728597     5.464596     5.241301   2714.161758\n",
       "min        1.000000    78.500000     0.000000      1.000000\n",
       "25%    14723.000000    79.341487    41.114312     14.000000\n",
       "50%    52068.000000    80.535809    42.424945     91.000000\n",
       "75%    70963.500000    83.833333    43.571734   1494.500000\n",
       "max    88321.000000   140.000000    92.630988  24413.000000"
      ],
      "text/html": [
       "<div>\n",
       "<style scoped>\n",
       "    .dataframe tbody tr th:only-of-type {\n",
       "        vertical-align: middle;\n",
       "    }\n",
       "\n",
       "    .dataframe tbody tr th {\n",
       "        vertical-align: top;\n",
       "    }\n",
       "\n",
       "    .dataframe thead th {\n",
       "        text-align: right;\n",
       "    }\n",
       "</style>\n",
       "<table border=\"1\" class=\"dataframe\">\n",
       "  <thead>\n",
       "    <tr style=\"text-align: right;\">\n",
       "      <th></th>\n",
       "      <th>id</th>\n",
       "      <th>mean</th>\n",
       "      <th>std</th>\n",
       "      <th>nr</th>\n",
       "    </tr>\n",
       "  </thead>\n",
       "  <tbody>\n",
       "    <tr>\n",
       "      <th>count</th>\n",
       "      <td>2023.000000</td>\n",
       "      <td>2023.000000</td>\n",
       "      <td>2023.000000</td>\n",
       "      <td>2023.000000</td>\n",
       "    </tr>\n",
       "    <tr>\n",
       "      <th>mean</th>\n",
       "      <td>45283.501236</td>\n",
       "      <td>82.616613</td>\n",
       "      <td>42.341373</td>\n",
       "      <td>1325.223431</td>\n",
       "    </tr>\n",
       "    <tr>\n",
       "      <th>std</th>\n",
       "      <td>27953.728597</td>\n",
       "      <td>5.464596</td>\n",
       "      <td>5.241301</td>\n",
       "      <td>2714.161758</td>\n",
       "    </tr>\n",
       "    <tr>\n",
       "      <th>min</th>\n",
       "      <td>1.000000</td>\n",
       "      <td>78.500000</td>\n",
       "      <td>0.000000</td>\n",
       "      <td>1.000000</td>\n",
       "    </tr>\n",
       "    <tr>\n",
       "      <th>25%</th>\n",
       "      <td>14723.000000</td>\n",
       "      <td>79.341487</td>\n",
       "      <td>41.114312</td>\n",
       "      <td>14.000000</td>\n",
       "    </tr>\n",
       "    <tr>\n",
       "      <th>50%</th>\n",
       "      <td>52068.000000</td>\n",
       "      <td>80.535809</td>\n",
       "      <td>42.424945</td>\n",
       "      <td>91.000000</td>\n",
       "    </tr>\n",
       "    <tr>\n",
       "      <th>75%</th>\n",
       "      <td>70963.500000</td>\n",
       "      <td>83.833333</td>\n",
       "      <td>43.571734</td>\n",
       "      <td>1494.500000</td>\n",
       "    </tr>\n",
       "    <tr>\n",
       "      <th>max</th>\n",
       "      <td>88321.000000</td>\n",
       "      <td>140.000000</td>\n",
       "      <td>92.630988</td>\n",
       "      <td>24413.000000</td>\n",
       "    </tr>\n",
       "  </tbody>\n",
       "</table>\n",
       "</div>"
      ]
     },
     "execution_count": 51,
     "metadata": {},
     "output_type": "execute_result"
    }
   ],
   "execution_count": 51
  },
  {
   "metadata": {},
   "cell_type": "markdown",
   "source": "Set threshold for minimum number of games played to 75%, so we only keep the 25% of players who have played a large part of the games",
   "id": "6196e81b4d7bbd01"
  },
  {
   "metadata": {
    "ExecuteTime": {
     "end_time": "2024-12-06T15:12:05.617011Z",
     "start_time": "2024-12-06T15:12:05.605904Z"
    }
   },
   "cell_type": "code",
   "source": [
    "min_games = 1494.5\n",
    "df = df[df[\"nr\"] >= min_games]\n",
    "print_games_count(df)"
   ],
   "id": "3fe27e7f7075490b",
   "outputs": [
    {
     "name": "stdout",
     "output_type": "stream",
     "text": [
      "Remaining / total (%): 2382558 / 7287512 (32.69)\n"
     ]
    }
   ],
   "execution_count": 52
  },
  {
   "metadata": {},
   "cell_type": "markdown",
   "source": "Show statistics for remaining games",
   "id": "c803e9a5fc3aafc8"
  },
  {
   "metadata": {
    "ExecuteTime": {
     "end_time": "2024-12-06T15:12:05.731236Z",
     "start_time": "2024-12-06T15:12:05.694945Z"
    }
   },
   "cell_type": "code",
   "source": "df.describe()",
   "id": "f2f8692f003db7bc",
   "outputs": [
    {
     "data": {
      "text/plain": [
       "                 id        mean         std            nr\n",
       "count    506.000000  506.000000  506.000000    506.000000\n",
       "mean   42958.701581   79.632465   42.478889   4708.612648\n",
       "std    25284.656762    0.904516    0.548904   3721.986917\n",
       "min      421.000000   78.503758   40.944051   1495.000000\n",
       "25%    15017.750000   79.003743   42.178681   2148.000000\n",
       "50%    51846.000000   79.443663   42.460073   3254.500000\n",
       "75%    59350.250000   80.067166   42.767603   5845.000000\n",
       "max    87247.000000   84.898984   45.150600  24413.000000"
      ],
      "text/html": [
       "<div>\n",
       "<style scoped>\n",
       "    .dataframe tbody tr th:only-of-type {\n",
       "        vertical-align: middle;\n",
       "    }\n",
       "\n",
       "    .dataframe tbody tr th {\n",
       "        vertical-align: top;\n",
       "    }\n",
       "\n",
       "    .dataframe thead th {\n",
       "        text-align: right;\n",
       "    }\n",
       "</style>\n",
       "<table border=\"1\" class=\"dataframe\">\n",
       "  <thead>\n",
       "    <tr style=\"text-align: right;\">\n",
       "      <th></th>\n",
       "      <th>id</th>\n",
       "      <th>mean</th>\n",
       "      <th>std</th>\n",
       "      <th>nr</th>\n",
       "    </tr>\n",
       "  </thead>\n",
       "  <tbody>\n",
       "    <tr>\n",
       "      <th>count</th>\n",
       "      <td>506.000000</td>\n",
       "      <td>506.000000</td>\n",
       "      <td>506.000000</td>\n",
       "      <td>506.000000</td>\n",
       "    </tr>\n",
       "    <tr>\n",
       "      <th>mean</th>\n",
       "      <td>42958.701581</td>\n",
       "      <td>79.632465</td>\n",
       "      <td>42.478889</td>\n",
       "      <td>4708.612648</td>\n",
       "    </tr>\n",
       "    <tr>\n",
       "      <th>std</th>\n",
       "      <td>25284.656762</td>\n",
       "      <td>0.904516</td>\n",
       "      <td>0.548904</td>\n",
       "      <td>3721.986917</td>\n",
       "    </tr>\n",
       "    <tr>\n",
       "      <th>min</th>\n",
       "      <td>421.000000</td>\n",
       "      <td>78.503758</td>\n",
       "      <td>40.944051</td>\n",
       "      <td>1495.000000</td>\n",
       "    </tr>\n",
       "    <tr>\n",
       "      <th>25%</th>\n",
       "      <td>15017.750000</td>\n",
       "      <td>79.003743</td>\n",
       "      <td>42.178681</td>\n",
       "      <td>2148.000000</td>\n",
       "    </tr>\n",
       "    <tr>\n",
       "      <th>50%</th>\n",
       "      <td>51846.000000</td>\n",
       "      <td>79.443663</td>\n",
       "      <td>42.460073</td>\n",
       "      <td>3254.500000</td>\n",
       "    </tr>\n",
       "    <tr>\n",
       "      <th>75%</th>\n",
       "      <td>59350.250000</td>\n",
       "      <td>80.067166</td>\n",
       "      <td>42.767603</td>\n",
       "      <td>5845.000000</td>\n",
       "    </tr>\n",
       "    <tr>\n",
       "      <th>max</th>\n",
       "      <td>87247.000000</td>\n",
       "      <td>84.898984</td>\n",
       "      <td>45.150600</td>\n",
       "      <td>24413.000000</td>\n",
       "    </tr>\n",
       "  </tbody>\n",
       "</table>\n",
       "</div>"
      ]
     },
     "execution_count": 53,
     "metadata": {},
     "output_type": "execute_result"
    }
   ],
   "execution_count": 53
  },
  {
   "metadata": {
    "ExecuteTime": {
     "end_time": "2024-12-06T15:12:05.836962Z",
     "start_time": "2024-12-06T15:12:05.823777Z"
    }
   },
   "cell_type": "code",
   "source": "df.head()",
   "id": "796da514c1e5976f",
   "outputs": [
    {
     "data": {
      "text/plain": [
       "       id       mean        std     nr\n",
       "10  55302  80.104669  42.997449   9382\n",
       "11   5148  79.449837  42.014048   2452\n",
       "13  48103  78.964493  42.094382   6562\n",
       "16  71080  78.717350  42.761549   7925\n",
       "18  10776  78.690511  42.719069  12889"
      ],
      "text/html": [
       "<div>\n",
       "<style scoped>\n",
       "    .dataframe tbody tr th:only-of-type {\n",
       "        vertical-align: middle;\n",
       "    }\n",
       "\n",
       "    .dataframe tbody tr th {\n",
       "        vertical-align: top;\n",
       "    }\n",
       "\n",
       "    .dataframe thead th {\n",
       "        text-align: right;\n",
       "    }\n",
       "</style>\n",
       "<table border=\"1\" class=\"dataframe\">\n",
       "  <thead>\n",
       "    <tr style=\"text-align: right;\">\n",
       "      <th></th>\n",
       "      <th>id</th>\n",
       "      <th>mean</th>\n",
       "      <th>std</th>\n",
       "      <th>nr</th>\n",
       "    </tr>\n",
       "  </thead>\n",
       "  <tbody>\n",
       "    <tr>\n",
       "      <th>10</th>\n",
       "      <td>55302</td>\n",
       "      <td>80.104669</td>\n",
       "      <td>42.997449</td>\n",
       "      <td>9382</td>\n",
       "    </tr>\n",
       "    <tr>\n",
       "      <th>11</th>\n",
       "      <td>5148</td>\n",
       "      <td>79.449837</td>\n",
       "      <td>42.014048</td>\n",
       "      <td>2452</td>\n",
       "    </tr>\n",
       "    <tr>\n",
       "      <th>13</th>\n",
       "      <td>48103</td>\n",
       "      <td>78.964493</td>\n",
       "      <td>42.094382</td>\n",
       "      <td>6562</td>\n",
       "    </tr>\n",
       "    <tr>\n",
       "      <th>16</th>\n",
       "      <td>71080</td>\n",
       "      <td>78.717350</td>\n",
       "      <td>42.761549</td>\n",
       "      <td>7925</td>\n",
       "    </tr>\n",
       "    <tr>\n",
       "      <th>18</th>\n",
       "      <td>10776</td>\n",
       "      <td>78.690511</td>\n",
       "      <td>42.719069</td>\n",
       "      <td>12889</td>\n",
       "    </tr>\n",
       "  </tbody>\n",
       "</table>\n",
       "</div>"
      ]
     },
     "execution_count": 54,
     "metadata": {},
     "output_type": "execute_result"
    }
   ],
   "execution_count": 54
  },
  {
   "metadata": {
    "ExecuteTime": {
     "end_time": "2024-12-06T15:12:05.954922Z",
     "start_time": "2024-12-06T15:12:05.946052Z"
    }
   },
   "cell_type": "code",
   "source": "final_game_aggregation = Path(\"./data/games.json\")",
   "id": "6665807d80d7589c",
   "outputs": [],
   "execution_count": 55
  },
  {
   "metadata": {},
   "cell_type": "markdown",
   "source": "Save all games that have been played only by players from cleaned player data to json file",
   "id": "c40acbd90a9852af"
  },
  {
   "metadata": {
    "ExecuteTime": {
     "end_time": "2024-12-06T15:14:18.506873Z",
     "start_time": "2024-12-06T15:12:06.044775Z"
    }
   },
   "cell_type": "code",
   "source": [
    "n_games = 0\n",
    "games = []\n",
    "for file in Path(\"./data\").glob(\"**/*.txt\"):\n",
    "    print(file)\n",
    "    with open(file, \"r\") as f:\n",
    "        for line in f.readlines():\n",
    "            game = json.loads(line)\n",
    "            if sum([1 for p in game[\"player_ids\"] if p in df[\"id\"].values]) >= 4:\n",
    "                n_games += 1\n",
    "                games.append(game[\"game\"])\n",
    "with open(final_game_aggregation, \"w\") as o:\n",
    "    o.write(json.dumps(games))\n",
    "print(f\"Number of games: {n_games}\")"
   ],
   "id": "e49a39ee671b5f07",
   "outputs": [
    {
     "name": "stdout",
     "output_type": "stream",
     "text": [
      "data\\games\\jass_game_0001.txt\n",
      "data\\games\\jass_game_0002.txt\n",
      "data\\games\\jass_game_0003.txt\n",
      "data\\games\\jass_game_0004.txt\n",
      "data\\games\\jass_game_0005.txt\n",
      "data\\games\\jass_game_0006.txt\n",
      "data\\games\\jass_game_0007.txt\n",
      "data\\games\\jass_game_0008.txt\n",
      "data\\games\\jass_game_0009.txt\n",
      "data\\games\\jass_game_0010.txt\n",
      "data\\games\\jass_game_0011.txt\n",
      "data\\games\\jass_game_0012.txt\n",
      "data\\games\\jass_game_0013.txt\n",
      "data\\games\\jass_game_0014.txt\n",
      "data\\games\\jass_game_0015.txt\n",
      "data\\games\\jass_game_0016.txt\n",
      "data\\games\\jass_game_0017.txt\n",
      "data\\games\\jass_game_0018.txt\n",
      "data\\games\\jass_game_0019.txt\n",
      "Number of games: 58684\n"
     ]
    }
   ],
   "execution_count": 56
  }
 ],
 "metadata": {
  "kernelspec": {
   "display_name": "Python 3",
   "language": "python",
   "name": "python3"
  },
  "language_info": {
   "codemirror_mode": {
    "name": "ipython",
    "version": 2
   },
   "file_extension": ".py",
   "mimetype": "text/x-python",
   "name": "python",
   "nbconvert_exporter": "python",
   "pygments_lexer": "ipython2",
   "version": "2.7.6"
  }
 },
 "nbformat": 4,
 "nbformat_minor": 5
}
