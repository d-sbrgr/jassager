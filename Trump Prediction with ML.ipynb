{
 "cells": [
  {
   "cell_type": "markdown",
   "metadata": {},
   "source": [
    "You are given an excerpt of the log data from the [Swisslos](https://www.swisslos.ch) Jass servers collected between October 2017 and April 2018. In the Swiss card game [Jass](https://en.wikipedia.org/wiki/Jass), at the beginning of each round just after the cards have been dealt, the current player announces her choice of the trump mode from the options: diamonds, hearts, spades, club, obe-abe, une-ufe and push (only available when forehand). Use this information from human players to train a machine learning classifier in trump mode prediction."
   ]
  },
  {
   "cell_type": "code",
   "metadata": {
    "ExecuteTime": {
     "end_time": "2024-11-05T17:45:10.144636Z",
     "start_time": "2024-11-05T17:45:08.323933Z"
    }
   },
   "source": [
    "%matplotlib inline\n",
    "\n",
    "import math\n",
    "import numpy as np\n",
    "import pandas as pd\n",
    "import matplotlib.pyplot as plt\n",
    "\n",
    "import torch\n",
    "import torch.nn as nn\n",
    "import torch.optim as optim\n",
    "from torch.utils.data import DataLoader, TensorDataset\n",
    "\n",
    "from pathlib import Path"
   ],
   "outputs": [],
   "execution_count": 1
  },
  {
   "cell_type": "markdown",
   "metadata": {},
   "source": [
    "# Import & Prepare Data"
   ]
  },
  {
   "cell_type": "code",
   "metadata": {
    "ExecuteTime": {
     "end_time": "2024-11-05T17:45:49.649507Z",
     "start_time": "2024-11-05T17:45:49.645482Z"
    }
   },
   "source": "path_to_data = Path('jass_data')",
   "outputs": [],
   "execution_count": 2
  },
  {
   "cell_type": "code",
   "metadata": {
    "ExecuteTime": {
     "end_time": "2024-11-05T17:45:50.850425Z",
     "start_time": "2024-11-05T17:45:50.218761Z"
    }
   },
   "source": [
    "# Import only a fraction of data for efficient development and testing\n",
    "# data = pd.read_csv(path_to_data / '2018_10_18_trump.csv', header=None, nrows=6000)\n",
    "\n",
    "# Import all data in the final run\n",
    "data = pd.read_csv(path_to_data / '2018_10_18_trump.csv', header=None)\n",
    "\n",
    "data.head()"
   ],
   "outputs": [
    {
     "data": {
      "text/plain": [
       "   0   1   2   3   4   5   6   7   8   9   ...  29  30  31  32  33  34  35  \\\n",
       "0   0   0   0   1   1   0   1   1   0   0  ...   1   0   0   0   1   0   0   \n",
       "1   0   0   0   0   0   0   0   0   1   1  ...   0   1   0   0   0   1   0   \n",
       "2   1   0   0   1   0   0   0   0   0   0  ...   1   0   0   0   0   1   1   \n",
       "3   0   0   0   0   0   0   0   0   0   1  ...   0   0   1   1   0   0   0   \n",
       "4   0   1   0   0   0   0   0   0   1   1  ...   0   1   0   0   0   0   0   \n",
       "\n",
       "   36     37  38  \n",
       "0   0  53248   6  \n",
       "1   0   4613   5  \n",
       "2   0  68780   6  \n",
       "3   0  24555   5  \n",
       "4   1   8392   4  \n",
       "\n",
       "[5 rows x 39 columns]"
      ],
      "text/html": [
       "<div>\n",
       "<style scoped>\n",
       "    .dataframe tbody tr th:only-of-type {\n",
       "        vertical-align: middle;\n",
       "    }\n",
       "\n",
       "    .dataframe tbody tr th {\n",
       "        vertical-align: top;\n",
       "    }\n",
       "\n",
       "    .dataframe thead th {\n",
       "        text-align: right;\n",
       "    }\n",
       "</style>\n",
       "<table border=\"1\" class=\"dataframe\">\n",
       "  <thead>\n",
       "    <tr style=\"text-align: right;\">\n",
       "      <th></th>\n",
       "      <th>0</th>\n",
       "      <th>1</th>\n",
       "      <th>2</th>\n",
       "      <th>3</th>\n",
       "      <th>4</th>\n",
       "      <th>5</th>\n",
       "      <th>6</th>\n",
       "      <th>7</th>\n",
       "      <th>8</th>\n",
       "      <th>9</th>\n",
       "      <th>...</th>\n",
       "      <th>29</th>\n",
       "      <th>30</th>\n",
       "      <th>31</th>\n",
       "      <th>32</th>\n",
       "      <th>33</th>\n",
       "      <th>34</th>\n",
       "      <th>35</th>\n",
       "      <th>36</th>\n",
       "      <th>37</th>\n",
       "      <th>38</th>\n",
       "    </tr>\n",
       "  </thead>\n",
       "  <tbody>\n",
       "    <tr>\n",
       "      <th>0</th>\n",
       "      <td>0</td>\n",
       "      <td>0</td>\n",
       "      <td>0</td>\n",
       "      <td>1</td>\n",
       "      <td>1</td>\n",
       "      <td>0</td>\n",
       "      <td>1</td>\n",
       "      <td>1</td>\n",
       "      <td>0</td>\n",
       "      <td>0</td>\n",
       "      <td>...</td>\n",
       "      <td>1</td>\n",
       "      <td>0</td>\n",
       "      <td>0</td>\n",
       "      <td>0</td>\n",
       "      <td>1</td>\n",
       "      <td>0</td>\n",
       "      <td>0</td>\n",
       "      <td>0</td>\n",
       "      <td>53248</td>\n",
       "      <td>6</td>\n",
       "    </tr>\n",
       "    <tr>\n",
       "      <th>1</th>\n",
       "      <td>0</td>\n",
       "      <td>0</td>\n",
       "      <td>0</td>\n",
       "      <td>0</td>\n",
       "      <td>0</td>\n",
       "      <td>0</td>\n",
       "      <td>0</td>\n",
       "      <td>0</td>\n",
       "      <td>1</td>\n",
       "      <td>1</td>\n",
       "      <td>...</td>\n",
       "      <td>0</td>\n",
       "      <td>1</td>\n",
       "      <td>0</td>\n",
       "      <td>0</td>\n",
       "      <td>0</td>\n",
       "      <td>1</td>\n",
       "      <td>0</td>\n",
       "      <td>0</td>\n",
       "      <td>4613</td>\n",
       "      <td>5</td>\n",
       "    </tr>\n",
       "    <tr>\n",
       "      <th>2</th>\n",
       "      <td>1</td>\n",
       "      <td>0</td>\n",
       "      <td>0</td>\n",
       "      <td>1</td>\n",
       "      <td>0</td>\n",
       "      <td>0</td>\n",
       "      <td>0</td>\n",
       "      <td>0</td>\n",
       "      <td>0</td>\n",
       "      <td>0</td>\n",
       "      <td>...</td>\n",
       "      <td>1</td>\n",
       "      <td>0</td>\n",
       "      <td>0</td>\n",
       "      <td>0</td>\n",
       "      <td>0</td>\n",
       "      <td>1</td>\n",
       "      <td>1</td>\n",
       "      <td>0</td>\n",
       "      <td>68780</td>\n",
       "      <td>6</td>\n",
       "    </tr>\n",
       "    <tr>\n",
       "      <th>3</th>\n",
       "      <td>0</td>\n",
       "      <td>0</td>\n",
       "      <td>0</td>\n",
       "      <td>0</td>\n",
       "      <td>0</td>\n",
       "      <td>0</td>\n",
       "      <td>0</td>\n",
       "      <td>0</td>\n",
       "      <td>0</td>\n",
       "      <td>1</td>\n",
       "      <td>...</td>\n",
       "      <td>0</td>\n",
       "      <td>0</td>\n",
       "      <td>1</td>\n",
       "      <td>1</td>\n",
       "      <td>0</td>\n",
       "      <td>0</td>\n",
       "      <td>0</td>\n",
       "      <td>0</td>\n",
       "      <td>24555</td>\n",
       "      <td>5</td>\n",
       "    </tr>\n",
       "    <tr>\n",
       "      <th>4</th>\n",
       "      <td>0</td>\n",
       "      <td>1</td>\n",
       "      <td>0</td>\n",
       "      <td>0</td>\n",
       "      <td>0</td>\n",
       "      <td>0</td>\n",
       "      <td>0</td>\n",
       "      <td>0</td>\n",
       "      <td>1</td>\n",
       "      <td>1</td>\n",
       "      <td>...</td>\n",
       "      <td>0</td>\n",
       "      <td>1</td>\n",
       "      <td>0</td>\n",
       "      <td>0</td>\n",
       "      <td>0</td>\n",
       "      <td>0</td>\n",
       "      <td>0</td>\n",
       "      <td>1</td>\n",
       "      <td>8392</td>\n",
       "      <td>4</td>\n",
       "    </tr>\n",
       "  </tbody>\n",
       "</table>\n",
       "<p>5 rows × 39 columns</p>\n",
       "</div>"
      ]
     },
     "execution_count": 3,
     "metadata": {},
     "output_type": "execute_result"
    }
   ],
   "execution_count": 3
  },
  {
   "cell_type": "code",
   "metadata": {
    "ExecuteTime": {
     "end_time": "2024-11-05T17:45:50.906769Z",
     "start_time": "2024-11-05T17:45:50.901211Z"
    }
   },
   "source": [
    "# Display number of rows and columns\n",
    "data.shape"
   ],
   "outputs": [
    {
     "data": {
      "text/plain": [
       "(359825, 39)"
      ]
     },
     "execution_count": 4,
     "metadata": {},
     "output_type": "execute_result"
    }
   ],
   "execution_count": 4
  },
  {
   "cell_type": "markdown",
   "metadata": {},
   "source": [
    "## Rename Columns for better Interpretability"
   ]
  },
  {
   "cell_type": "code",
   "metadata": {
    "ExecuteTime": {
     "end_time": "2024-11-05T17:45:51.638645Z",
     "start_time": "2024-11-05T17:45:51.629800Z"
    }
   },
   "source": [
    "cards = [\n",
    "# Diamonds\n",
    "'DA','DK','DQ','DJ','D10','D9','D8','D7','D6',\n",
    "# Hearts\n",
    "'HA','HK','HQ','HJ','H10','H9','H8','H7','H6',\n",
    "# Spades\n",
    "'SA','SK','SQ','SJ','S10','S9','S8','S7','S6',\n",
    "# Clubs\n",
    "'CA','CK','CQ','CJ','C10','C9','C8','C7','C6'\n",
    "]\n",
    "\n",
    "# Forehand (yes = 1, no = 0)\n",
    "forehand = ['FH']\n",
    "\n",
    "user  = ['user']\n",
    "trump = ['trump']\n",
    "\n",
    "data.columns = cards + forehand + user + trump\n",
    "print(data.head())"
   ],
   "outputs": [
    {
     "name": "stdout",
     "output_type": "stream",
     "text": [
      "   DA  DK  DQ  DJ  D10  D9  D8  D7  D6  HA  ...  CQ  CJ  C10  C9  C8  C7  C6  \\\n",
      "0   0   0   0   1    1   0   1   1   0   0  ...   1   0    0   0   1   0   0   \n",
      "1   0   0   0   0    0   0   0   0   1   1  ...   0   1    0   0   0   1   0   \n",
      "2   1   0   0   1    0   0   0   0   0   0  ...   1   0    0   0   0   1   1   \n",
      "3   0   0   0   0    0   0   0   0   0   1  ...   0   0    1   1   0   0   0   \n",
      "4   0   1   0   0    0   0   0   0   1   1  ...   0   1    0   0   0   0   0   \n",
      "\n",
      "   FH   user  trump  \n",
      "0   0  53248      6  \n",
      "1   0   4613      5  \n",
      "2   0  68780      6  \n",
      "3   0  24555      5  \n",
      "4   1   8392      4  \n",
      "\n",
      "[5 rows x 39 columns]\n"
     ]
    }
   ],
   "execution_count": 5
  },
  {
   "metadata": {
    "ExecuteTime": {
     "end_time": "2024-11-05T17:45:52.187548Z",
     "start_time": "2024-11-05T17:45:52.184521Z"
    }
   },
   "cell_type": "code",
   "source": "",
   "outputs": [],
   "execution_count": null
  },
  {
   "cell_type": "markdown",
   "metadata": {},
   "source": [
    "## Remove User Information"
   ]
  },
  {
   "cell_type": "markdown",
   "metadata": {},
   "source": [
    "Later on you may want to keep this information. For now, we remove it just to avoid mistakes."
   ]
  },
  {
   "metadata": {
    "ExecuteTime": {
     "end_time": "2024-11-05T17:45:52.695422Z",
     "start_time": "2024-11-05T17:45:52.690751Z"
    }
   },
   "cell_type": "code",
   "source": "# data.drop('user', axis='columns', inplace=True)",
   "outputs": [],
   "execution_count": 6
  },
  {
   "metadata": {
    "ExecuteTime": {
     "end_time": "2024-11-05T17:45:53.019565Z",
     "start_time": "2024-11-05T17:45:53.006503Z"
    }
   },
   "cell_type": "code",
   "source": "data.head(10)",
   "outputs": [
    {
     "data": {
      "text/plain": [
       "   DA  DK  DQ  DJ  D10  D9  D8  D7  D6  HA  ...  CQ  CJ  C10  C9  C8  C7  C6  \\\n",
       "0   0   0   0   1    1   0   1   1   0   0  ...   1   0    0   0   1   0   0   \n",
       "1   0   0   0   0    0   0   0   0   1   1  ...   0   1    0   0   0   1   0   \n",
       "2   1   0   0   1    0   0   0   0   0   0  ...   1   0    0   0   0   1   1   \n",
       "3   0   0   0   0    0   0   0   0   0   1  ...   0   0    1   1   0   0   0   \n",
       "4   0   1   0   0    0   0   0   0   1   1  ...   0   1    0   0   0   0   0   \n",
       "5   0   0   1   0    0   0   1   0   1   0  ...   0   0    0   0   0   0   0   \n",
       "6   1   1   0   1    1   0   0   0   0   0  ...   0   1    0   0   0   0   0   \n",
       "7   0   0   0   0    0   0   0   0   1   1  ...   0   0    0   1   0   0   1   \n",
       "8   0   1   1   0    0   0   1   0   1   0  ...   0   0    0   1   0   0   1   \n",
       "9   0   1   0   1    0   1   0   0   1   0  ...   0   1    0   0   0   1   0   \n",
       "\n",
       "   FH   user  trump  \n",
       "0   0  53248      6  \n",
       "1   0   4613      5  \n",
       "2   0  68780      6  \n",
       "3   0  24555      5  \n",
       "4   1   8392      4  \n",
       "5   1  53076      5  \n",
       "6   0  41630      6  \n",
       "7   0  78376      1  \n",
       "8   1  55544      5  \n",
       "9   1      0      0  \n",
       "\n",
       "[10 rows x 39 columns]"
      ],
      "text/html": [
       "<div>\n",
       "<style scoped>\n",
       "    .dataframe tbody tr th:only-of-type {\n",
       "        vertical-align: middle;\n",
       "    }\n",
       "\n",
       "    .dataframe tbody tr th {\n",
       "        vertical-align: top;\n",
       "    }\n",
       "\n",
       "    .dataframe thead th {\n",
       "        text-align: right;\n",
       "    }\n",
       "</style>\n",
       "<table border=\"1\" class=\"dataframe\">\n",
       "  <thead>\n",
       "    <tr style=\"text-align: right;\">\n",
       "      <th></th>\n",
       "      <th>DA</th>\n",
       "      <th>DK</th>\n",
       "      <th>DQ</th>\n",
       "      <th>DJ</th>\n",
       "      <th>D10</th>\n",
       "      <th>D9</th>\n",
       "      <th>D8</th>\n",
       "      <th>D7</th>\n",
       "      <th>D6</th>\n",
       "      <th>HA</th>\n",
       "      <th>...</th>\n",
       "      <th>CQ</th>\n",
       "      <th>CJ</th>\n",
       "      <th>C10</th>\n",
       "      <th>C9</th>\n",
       "      <th>C8</th>\n",
       "      <th>C7</th>\n",
       "      <th>C6</th>\n",
       "      <th>FH</th>\n",
       "      <th>user</th>\n",
       "      <th>trump</th>\n",
       "    </tr>\n",
       "  </thead>\n",
       "  <tbody>\n",
       "    <tr>\n",
       "      <th>0</th>\n",
       "      <td>0</td>\n",
       "      <td>0</td>\n",
       "      <td>0</td>\n",
       "      <td>1</td>\n",
       "      <td>1</td>\n",
       "      <td>0</td>\n",
       "      <td>1</td>\n",
       "      <td>1</td>\n",
       "      <td>0</td>\n",
       "      <td>0</td>\n",
       "      <td>...</td>\n",
       "      <td>1</td>\n",
       "      <td>0</td>\n",
       "      <td>0</td>\n",
       "      <td>0</td>\n",
       "      <td>1</td>\n",
       "      <td>0</td>\n",
       "      <td>0</td>\n",
       "      <td>0</td>\n",
       "      <td>53248</td>\n",
       "      <td>6</td>\n",
       "    </tr>\n",
       "    <tr>\n",
       "      <th>1</th>\n",
       "      <td>0</td>\n",
       "      <td>0</td>\n",
       "      <td>0</td>\n",
       "      <td>0</td>\n",
       "      <td>0</td>\n",
       "      <td>0</td>\n",
       "      <td>0</td>\n",
       "      <td>0</td>\n",
       "      <td>1</td>\n",
       "      <td>1</td>\n",
       "      <td>...</td>\n",
       "      <td>0</td>\n",
       "      <td>1</td>\n",
       "      <td>0</td>\n",
       "      <td>0</td>\n",
       "      <td>0</td>\n",
       "      <td>1</td>\n",
       "      <td>0</td>\n",
       "      <td>0</td>\n",
       "      <td>4613</td>\n",
       "      <td>5</td>\n",
       "    </tr>\n",
       "    <tr>\n",
       "      <th>2</th>\n",
       "      <td>1</td>\n",
       "      <td>0</td>\n",
       "      <td>0</td>\n",
       "      <td>1</td>\n",
       "      <td>0</td>\n",
       "      <td>0</td>\n",
       "      <td>0</td>\n",
       "      <td>0</td>\n",
       "      <td>0</td>\n",
       "      <td>0</td>\n",
       "      <td>...</td>\n",
       "      <td>1</td>\n",
       "      <td>0</td>\n",
       "      <td>0</td>\n",
       "      <td>0</td>\n",
       "      <td>0</td>\n",
       "      <td>1</td>\n",
       "      <td>1</td>\n",
       "      <td>0</td>\n",
       "      <td>68780</td>\n",
       "      <td>6</td>\n",
       "    </tr>\n",
       "    <tr>\n",
       "      <th>3</th>\n",
       "      <td>0</td>\n",
       "      <td>0</td>\n",
       "      <td>0</td>\n",
       "      <td>0</td>\n",
       "      <td>0</td>\n",
       "      <td>0</td>\n",
       "      <td>0</td>\n",
       "      <td>0</td>\n",
       "      <td>0</td>\n",
       "      <td>1</td>\n",
       "      <td>...</td>\n",
       "      <td>0</td>\n",
       "      <td>0</td>\n",
       "      <td>1</td>\n",
       "      <td>1</td>\n",
       "      <td>0</td>\n",
       "      <td>0</td>\n",
       "      <td>0</td>\n",
       "      <td>0</td>\n",
       "      <td>24555</td>\n",
       "      <td>5</td>\n",
       "    </tr>\n",
       "    <tr>\n",
       "      <th>4</th>\n",
       "      <td>0</td>\n",
       "      <td>1</td>\n",
       "      <td>0</td>\n",
       "      <td>0</td>\n",
       "      <td>0</td>\n",
       "      <td>0</td>\n",
       "      <td>0</td>\n",
       "      <td>0</td>\n",
       "      <td>1</td>\n",
       "      <td>1</td>\n",
       "      <td>...</td>\n",
       "      <td>0</td>\n",
       "      <td>1</td>\n",
       "      <td>0</td>\n",
       "      <td>0</td>\n",
       "      <td>0</td>\n",
       "      <td>0</td>\n",
       "      <td>0</td>\n",
       "      <td>1</td>\n",
       "      <td>8392</td>\n",
       "      <td>4</td>\n",
       "    </tr>\n",
       "    <tr>\n",
       "      <th>5</th>\n",
       "      <td>0</td>\n",
       "      <td>0</td>\n",
       "      <td>1</td>\n",
       "      <td>0</td>\n",
       "      <td>0</td>\n",
       "      <td>0</td>\n",
       "      <td>1</td>\n",
       "      <td>0</td>\n",
       "      <td>1</td>\n",
       "      <td>0</td>\n",
       "      <td>...</td>\n",
       "      <td>0</td>\n",
       "      <td>0</td>\n",
       "      <td>0</td>\n",
       "      <td>0</td>\n",
       "      <td>0</td>\n",
       "      <td>0</td>\n",
       "      <td>0</td>\n",
       "      <td>1</td>\n",
       "      <td>53076</td>\n",
       "      <td>5</td>\n",
       "    </tr>\n",
       "    <tr>\n",
       "      <th>6</th>\n",
       "      <td>1</td>\n",
       "      <td>1</td>\n",
       "      <td>0</td>\n",
       "      <td>1</td>\n",
       "      <td>1</td>\n",
       "      <td>0</td>\n",
       "      <td>0</td>\n",
       "      <td>0</td>\n",
       "      <td>0</td>\n",
       "      <td>0</td>\n",
       "      <td>...</td>\n",
       "      <td>0</td>\n",
       "      <td>1</td>\n",
       "      <td>0</td>\n",
       "      <td>0</td>\n",
       "      <td>0</td>\n",
       "      <td>0</td>\n",
       "      <td>0</td>\n",
       "      <td>0</td>\n",
       "      <td>41630</td>\n",
       "      <td>6</td>\n",
       "    </tr>\n",
       "    <tr>\n",
       "      <th>7</th>\n",
       "      <td>0</td>\n",
       "      <td>0</td>\n",
       "      <td>0</td>\n",
       "      <td>0</td>\n",
       "      <td>0</td>\n",
       "      <td>0</td>\n",
       "      <td>0</td>\n",
       "      <td>0</td>\n",
       "      <td>1</td>\n",
       "      <td>1</td>\n",
       "      <td>...</td>\n",
       "      <td>0</td>\n",
       "      <td>0</td>\n",
       "      <td>0</td>\n",
       "      <td>1</td>\n",
       "      <td>0</td>\n",
       "      <td>0</td>\n",
       "      <td>1</td>\n",
       "      <td>0</td>\n",
       "      <td>78376</td>\n",
       "      <td>1</td>\n",
       "    </tr>\n",
       "    <tr>\n",
       "      <th>8</th>\n",
       "      <td>0</td>\n",
       "      <td>1</td>\n",
       "      <td>1</td>\n",
       "      <td>0</td>\n",
       "      <td>0</td>\n",
       "      <td>0</td>\n",
       "      <td>1</td>\n",
       "      <td>0</td>\n",
       "      <td>1</td>\n",
       "      <td>0</td>\n",
       "      <td>...</td>\n",
       "      <td>0</td>\n",
       "      <td>0</td>\n",
       "      <td>0</td>\n",
       "      <td>1</td>\n",
       "      <td>0</td>\n",
       "      <td>0</td>\n",
       "      <td>1</td>\n",
       "      <td>1</td>\n",
       "      <td>55544</td>\n",
       "      <td>5</td>\n",
       "    </tr>\n",
       "    <tr>\n",
       "      <th>9</th>\n",
       "      <td>0</td>\n",
       "      <td>1</td>\n",
       "      <td>0</td>\n",
       "      <td>1</td>\n",
       "      <td>0</td>\n",
       "      <td>1</td>\n",
       "      <td>0</td>\n",
       "      <td>0</td>\n",
       "      <td>1</td>\n",
       "      <td>0</td>\n",
       "      <td>...</td>\n",
       "      <td>0</td>\n",
       "      <td>1</td>\n",
       "      <td>0</td>\n",
       "      <td>0</td>\n",
       "      <td>0</td>\n",
       "      <td>1</td>\n",
       "      <td>0</td>\n",
       "      <td>1</td>\n",
       "      <td>0</td>\n",
       "      <td>0</td>\n",
       "    </tr>\n",
       "  </tbody>\n",
       "</table>\n",
       "<p>10 rows × 39 columns</p>\n",
       "</div>"
      ]
     },
     "execution_count": 7,
     "metadata": {},
     "output_type": "execute_result"
    }
   ],
   "execution_count": 7
  },
  {
   "cell_type": "markdown",
   "metadata": {},
   "source": [
    "## Adjust Datatypes"
   ]
  },
  {
   "cell_type": "code",
   "metadata": {
    "ExecuteTime": {
     "end_time": "2024-11-05T17:45:53.998464Z",
     "start_time": "2024-11-05T17:45:53.916325Z"
    }
   },
   "source": [
    "data.trump = data.trump.astype('category')\n",
    "data[cards + forehand] = data[cards + forehand].astype(bool)\n",
    "#data.dtypes"
   ],
   "outputs": [],
   "execution_count": 8
  },
  {
   "cell_type": "markdown",
   "metadata": {},
   "source": [
    "## Rename Target Category Values for better Interpretability"
   ]
  },
  {
   "cell_type": "code",
   "metadata": {
    "ExecuteTime": {
     "end_time": "2024-11-05T17:45:54.816244Z",
     "start_time": "2024-11-05T17:45:54.803049Z"
    }
   },
   "source": [
    "# Backward compatibility: Value 10 for PUSH was used in an older version by Swisslos\n",
    "\n",
    "data.trump = data.trump.cat.rename_categories({0: 'DIAMONDS', 1: 'HEARTS', 2: 'SPADES', 3:'CLUBS',\n",
    "                                  4: 'OBE_ABE', 5: 'UNE_UFE', 6: 'PUSH', 10: 'PUSH'})\n",
    "print(data.head())"
   ],
   "outputs": [
    {
     "name": "stdout",
     "output_type": "stream",
     "text": [
      "      DA     DK     DQ     DJ    D10     D9     D8     D7     D6     HA  ...  \\\n",
      "0  False  False  False   True   True  False   True   True  False  False  ...   \n",
      "1  False  False  False  False  False  False  False  False   True   True  ...   \n",
      "2   True  False  False   True  False  False  False  False  False  False  ...   \n",
      "3  False  False  False  False  False  False  False  False  False   True  ...   \n",
      "4  False   True  False  False  False  False  False  False   True   True  ...   \n",
      "\n",
      "      CQ     CJ    C10     C9     C8     C7     C6     FH   user    trump  \n",
      "0   True  False  False  False   True  False  False  False  53248     PUSH  \n",
      "1  False   True  False  False  False   True  False  False   4613  UNE_UFE  \n",
      "2   True  False  False  False  False   True   True  False  68780     PUSH  \n",
      "3  False  False   True   True  False  False  False  False  24555  UNE_UFE  \n",
      "4  False   True  False  False  False  False  False   True   8392  OBE_ABE  \n",
      "\n",
      "[5 rows x 39 columns]\n"
     ]
    }
   ],
   "execution_count": 9
  },
  {
   "metadata": {
    "ExecuteTime": {
     "end_time": "2024-11-05T17:45:55.873968Z",
     "start_time": "2024-11-05T17:45:55.865461Z"
    }
   },
   "cell_type": "code",
   "source": "filtered_df = data[(data['FH'] == True) & (data['trump'] == \"PUSH\")]\n",
   "outputs": [],
   "execution_count": 10
  },
  {
   "metadata": {
    "ExecuteTime": {
     "end_time": "2024-11-05T17:45:57.956519Z",
     "start_time": "2024-11-05T17:45:57.944419Z"
    }
   },
   "cell_type": "code",
   "source": [
    "count = ((data['FH'] == True) & (data['trump'] == \"PUSH\")).sum()\n",
    "print(\"Count of rows where FH is True and trump is PUSH:\", count)\n"
   ],
   "outputs": [
    {
     "name": "stdout",
     "output_type": "stream",
     "text": [
      "Count of rows where FH is True and trump is PUSH: 0\n"
     ]
    }
   ],
   "execution_count": 11
  },
  {
   "cell_type": "markdown",
   "metadata": {},
   "source": [
    "# Data Quality Assessment"
   ]
  },
  {
   "cell_type": "markdown",
   "metadata": {},
   "source": [
    "### Exercise: Sanity Check\n",
    "\n",
    "Each row in the data now corresponds to one hand of a player plus her trump mode selection. Verify that each hand contains exactly 9 cards."
   ]
  },
  {
   "cell_type": "code",
   "metadata": {
    "ExecuteTime": {
     "end_time": "2024-11-05T17:45:58.931187Z",
     "start_time": "2024-11-05T17:45:58.832959Z"
    }
   },
   "source": [
    "data['cards_count'] = data[cards].sum(axis=1)\n",
    "valid_hands = data['cards_count'] == 9  \n",
    "\n",
    "if valid_hands.all():\n",
    "    print(\"All hands contain exactly 9 cards.\")\n",
    "else:\n",
    "    print(\"There are hands that do not contain exactly 9 cards.\")\n",
    "    print(data[~valid_hands][['card_count'] + cards])"
   ],
   "outputs": [
    {
     "name": "stdout",
     "output_type": "stream",
     "text": [
      "All hands contain exactly 9 cards.\n"
     ]
    }
   ],
   "execution_count": 12
  },
  {
   "cell_type": "markdown",
   "metadata": {},
   "source": [
    "### Exercise: Statistical Fingerprint\n",
    "\n",
    "Swisslos claims to distribute cards randomly.\n",
    "* Verify that all card features roughly have the same mean and standard deviation.\n",
    "* Over a **large number of rounds**, we would expect similar percentages for diamonds, hearts, spades and clubs as selected Trump. Verify this claim.\n",
    "\n",
    "Hint: you may want to use [np.allclose(...)](https://docs.scipy.org/doc/numpy/reference/generated/numpy.allclose.html) in combination with an assert statement for automated checking.\n",
    "\n",
    "#### A note on randomness - not part of exercises: \n",
    "\n",
    "The above test is obviously a very poor guarantee of randomness. However, we perform such tests from the viewpoint of data quality rather than fairness. If you want to challenge the random number generator of Swisslos, use the NIST or Diehard test suite for randomness. Read more about random number tests <a href='https://gerhardt.ch/random.php'>here</a>. We have not done this ourselves and keep believing that the provider of Swiss lottery use a reasonable source of randomness even for online games :-)"
   ]
  },
  {
   "cell_type": "code",
   "metadata": {
    "ExecuteTime": {
     "end_time": "2024-11-05T17:46:00.818791Z",
     "start_time": "2024-11-05T17:46:00.622477Z"
    }
   },
   "source": [
    "# Calculate mean and standard deviation for each card\n",
    "means = data[cards].mean()\n",
    "std_devs = data[cards].std()\n"
   ],
   "outputs": [],
   "execution_count": 13
  },
  {
   "metadata": {
    "ExecuteTime": {
     "end_time": "2024-11-05T17:46:01.047812Z",
     "start_time": "2024-11-05T17:46:01.040748Z"
    }
   },
   "cell_type": "code",
   "source": "np.allclose(means, means.mean())",
   "outputs": [
    {
     "data": {
      "text/plain": [
       "False"
      ]
     },
     "execution_count": 14,
     "metadata": {},
     "output_type": "execute_result"
    }
   ],
   "execution_count": 14
  },
  {
   "metadata": {
    "ExecuteTime": {
     "end_time": "2024-11-05T17:46:01.541773Z",
     "start_time": "2024-11-05T17:46:01.531740Z"
    }
   },
   "cell_type": "code",
   "source": "np.allclose(std_devs, std_devs.mean())",
   "outputs": [
    {
     "data": {
      "text/plain": [
       "False"
      ]
     },
     "execution_count": 15,
     "metadata": {},
     "output_type": "execute_result"
    }
   ],
   "execution_count": 15
  },
  {
   "cell_type": "code",
   "metadata": {
    "ExecuteTime": {
     "end_time": "2024-11-05T17:46:02.374409Z",
     "start_time": "2024-11-05T17:46:02.364920Z"
    }
   },
   "source": [
    "data.trump.value_counts()"
   ],
   "outputs": [
    {
     "data": {
      "text/plain": [
       "trump\n",
       "PUSH        137554\n",
       "UNE_UFE      44653\n",
       "SPADES       40115\n",
       "CLUBS        39756\n",
       "OBE_ABE      35829\n",
       "HEARTS       31087\n",
       "DIAMONDS     30831\n",
       "Name: count, dtype: int64"
      ]
     },
     "execution_count": 16,
     "metadata": {},
     "output_type": "execute_result"
    }
   ],
   "execution_count": 16
  },
  {
   "metadata": {
    "ExecuteTime": {
     "end_time": "2024-11-05T17:46:02.756543Z",
     "start_time": "2024-11-05T17:46:02.741315Z"
    }
   },
   "cell_type": "code",
   "source": "",
   "outputs": [],
   "execution_count": null
  },
  {
   "cell_type": "markdown",
   "metadata": {},
   "source": [
    "Can you explain ...\n",
    "* the difference between Une-Ufe and Obe-Abe ?\n",
    "* the difference between {spades, clubs} and {hearts, diamonds}\n",
    "\n",
    "The fact that the values of the response are not distributed evenly has implications on the train-test split in the next section."
   ]
  },
  {
   "cell_type": "markdown",
   "metadata": {},
   "source": [
    "# Modelling and Prediction"
   ]
  },
  {
   "cell_type": "markdown",
   "metadata": {},
   "source": [
    "### Train-Test Split\n",
    "\n",
    "Split the available data into a training and a test set and put the test set aside for the final model evaluation. Use 20% of the data for testing, and set the random_state to 42 for reproducability. Since we found out that the classes are not distributed evenly, you need to stratify. Also, be aware that train_test_split() shuffles the data by default, which is what we want here (but not always, e.g. not in case of time series).\n",
    "\n",
    "Your result should be the four variables *X_train, X_test, y_train, y_test*."
   ]
  },
  {
   "cell_type": "code",
   "metadata": {
    "ExecuteTime": {
     "end_time": "2024-11-05T17:46:04.433379Z",
     "start_time": "2024-11-05T17:46:03.906213Z"
    }
   },
   "source": [
    "from sklearn.model_selection import train_test_split\n",
    "\n",
    "feature_columns = cards + forehand\n",
    "X_train, X_test, y_train, y_test = train_test_split(data[feature_columns], data.trump, test_size=0.2,\n",
    "                                                    stratify=data.trump, random_state=42)"
   ],
   "outputs": [],
   "execution_count": 17
  },
  {
   "cell_type": "markdown",
   "metadata": {},
   "source": [
    "## Baseline with a Logistic Regression Classifier\n",
    "\n",
    "We create a (linear) logistic regression classifier and evaluate it with cross validation."
   ]
  },
  {
   "cell_type": "code",
   "metadata": {
    "ExecuteTime": {
     "end_time": "2024-11-05T17:46:04.448199Z",
     "start_time": "2024-11-05T17:46:04.444386Z"
    }
   },
   "source": [
    "# from sklearn.linear_model import LogisticRegression\n",
    "# from sklearn.model_selection import cross_val_score\n",
    "# \n",
    "# classifier = LogisticRegression()\n",
    "# \n",
    "# # Note that we do not use the test set here !\n",
    "# result = cross_val_score(classifier, X_train, y_train, cv=5, n_jobs=-1)\n",
    "# \n",
    "# print(\"Mean accuracy over 5 folds is {:.4}\".format(np.mean(result)))"
   ],
   "outputs": [],
   "execution_count": 18
  },
  {
   "metadata": {
    "ExecuteTime": {
     "end_time": "2024-11-05T17:46:05.165594Z",
     "start_time": "2024-11-05T17:46:05.158773Z"
    }
   },
   "cell_type": "code",
   "source": "y_train.head()",
   "outputs": [
    {
     "data": {
      "text/plain": [
       "207217    HEARTS\n",
       "18232       PUSH\n",
       "226960    HEARTS\n",
       "128112      PUSH\n",
       "126859      PUSH\n",
       "Name: trump, dtype: category\n",
       "Categories (7, object): ['DIAMONDS', 'HEARTS', 'SPADES', 'CLUBS', 'OBE_ABE', 'UNE_UFE', 'PUSH']"
      ]
     },
     "execution_count": 19,
     "metadata": {},
     "output_type": "execute_result"
    }
   ],
   "execution_count": 19
  },
  {
   "cell_type": "markdown",
   "metadata": {},
   "source": [
    "### Exercise: Stochastic Gradient Descent\n",
    "\n",
    "Machine learning classifiers internally use an optimization algorithm. Stochastic gradient descent is a stochastic \n",
    "approximation that generally is more efficient but with a slightly lower convergence rate. Change the code in the previous cell to a logistic regression with stochastic gradient descent. Use [SGDClassifier](http://scikit-learn.org/stable/modules/generated/sklearn.linear_model.SGDClassifier.html#sklearn.linear_model.SGDClassifier) with parameters *loss='log'* and *penalty='None'*"
   ]
  },
  {
   "cell_type": "code",
   "metadata": {
    "ExecuteTime": {
     "end_time": "2024-11-05T17:46:06.190550Z",
     "start_time": "2024-11-05T17:46:06.187335Z"
    }
   },
   "source": [
    "# from sklearn.linear_model import SGDClassifier\n",
    "# \n",
    "# classifier = SGDClassifier(loss='log_loss', penalty=None)\n",
    "# result = cross_val_score(classifier, X_train, y_train, cv=5, n_jobs=-1)\n",
    "# \n",
    "# print(\"Mean accuracy over 5 folds is {:.4}\".format(np.mean(result)))"
   ],
   "outputs": [],
   "execution_count": 20
  },
  {
   "cell_type": "markdown",
   "metadata": {},
   "source": [
    "## Learning Curves\n",
    "\n",
    "Learning curves are an important diagnostic instrument in machine learning. A cross-validation generator splits the whole dataset k times into training and test data. Subsets of the training set with increasing sizes will be used to train the estimator and a score for each training subset size on the validation set will be computed. Afterwards, the scores will be averaged over all k runs for each training subset size.\n",
    "\n",
    "As a rule of thumb, a gap between the training and validation curves indicates that using more data would improve accuracy."
   ]
  },
  {
   "cell_type": "code",
   "metadata": {
    "ExecuteTime": {
     "end_time": "2024-11-05T17:46:06.967811Z",
     "start_time": "2024-11-05T17:46:06.964099Z"
    }
   },
   "source": [
    "# from sklearn.model_selection import learning_curve\n",
    "# \n",
    "# train_sizes, train_scores, valid_scores = learning_curve(SGDClassifier(loss='log_loss', penalty=None), \n",
    "#                                                          X_train, y_train, n_jobs=-1,\n",
    "#                                                          train_sizes=np.linspace(0.1, 1.0, 50), cv=10,\n",
    "#                                                          exploit_incremental_learning=True, verbose=10)"
   ],
   "outputs": [],
   "execution_count": 21
  },
  {
   "cell_type": "code",
   "metadata": {
    "ExecuteTime": {
     "end_time": "2024-11-05T17:46:07.180794Z",
     "start_time": "2024-11-05T17:46:07.175928Z"
    }
   },
   "source": [
    "# plot_data = pd.DataFrame({'train':train_scores.mean(axis=1), 'validation':valid_scores.mean(axis=1)}, index=train_sizes)\n",
    "# f, ax = plt.subplots(figsize=(14, 6))\n",
    "# ax.set_xlabel('#samples')\n",
    "# ax.set_ylabel('Accuracy')\n",
    "# ax.set_title('SGD')\n",
    "# plot_data.plot(ax=ax)\n",
    "# plt.grid()"
   ],
   "outputs": [],
   "execution_count": 22
  },
  {
   "cell_type": "markdown",
   "metadata": {},
   "source": [
    "### Exercise: Create a Random Forest Classifier\n",
    "\n",
    "Now create a random forest classifier and evaluate it with cross validation."
   ]
  },
  {
   "cell_type": "code",
   "metadata": {
    "ExecuteTime": {
     "end_time": "2024-11-05T17:46:08.029165Z",
     "start_time": "2024-11-05T17:46:08.021462Z"
    }
   },
   "source": [
    "# from sklearn.ensemble import RandomForestClassifier\n",
    "# \n",
    "# classifier = RandomForestClassifier()\n",
    "# result = cross_val_score(classifier, X_train, y_train, cv=5, n_jobs=-1)\n",
    "# \n",
    "# print(\"Mean accuracy over 5 folds is {:.4}\".format(np.mean(result)))"
   ],
   "outputs": [],
   "execution_count": 23
  },
  {
   "cell_type": "markdown",
   "metadata": {},
   "source": [
    "### Exercise: List and Plot Feature Importances\n",
    "\n",
    "Tree classsifiers (such as decision trees and random forests) can conveniently list feature importances. They use feature values to split the training set, whereas more important features are used higher in the tree(s). Use the *feature_importances_* attribute of a trained RandomForestClassifier to obtain a sorted list of the most important features. Plot feature importances in a bar chart."
   ]
  },
  {
   "cell_type": "code",
   "metadata": {
    "ExecuteTime": {
     "end_time": "2024-11-05T17:46:08.406105Z",
     "start_time": "2024-11-05T17:46:08.394493Z"
    }
   },
   "source": [
    "# # Train classifier\n",
    "# classifier.fit(X_train, y_train)"
   ],
   "outputs": [],
   "execution_count": 24
  },
  {
   "metadata": {
    "ExecuteTime": {
     "end_time": "2024-11-05T17:46:08.580021Z",
     "start_time": "2024-11-05T17:46:08.576842Z"
    }
   },
   "cell_type": "code",
   "source": [
    "# # Get feature importances\n",
    "# feature_importances = classifier.feature_importances_"
   ],
   "outputs": [],
   "execution_count": 25
  },
  {
   "metadata": {
    "ExecuteTime": {
     "end_time": "2024-11-05T17:46:08.870322Z",
     "start_time": "2024-11-05T17:46:08.862106Z"
    }
   },
   "cell_type": "code",
   "source": [
    "# indices = np.argsort(feature_importances)[::-1]\n",
    "# sorted_features = np.array(X_train.columns)[indices]\n",
    "# sorted_importances = feature_importances[indices]"
   ],
   "outputs": [],
   "execution_count": 26
  },
  {
   "metadata": {
    "ExecuteTime": {
     "end_time": "2024-11-05T17:46:09.169961Z",
     "start_time": "2024-11-05T17:46:09.152695Z"
    }
   },
   "cell_type": "code",
   "source": [
    "# plt.figure(figsize=(12, 6))\n",
    "# plt.bar(range(len(sorted_features)), sorted_importances, align=\"center\")\n",
    "# plt.xticks(range(len(sorted_features)), sorted_features, rotation=90)\n",
    "# plt.xlabel(\"Feature\")\n",
    "# plt.ylabel(\"Importance\")\n",
    "# plt.title(\"Feature Importances in Random Forest Classifier\")\n",
    "# plt.tight_layout()\n",
    "# plt.show()"
   ],
   "outputs": [],
   "execution_count": 27
  },
  {
   "cell_type": "markdown",
   "metadata": {},
   "source": [
    "## Grid Search over multiple Classifiers and Hyperparameters"
   ]
  },
  {
   "cell_type": "code",
   "metadata": {
    "ExecuteTime": {
     "end_time": "2024-11-05T17:46:09.891607Z",
     "start_time": "2024-11-05T17:46:09.887813Z"
    }
   },
   "source": [
    "# from sklearn.svm import SVC\n",
    "# from sklearn.neighbors import KNeighborsClassifier\n",
    "# from sklearn.ensemble import GradientBoostingClassifier\n",
    "# from sklearn.neural_network import MLPClassifier\n",
    "# \n",
    "# # Classifier names\n",
    "# names = [\n",
    "#     \"Logistic Regression\",\n",
    "#     \"Random Forest\",\n",
    "#     \"SVC\",\n",
    "#     \"KNeighborsClassifier\",\n",
    "#     \"GradientBoostingClassifier\",\n",
    "#     \"MLPClassifier\"\n",
    "#     \n",
    "# ]\n",
    "# \n",
    "# # Classifiers\n",
    "# classifiers = [\n",
    "#     LogisticRegression(solver='lbfgs'), # set these to avoid a FutureWarning with scikit-lean < 0.22\n",
    "#     RandomForestClassifier(n_estimators=200),\n",
    "#     SVC(),\n",
    "#     KNeighborsClassifier(),\n",
    "#     GradientBoostingClassifier(),\n",
    "#     MLPClassifier(max_iter=2000,)\n",
    "# ]\n",
    "# \n",
    "# # Hyperparameter grid to search per classifier\n",
    "# parameters = [\n",
    "#     {'C': [0.5, 1.0, 2.0], 'max_iter': [500, 1000]},\n",
    "#     {'max_depth': [5, 10]},\n",
    "#     {'kernel': ['rbf', 'poly', 'sigmoid']},\n",
    "#     {'n_neighbors': [5, 10], 'weights': ['uniform', 'distance']},\n",
    "#     {'loss': ['log_loss', 'exponential'], 'learning_rate': [1e-3, 1e-2]},\n",
    "#     {'hidden_layer_sizes': [64, 128, 256], 'activation': ['identity', 'logistic', 'tanh', 'relu'], 'solver': ['lbfgs', 'sgd', 'adam']},\n",
    "# ]\n",
    "# \n",
    "# list(zip(names, parameters))"
   ],
   "outputs": [],
   "execution_count": 28
  },
  {
   "cell_type": "code",
   "metadata": {
    "ExecuteTime": {
     "end_time": "2024-11-05T17:46:10.060508Z",
     "start_time": "2024-11-05T17:46:10.057345Z"
    }
   },
   "source": [
    "# from sklearn.model_selection import GridSearchCV\n",
    "# \n",
    "# results = []\n",
    "# \n",
    "# for name, classifier, params in zip(names, classifiers, parameters):\n",
    "#     print(\"Grid search for {}\".format(name))\n",
    "#     gs = GridSearchCV(classifier, param_grid=params, cv=5, scoring='accuracy', n_jobs=-1)\n",
    "#     gs.fit(X_train, y_train)\n",
    "#     print(\"Best accuracy score found: {:.3f}\\n\".format(gs.best_score_))\n",
    "#     results.append([name, gs.best_score_, gs.best_estimator_])\n",
    "# \n",
    "# results"
   ],
   "outputs": [],
   "execution_count": 29
  },
  {
   "cell_type": "markdown",
   "metadata": {},
   "source": [
    "Comment: If *refit=True* (the default), the best estimator is made available at the *best_estimator_* attribute of gs and permits using *.predict()* directly on this GridSearchCV instance. Note, however, that the above code runs grid search separately for each classifier, and so gs now only contains the last estimator of the list, which may or may not be the best one. So don't use gs to predict blindly."
   ]
  },
  {
   "cell_type": "markdown",
   "metadata": {},
   "source": [
    "### Exercise: Extend Grid Search by adding other Classifiers and Hyperparameters\n",
    "\n",
    "You may want to experiment with a [nearest neighbors classifier](http://scikit-learn.org/stable/modules/neighbors.html) or a [support vector machine](http://scikit-learn.org/stable/modules/svm.html) or a [neural network](http://scikit-learn.org/stable/modules/neural_networks_supervised.html) or ..."
   ]
  },
  {
   "cell_type": "markdown",
   "metadata": {},
   "source": [
    "### Exercise: Add interactions to Logistic Regression\n",
    "\n",
    "A linear classifier such as logistic regression cannot model dependencies between features (things like \"if your hand has both heart jack and heart nine, then choose heart as trump mode\"). But features like these called *interactions* can be added manually."
   ]
  },
  {
   "cell_type": "code",
   "metadata": {
    "ExecuteTime": {
     "end_time": "2024-11-05T17:46:11.265139Z",
     "start_time": "2024-11-05T17:46:11.261219Z"
    }
   },
   "source": [
    "# # First, get the score without interactions\n",
    "# clf = LogisticRegression(C=0.8, solver='lbfgs', multi_class='multinomial')\n",
    "# result = cross_val_score(clf, X_train, y_train, cv=5, n_jobs=-1)\n",
    "# print(\"Mean accuracy over 5 folds is {:.4}\".format(np.mean(result)))"
   ],
   "outputs": [],
   "execution_count": 30
  },
  {
   "cell_type": "markdown",
   "metadata": {},
   "source": [
    "For each of the four colors, add one interaction term for the combination jack and nine."
   ]
  },
  {
   "metadata": {
    "ExecuteTime": {
     "end_time": "2024-11-05T17:46:12.151296Z",
     "start_time": "2024-11-05T17:46:12.133545Z"
    }
   },
   "cell_type": "code",
   "source": "data.head()",
   "outputs": [
    {
     "data": {
      "text/plain": [
       "      DA     DK     DQ     DJ    D10     D9     D8     D7     D6     HA  ...  \\\n",
       "0  False  False  False   True   True  False   True   True  False  False  ...   \n",
       "1  False  False  False  False  False  False  False  False   True   True  ...   \n",
       "2   True  False  False   True  False  False  False  False  False  False  ...   \n",
       "3  False  False  False  False  False  False  False  False  False   True  ...   \n",
       "4  False   True  False  False  False  False  False  False   True   True  ...   \n",
       "\n",
       "      CJ    C10     C9     C8     C7     C6     FH   user    trump  \\\n",
       "0  False  False  False   True  False  False  False  53248     PUSH   \n",
       "1   True  False  False  False   True  False  False   4613  UNE_UFE   \n",
       "2  False  False  False  False   True   True  False  68780     PUSH   \n",
       "3  False   True   True  False  False  False  False  24555  UNE_UFE   \n",
       "4   True  False  False  False  False  False   True   8392  OBE_ABE   \n",
       "\n",
       "   cards_count  \n",
       "0            9  \n",
       "1            9  \n",
       "2            9  \n",
       "3            9  \n",
       "4            9  \n",
       "\n",
       "[5 rows x 40 columns]"
      ],
      "text/html": [
       "<div>\n",
       "<style scoped>\n",
       "    .dataframe tbody tr th:only-of-type {\n",
       "        vertical-align: middle;\n",
       "    }\n",
       "\n",
       "    .dataframe tbody tr th {\n",
       "        vertical-align: top;\n",
       "    }\n",
       "\n",
       "    .dataframe thead th {\n",
       "        text-align: right;\n",
       "    }\n",
       "</style>\n",
       "<table border=\"1\" class=\"dataframe\">\n",
       "  <thead>\n",
       "    <tr style=\"text-align: right;\">\n",
       "      <th></th>\n",
       "      <th>DA</th>\n",
       "      <th>DK</th>\n",
       "      <th>DQ</th>\n",
       "      <th>DJ</th>\n",
       "      <th>D10</th>\n",
       "      <th>D9</th>\n",
       "      <th>D8</th>\n",
       "      <th>D7</th>\n",
       "      <th>D6</th>\n",
       "      <th>HA</th>\n",
       "      <th>...</th>\n",
       "      <th>CJ</th>\n",
       "      <th>C10</th>\n",
       "      <th>C9</th>\n",
       "      <th>C8</th>\n",
       "      <th>C7</th>\n",
       "      <th>C6</th>\n",
       "      <th>FH</th>\n",
       "      <th>user</th>\n",
       "      <th>trump</th>\n",
       "      <th>cards_count</th>\n",
       "    </tr>\n",
       "  </thead>\n",
       "  <tbody>\n",
       "    <tr>\n",
       "      <th>0</th>\n",
       "      <td>False</td>\n",
       "      <td>False</td>\n",
       "      <td>False</td>\n",
       "      <td>True</td>\n",
       "      <td>True</td>\n",
       "      <td>False</td>\n",
       "      <td>True</td>\n",
       "      <td>True</td>\n",
       "      <td>False</td>\n",
       "      <td>False</td>\n",
       "      <td>...</td>\n",
       "      <td>False</td>\n",
       "      <td>False</td>\n",
       "      <td>False</td>\n",
       "      <td>True</td>\n",
       "      <td>False</td>\n",
       "      <td>False</td>\n",
       "      <td>False</td>\n",
       "      <td>53248</td>\n",
       "      <td>PUSH</td>\n",
       "      <td>9</td>\n",
       "    </tr>\n",
       "    <tr>\n",
       "      <th>1</th>\n",
       "      <td>False</td>\n",
       "      <td>False</td>\n",
       "      <td>False</td>\n",
       "      <td>False</td>\n",
       "      <td>False</td>\n",
       "      <td>False</td>\n",
       "      <td>False</td>\n",
       "      <td>False</td>\n",
       "      <td>True</td>\n",
       "      <td>True</td>\n",
       "      <td>...</td>\n",
       "      <td>True</td>\n",
       "      <td>False</td>\n",
       "      <td>False</td>\n",
       "      <td>False</td>\n",
       "      <td>True</td>\n",
       "      <td>False</td>\n",
       "      <td>False</td>\n",
       "      <td>4613</td>\n",
       "      <td>UNE_UFE</td>\n",
       "      <td>9</td>\n",
       "    </tr>\n",
       "    <tr>\n",
       "      <th>2</th>\n",
       "      <td>True</td>\n",
       "      <td>False</td>\n",
       "      <td>False</td>\n",
       "      <td>True</td>\n",
       "      <td>False</td>\n",
       "      <td>False</td>\n",
       "      <td>False</td>\n",
       "      <td>False</td>\n",
       "      <td>False</td>\n",
       "      <td>False</td>\n",
       "      <td>...</td>\n",
       "      <td>False</td>\n",
       "      <td>False</td>\n",
       "      <td>False</td>\n",
       "      <td>False</td>\n",
       "      <td>True</td>\n",
       "      <td>True</td>\n",
       "      <td>False</td>\n",
       "      <td>68780</td>\n",
       "      <td>PUSH</td>\n",
       "      <td>9</td>\n",
       "    </tr>\n",
       "    <tr>\n",
       "      <th>3</th>\n",
       "      <td>False</td>\n",
       "      <td>False</td>\n",
       "      <td>False</td>\n",
       "      <td>False</td>\n",
       "      <td>False</td>\n",
       "      <td>False</td>\n",
       "      <td>False</td>\n",
       "      <td>False</td>\n",
       "      <td>False</td>\n",
       "      <td>True</td>\n",
       "      <td>...</td>\n",
       "      <td>False</td>\n",
       "      <td>True</td>\n",
       "      <td>True</td>\n",
       "      <td>False</td>\n",
       "      <td>False</td>\n",
       "      <td>False</td>\n",
       "      <td>False</td>\n",
       "      <td>24555</td>\n",
       "      <td>UNE_UFE</td>\n",
       "      <td>9</td>\n",
       "    </tr>\n",
       "    <tr>\n",
       "      <th>4</th>\n",
       "      <td>False</td>\n",
       "      <td>True</td>\n",
       "      <td>False</td>\n",
       "      <td>False</td>\n",
       "      <td>False</td>\n",
       "      <td>False</td>\n",
       "      <td>False</td>\n",
       "      <td>False</td>\n",
       "      <td>True</td>\n",
       "      <td>True</td>\n",
       "      <td>...</td>\n",
       "      <td>True</td>\n",
       "      <td>False</td>\n",
       "      <td>False</td>\n",
       "      <td>False</td>\n",
       "      <td>False</td>\n",
       "      <td>False</td>\n",
       "      <td>True</td>\n",
       "      <td>8392</td>\n",
       "      <td>OBE_ABE</td>\n",
       "      <td>9</td>\n",
       "    </tr>\n",
       "  </tbody>\n",
       "</table>\n",
       "<p>5 rows × 40 columns</p>\n",
       "</div>"
      ]
     },
     "execution_count": 31,
     "metadata": {},
     "output_type": "execute_result"
    }
   ],
   "execution_count": 31
  },
  {
   "metadata": {
    "ExecuteTime": {
     "end_time": "2024-11-05T17:46:13.095905Z",
     "start_time": "2024-11-05T17:46:13.085721Z"
    }
   },
   "cell_type": "code",
   "source": [
    "def count_colors(data):\n",
    "    colors = {}\n",
    "    for color in 'DHSC':\n",
    "        # Count all cards of the given suit (e.g., all Diamonds, Hearts, etc.)\n",
    "        colors[color] = data[[f'{color}{rank}' for rank in ['A', 'K', 'Q', 'J', '10', '9', '8', '7', '6']]].sum(axis=1)\n",
    "    return colors"
   ],
   "outputs": [],
   "execution_count": 32
  },
  {
   "cell_type": "code",
   "metadata": {
    "ExecuteTime": {
     "end_time": "2024-11-05T17:46:14.492958Z",
     "start_time": "2024-11-05T17:46:13.439115Z"
    }
   },
   "source": [
    "# Initialize lists to store feature names\n",
    "feature_columns = []\n",
    "specified_features = []\n",
    "\n",
    "# Feature creation loop\n",
    "for color in 'DHSC':\n",
    "    # Jack and nine combination\n",
    "    new_col = f'{color}_J9'\n",
    "    data[new_col] = data[f'{color}J'] & data[f'{color}9']\n",
    "    feature_columns.append(new_col)\n",
    "    specified_features.append(new_col)\n",
    "    \n",
    "    # A K Q combination\n",
    "    new_col = f'{color}_AKQ'\n",
    "    data[new_col] = data[f'{color}A'] & data[f'{color}K'] & data[f'{color}Q']\n",
    "    feature_columns.append(new_col)\n",
    "    specified_features.append(new_col)\n",
    "    \n",
    "    # 6 7 8 combination\n",
    "    new_col = f'{color}_678'\n",
    "    data[new_col] = data[f'{color}6'] & data[f'{color}7'] & data[f'{color}8']\n",
    "    feature_columns.append(new_col)\n",
    "    specified_features.append(new_col)\n",
    "    \n",
    "    # Jack and nine combination with 4 more cards\n",
    "    new_col = f'{color}_J_and_4_more'\n",
    "    has_jack = data[f'{color}J']\n",
    "    color_count = count_colors(data)[color]\n",
    "    data[new_col] = has_jack & (color_count >= 5)\n",
    "    feature_columns.append(new_col)\n",
    "    specified_features.append(new_col)\n",
    "    \n",
    "    # 9, A, and at least 3 other cards in the same suit\n",
    "    new_col = f'{color}_9A_and_3_more'\n",
    "    has_nine = data[f'{color}9']\n",
    "    has_ace = data[f'{color}A']\n",
    "    data[new_col] = has_nine & has_ace & (color_count >= 5)\n",
    "    feature_columns.append(new_col)\n",
    "    specified_features.append(new_col)\n",
    "    \n",
    "    # Jack, 9, and Ace in the same suit\n",
    "    new_col = f'{color}_J9A'\n",
    "    has_jack = data[f'{color}J']\n",
    "    has_nine = data[f'{color}9']\n",
    "    has_ace = data[f'{color}A']\n",
    "    data[new_col] = has_jack & has_nine & has_ace\n",
    "    feature_columns.append(new_col)\n",
    "    specified_features.append(new_col)\n",
    "    \n",
    "    # Jack, 9, and at least one other card in suit, plus two Aces in other suits\n",
    "    new_col = f'{color}_J9_plus_card_and_2_other_aces'\n",
    "    other_ranks = ['A', 'K', 'Q', '10', '8', '7', '6']\n",
    "    other_cards_in_suit = data[[f'{color}{rank}' for rank in other_ranks]].any(axis=1)\n",
    "    other_colors = [c for c in 'DHSC' if c != color]\n",
    "    aces_in_other_suits = data[[f'{c}A' for c in other_colors]].sum(axis=1)\n",
    "    has_two_aces_in_other_suits = aces_in_other_suits >= 2\n",
    "    data[new_col] = has_jack & has_nine & other_cards_in_suit & has_two_aces_in_other_suits\n",
    "    feature_columns.append(new_col)\n",
    "    specified_features.append(new_col)\n",
    "\n",
    "# Create a new column that is True if any of the specified features is True\n",
    "data['any_specified_feature_true'] = data[specified_features].any(axis=1)\n",
    "\n"
   ],
   "outputs": [],
   "execution_count": 33
  },
  {
   "metadata": {
    "ExecuteTime": {
     "end_time": "2024-11-05T18:27:10.665046Z",
     "start_time": "2024-11-05T18:27:10.648595Z"
    }
   },
   "cell_type": "code",
   "source": "data.head(10)",
   "outputs": [
    {
     "data": {
      "text/plain": [
       "      DA     DK     DQ     DJ    D10     D9     D8     D7     D6     HA  ...  \\\n",
       "0  False  False  False   True   True  False   True   True  False  False  ...   \n",
       "1  False  False  False  False  False  False  False  False   True   True  ...   \n",
       "2   True  False  False   True  False  False  False  False  False  False  ...   \n",
       "3  False  False  False  False  False  False  False  False  False   True  ...   \n",
       "4  False   True  False  False  False  False  False  False   True   True  ...   \n",
       "5  False  False   True  False  False  False   True  False   True  False  ...   \n",
       "6   True   True  False   True   True  False  False  False  False  False  ...   \n",
       "7  False  False  False  False  False  False  False  False   True   True  ...   \n",
       "8  False   True   True  False  False  False   True  False   True  False  ...   \n",
       "9  False   True  False   True  False   True  False  False   True  False  ...   \n",
       "\n",
       "   S_J9A  S_J9_plus_card_and_2_other_aces   C_J9  C_AKQ  C_678  \\\n",
       "0  False                            False  False  False  False   \n",
       "1  False                            False  False  False  False   \n",
       "2  False                            False  False  False  False   \n",
       "3  False                            False  False  False  False   \n",
       "4  False                            False  False  False  False   \n",
       "5  False                            False  False  False  False   \n",
       "6  False                            False  False  False  False   \n",
       "7  False                            False  False  False  False   \n",
       "8  False                            False  False  False  False   \n",
       "9  False                            False  False  False  False   \n",
       "\n",
       "   C_J_and_4_more  C_9A_and_3_more  C_J9A  C_J9_plus_card_and_2_other_aces  \\\n",
       "0           False            False  False                            False   \n",
       "1           False            False  False                            False   \n",
       "2           False            False  False                            False   \n",
       "3           False            False  False                            False   \n",
       "4           False            False  False                            False   \n",
       "5           False            False  False                            False   \n",
       "6           False            False  False                            False   \n",
       "7           False            False  False                            False   \n",
       "8           False            False  False                            False   \n",
       "9           False            False  False                            False   \n",
       "\n",
       "   any_specified_feature_true  \n",
       "0                       False  \n",
       "1                       False  \n",
       "2                       False  \n",
       "3                       False  \n",
       "4                        True  \n",
       "5                       False  \n",
       "6                       False  \n",
       "7                        True  \n",
       "8                       False  \n",
       "9                        True  \n",
       "\n",
       "[10 rows x 69 columns]"
      ],
      "text/html": [
       "<div>\n",
       "<style scoped>\n",
       "    .dataframe tbody tr th:only-of-type {\n",
       "        vertical-align: middle;\n",
       "    }\n",
       "\n",
       "    .dataframe tbody tr th {\n",
       "        vertical-align: top;\n",
       "    }\n",
       "\n",
       "    .dataframe thead th {\n",
       "        text-align: right;\n",
       "    }\n",
       "</style>\n",
       "<table border=\"1\" class=\"dataframe\">\n",
       "  <thead>\n",
       "    <tr style=\"text-align: right;\">\n",
       "      <th></th>\n",
       "      <th>DA</th>\n",
       "      <th>DK</th>\n",
       "      <th>DQ</th>\n",
       "      <th>DJ</th>\n",
       "      <th>D10</th>\n",
       "      <th>D9</th>\n",
       "      <th>D8</th>\n",
       "      <th>D7</th>\n",
       "      <th>D6</th>\n",
       "      <th>HA</th>\n",
       "      <th>...</th>\n",
       "      <th>S_J9A</th>\n",
       "      <th>S_J9_plus_card_and_2_other_aces</th>\n",
       "      <th>C_J9</th>\n",
       "      <th>C_AKQ</th>\n",
       "      <th>C_678</th>\n",
       "      <th>C_J_and_4_more</th>\n",
       "      <th>C_9A_and_3_more</th>\n",
       "      <th>C_J9A</th>\n",
       "      <th>C_J9_plus_card_and_2_other_aces</th>\n",
       "      <th>any_specified_feature_true</th>\n",
       "    </tr>\n",
       "  </thead>\n",
       "  <tbody>\n",
       "    <tr>\n",
       "      <th>0</th>\n",
       "      <td>False</td>\n",
       "      <td>False</td>\n",
       "      <td>False</td>\n",
       "      <td>True</td>\n",
       "      <td>True</td>\n",
       "      <td>False</td>\n",
       "      <td>True</td>\n",
       "      <td>True</td>\n",
       "      <td>False</td>\n",
       "      <td>False</td>\n",
       "      <td>...</td>\n",
       "      <td>False</td>\n",
       "      <td>False</td>\n",
       "      <td>False</td>\n",
       "      <td>False</td>\n",
       "      <td>False</td>\n",
       "      <td>False</td>\n",
       "      <td>False</td>\n",
       "      <td>False</td>\n",
       "      <td>False</td>\n",
       "      <td>False</td>\n",
       "    </tr>\n",
       "    <tr>\n",
       "      <th>1</th>\n",
       "      <td>False</td>\n",
       "      <td>False</td>\n",
       "      <td>False</td>\n",
       "      <td>False</td>\n",
       "      <td>False</td>\n",
       "      <td>False</td>\n",
       "      <td>False</td>\n",
       "      <td>False</td>\n",
       "      <td>True</td>\n",
       "      <td>True</td>\n",
       "      <td>...</td>\n",
       "      <td>False</td>\n",
       "      <td>False</td>\n",
       "      <td>False</td>\n",
       "      <td>False</td>\n",
       "      <td>False</td>\n",
       "      <td>False</td>\n",
       "      <td>False</td>\n",
       "      <td>False</td>\n",
       "      <td>False</td>\n",
       "      <td>False</td>\n",
       "    </tr>\n",
       "    <tr>\n",
       "      <th>2</th>\n",
       "      <td>True</td>\n",
       "      <td>False</td>\n",
       "      <td>False</td>\n",
       "      <td>True</td>\n",
       "      <td>False</td>\n",
       "      <td>False</td>\n",
       "      <td>False</td>\n",
       "      <td>False</td>\n",
       "      <td>False</td>\n",
       "      <td>False</td>\n",
       "      <td>...</td>\n",
       "      <td>False</td>\n",
       "      <td>False</td>\n",
       "      <td>False</td>\n",
       "      <td>False</td>\n",
       "      <td>False</td>\n",
       "      <td>False</td>\n",
       "      <td>False</td>\n",
       "      <td>False</td>\n",
       "      <td>False</td>\n",
       "      <td>False</td>\n",
       "    </tr>\n",
       "    <tr>\n",
       "      <th>3</th>\n",
       "      <td>False</td>\n",
       "      <td>False</td>\n",
       "      <td>False</td>\n",
       "      <td>False</td>\n",
       "      <td>False</td>\n",
       "      <td>False</td>\n",
       "      <td>False</td>\n",
       "      <td>False</td>\n",
       "      <td>False</td>\n",
       "      <td>True</td>\n",
       "      <td>...</td>\n",
       "      <td>False</td>\n",
       "      <td>False</td>\n",
       "      <td>False</td>\n",
       "      <td>False</td>\n",
       "      <td>False</td>\n",
       "      <td>False</td>\n",
       "      <td>False</td>\n",
       "      <td>False</td>\n",
       "      <td>False</td>\n",
       "      <td>False</td>\n",
       "    </tr>\n",
       "    <tr>\n",
       "      <th>4</th>\n",
       "      <td>False</td>\n",
       "      <td>True</td>\n",
       "      <td>False</td>\n",
       "      <td>False</td>\n",
       "      <td>False</td>\n",
       "      <td>False</td>\n",
       "      <td>False</td>\n",
       "      <td>False</td>\n",
       "      <td>True</td>\n",
       "      <td>True</td>\n",
       "      <td>...</td>\n",
       "      <td>False</td>\n",
       "      <td>False</td>\n",
       "      <td>False</td>\n",
       "      <td>False</td>\n",
       "      <td>False</td>\n",
       "      <td>False</td>\n",
       "      <td>False</td>\n",
       "      <td>False</td>\n",
       "      <td>False</td>\n",
       "      <td>True</td>\n",
       "    </tr>\n",
       "    <tr>\n",
       "      <th>5</th>\n",
       "      <td>False</td>\n",
       "      <td>False</td>\n",
       "      <td>True</td>\n",
       "      <td>False</td>\n",
       "      <td>False</td>\n",
       "      <td>False</td>\n",
       "      <td>True</td>\n",
       "      <td>False</td>\n",
       "      <td>True</td>\n",
       "      <td>False</td>\n",
       "      <td>...</td>\n",
       "      <td>False</td>\n",
       "      <td>False</td>\n",
       "      <td>False</td>\n",
       "      <td>False</td>\n",
       "      <td>False</td>\n",
       "      <td>False</td>\n",
       "      <td>False</td>\n",
       "      <td>False</td>\n",
       "      <td>False</td>\n",
       "      <td>False</td>\n",
       "    </tr>\n",
       "    <tr>\n",
       "      <th>6</th>\n",
       "      <td>True</td>\n",
       "      <td>True</td>\n",
       "      <td>False</td>\n",
       "      <td>True</td>\n",
       "      <td>True</td>\n",
       "      <td>False</td>\n",
       "      <td>False</td>\n",
       "      <td>False</td>\n",
       "      <td>False</td>\n",
       "      <td>False</td>\n",
       "      <td>...</td>\n",
       "      <td>False</td>\n",
       "      <td>False</td>\n",
       "      <td>False</td>\n",
       "      <td>False</td>\n",
       "      <td>False</td>\n",
       "      <td>False</td>\n",
       "      <td>False</td>\n",
       "      <td>False</td>\n",
       "      <td>False</td>\n",
       "      <td>False</td>\n",
       "    </tr>\n",
       "    <tr>\n",
       "      <th>7</th>\n",
       "      <td>False</td>\n",
       "      <td>False</td>\n",
       "      <td>False</td>\n",
       "      <td>False</td>\n",
       "      <td>False</td>\n",
       "      <td>False</td>\n",
       "      <td>False</td>\n",
       "      <td>False</td>\n",
       "      <td>True</td>\n",
       "      <td>True</td>\n",
       "      <td>...</td>\n",
       "      <td>False</td>\n",
       "      <td>False</td>\n",
       "      <td>False</td>\n",
       "      <td>False</td>\n",
       "      <td>False</td>\n",
       "      <td>False</td>\n",
       "      <td>False</td>\n",
       "      <td>False</td>\n",
       "      <td>False</td>\n",
       "      <td>True</td>\n",
       "    </tr>\n",
       "    <tr>\n",
       "      <th>8</th>\n",
       "      <td>False</td>\n",
       "      <td>True</td>\n",
       "      <td>True</td>\n",
       "      <td>False</td>\n",
       "      <td>False</td>\n",
       "      <td>False</td>\n",
       "      <td>True</td>\n",
       "      <td>False</td>\n",
       "      <td>True</td>\n",
       "      <td>False</td>\n",
       "      <td>...</td>\n",
       "      <td>False</td>\n",
       "      <td>False</td>\n",
       "      <td>False</td>\n",
       "      <td>False</td>\n",
       "      <td>False</td>\n",
       "      <td>False</td>\n",
       "      <td>False</td>\n",
       "      <td>False</td>\n",
       "      <td>False</td>\n",
       "      <td>False</td>\n",
       "    </tr>\n",
       "    <tr>\n",
       "      <th>9</th>\n",
       "      <td>False</td>\n",
       "      <td>True</td>\n",
       "      <td>False</td>\n",
       "      <td>True</td>\n",
       "      <td>False</td>\n",
       "      <td>True</td>\n",
       "      <td>False</td>\n",
       "      <td>False</td>\n",
       "      <td>True</td>\n",
       "      <td>False</td>\n",
       "      <td>...</td>\n",
       "      <td>False</td>\n",
       "      <td>False</td>\n",
       "      <td>False</td>\n",
       "      <td>False</td>\n",
       "      <td>False</td>\n",
       "      <td>False</td>\n",
       "      <td>False</td>\n",
       "      <td>False</td>\n",
       "      <td>False</td>\n",
       "      <td>True</td>\n",
       "    </tr>\n",
       "  </tbody>\n",
       "</table>\n",
       "<p>10 rows × 69 columns</p>\n",
       "</div>"
      ]
     },
     "execution_count": 35,
     "metadata": {},
     "output_type": "execute_result"
    }
   ],
   "execution_count": 35
  },
  {
   "cell_type": "markdown",
   "metadata": {},
   "source": [
    "We must recreate training and test sets with the new features"
   ]
  },
  {
   "cell_type": "code",
   "metadata": {
    "ExecuteTime": {
     "end_time": "2024-11-05T18:27:12.157512Z",
     "start_time": "2024-11-05T18:27:12.155047Z"
    }
   },
   "source": "",
   "outputs": [],
   "execution_count": null
  },
  {
   "cell_type": "markdown",
   "metadata": {},
   "source": [
    "And check  if the additional columns improve the score"
   ]
  },
  {
   "cell_type": "code",
   "metadata": {
    "ExecuteTime": {
     "end_time": "2024-11-05T18:27:12.922964Z",
     "start_time": "2024-11-05T18:27:12.919221Z"
    }
   },
   "source": [
    "# clf = LogisticRegression(C=0.8, solver='lbfgs', multi_class='multinomial')\n",
    "# result = cross_val_score(clf, X_train, y_train, cv=5, n_jobs=-1)\n",
    "# print(\"Mean accuracy over 5 folds is {:.4}\".format(np.mean(result)))"
   ],
   "outputs": [],
   "execution_count": 36
  },
  {
   "metadata": {},
   "cell_type": "markdown",
   "source": "# Pytorch "
  },
  {
   "metadata": {
    "ExecuteTime": {
     "end_time": "2024-11-05T18:27:13.868589Z",
     "start_time": "2024-11-05T18:27:13.864856Z"
    }
   },
   "cell_type": "code",
   "source": "",
   "outputs": [],
   "execution_count": null
  },
  {
   "cell_type": "markdown",
   "metadata": {},
   "source": [
    "### Exercise: Better Accuracy with less Data ?\n",
    "\n",
    "At the beginning we removed the user ID from our data set. Use this information to develop a heuristic that seggregates between *good* and *bad* players. Can you improve accuracy by using only the data from *good* players?"
   ]
  },
  {
   "metadata": {
    "ExecuteTime": {
     "end_time": "2024-11-05T18:27:14.682018Z",
     "start_time": "2024-11-05T18:27:14.663553Z"
    }
   },
   "cell_type": "code",
   "source": [
    "# Count unique user IDs\n",
    "num_unique_users = data['user'].nunique()\n",
    "print(\"Number of unique users:\", num_unique_users)"
   ],
   "outputs": [
    {
     "name": "stdout",
     "output_type": "stream",
     "text": [
      "Number of unique users: 3491\n"
     ]
    }
   ],
   "execution_count": 37
  },
  {
   "metadata": {
    "ExecuteTime": {
     "end_time": "2024-11-05T18:27:15.168948Z",
     "start_time": "2024-11-05T18:27:15.130184Z"
    }
   },
   "cell_type": "code",
   "source": [
    "# Count occurrences of each user ID\n",
    "user_counts = data['user'].value_counts()\n",
    "print(user_counts)"
   ],
   "outputs": [
    {
     "name": "stdout",
     "output_type": "stream",
     "text": [
      "user\n",
      "0        94455\n",
      "4035      1387\n",
      "19345     1332\n",
      "56019     1329\n",
      "331       1091\n",
      "         ...  \n",
      "63707        1\n",
      "27716        1\n",
      "70588        1\n",
      "18986        1\n",
      "7724         1\n",
      "Name: count, Length: 3491, dtype: int64\n"
     ]
    }
   ],
   "execution_count": 38
  },
  {
   "metadata": {
    "ExecuteTime": {
     "end_time": "2024-11-05T18:27:16.009635Z",
     "start_time": "2024-11-05T18:27:16.006891Z"
    }
   },
   "cell_type": "code",
   "source": "",
   "outputs": [],
   "execution_count": null
  },
  {
   "cell_type": "code",
   "metadata": {
    "ExecuteTime": {
     "end_time": "2024-11-05T18:27:17.648640Z",
     "start_time": "2024-11-05T18:27:17.642491Z"
    }
   },
   "source": [
    "def check_bad_decision(row):\n",
    "    bad_decision = 0\n",
    "    # Check if player has any special feature\n",
    "    for color in 'DHSC':\n",
    "        # Rule for J9 and J_and_4_more: Trump should match the suit\n",
    "        if row[f'{color}_J9'] and row['trump'] != color:\n",
    "            bad_decision += 1\n",
    "            \n",
    "        if row[f'{color}_J_and_4_more'] and row['trump'] != color:\n",
    "            bad_decision += 1\n",
    "\n",
    "        # Rule for AKQ: Trump can be the same suit or OBE_ABE\n",
    "        if row[f'{color}_AKQ'] and row['trump'] not in [color, 'OBE_ABE']:\n",
    "            bad_decision += 1\n",
    "            \n",
    "        if row[f'{color}_J9_plus_card_and_2_other_aces'] and row['trump'] != color:\n",
    "            bad_decision += 1\n",
    "            \n",
    "        if row[f'{color}_9A_and_3_more'] and row['trump'] != color:\n",
    "            bad_decision += 1\n",
    "            \n",
    "        if row[f'{color}_J9A'] and row['trump'] != color:\n",
    "            bad_decision += 1\n",
    "\n",
    "    # Rule for 678: Trump should be UNE_UFE\n",
    "    if (row['D_678'] or row['H_678'] or row['S_678'] or row['C_678']) and row['trump'] != 'UNE_UFE':\n",
    "        bad_decision += 1\n",
    "\n",
    "    # Return 1 if it's a bad decision (incorrect trump choice) for this round, else 0\n",
    "    return bad_decision > 0"
   ],
   "outputs": [],
   "execution_count": 39
  },
  {
   "metadata": {
    "ExecuteTime": {
     "end_time": "2024-11-05T18:27:35.731904Z",
     "start_time": "2024-11-05T18:27:18.083918Z"
    }
   },
   "cell_type": "code",
   "source": [
    "# Apply the bad decision function to each row\n",
    "data['bad_decision'] = data.apply(check_bad_decision, axis=1)"
   ],
   "outputs": [],
   "execution_count": 40
  },
  {
   "metadata": {
    "ExecuteTime": {
     "end_time": "2024-11-05T18:27:35.774072Z",
     "start_time": "2024-11-05T18:27:35.739052Z"
    }
   },
   "cell_type": "code",
   "source": [
    "# Define the threshold for bad player categorization (25% of rounds with special features)\n",
    "bad_decision_threshold = 0.30\n",
    "\n",
    "# Count the total number of bad decisions per user\n",
    "bad_decision_counts = data.groupby('user')['bad_decision'].sum()\n",
    "\n",
    "# Count the number of rounds with special features per user (rounds where `bad_decision` is evaluated)\n",
    "special_feature_rounds = data.groupby('user')['bad_decision'].count()\n",
    "\n",
    "# Calculate the percentage of bad decisions for each user\n",
    "bad_decision_percentage = (bad_decision_counts / special_feature_rounds).fillna(0)\n",
    "\n",
    "# Label users as bad if their percentage of bad decisions exceeds the threshold\n",
    "user_labels = (bad_decision_percentage > bad_decision_threshold).astype(int)  # 1 for bad, 0 for good\n",
    "user_labels = user_labels.rename(\"bad_player\")"
   ],
   "outputs": [],
   "execution_count": 41
  },
  {
   "metadata": {
    "ExecuteTime": {
     "end_time": "2024-11-05T18:27:35.818462Z",
     "start_time": "2024-11-05T18:27:35.802747Z"
    }
   },
   "cell_type": "code",
   "source": "data.head()",
   "outputs": [
    {
     "data": {
      "text/plain": [
       "      DA     DK     DQ     DJ    D10     D9     D8     D7     D6     HA  ...  \\\n",
       "0  False  False  False   True   True  False   True   True  False  False  ...   \n",
       "1  False  False  False  False  False  False  False  False   True   True  ...   \n",
       "2   True  False  False   True  False  False  False  False  False  False  ...   \n",
       "3  False  False  False  False  False  False  False  False  False   True  ...   \n",
       "4  False   True  False  False  False  False  False  False   True   True  ...   \n",
       "\n",
       "   S_J9_plus_card_and_2_other_aces   C_J9  C_AKQ  C_678  C_J_and_4_more  \\\n",
       "0                            False  False  False  False           False   \n",
       "1                            False  False  False  False           False   \n",
       "2                            False  False  False  False           False   \n",
       "3                            False  False  False  False           False   \n",
       "4                            False  False  False  False           False   \n",
       "\n",
       "   C_9A_and_3_more  C_J9A  C_J9_plus_card_and_2_other_aces  \\\n",
       "0            False  False                            False   \n",
       "1            False  False                            False   \n",
       "2            False  False                            False   \n",
       "3            False  False                            False   \n",
       "4            False  False                            False   \n",
       "\n",
       "   any_specified_feature_true  bad_decision  \n",
       "0                       False         False  \n",
       "1                       False         False  \n",
       "2                       False         False  \n",
       "3                       False         False  \n",
       "4                        True         False  \n",
       "\n",
       "[5 rows x 70 columns]"
      ],
      "text/html": [
       "<div>\n",
       "<style scoped>\n",
       "    .dataframe tbody tr th:only-of-type {\n",
       "        vertical-align: middle;\n",
       "    }\n",
       "\n",
       "    .dataframe tbody tr th {\n",
       "        vertical-align: top;\n",
       "    }\n",
       "\n",
       "    .dataframe thead th {\n",
       "        text-align: right;\n",
       "    }\n",
       "</style>\n",
       "<table border=\"1\" class=\"dataframe\">\n",
       "  <thead>\n",
       "    <tr style=\"text-align: right;\">\n",
       "      <th></th>\n",
       "      <th>DA</th>\n",
       "      <th>DK</th>\n",
       "      <th>DQ</th>\n",
       "      <th>DJ</th>\n",
       "      <th>D10</th>\n",
       "      <th>D9</th>\n",
       "      <th>D8</th>\n",
       "      <th>D7</th>\n",
       "      <th>D6</th>\n",
       "      <th>HA</th>\n",
       "      <th>...</th>\n",
       "      <th>S_J9_plus_card_and_2_other_aces</th>\n",
       "      <th>C_J9</th>\n",
       "      <th>C_AKQ</th>\n",
       "      <th>C_678</th>\n",
       "      <th>C_J_and_4_more</th>\n",
       "      <th>C_9A_and_3_more</th>\n",
       "      <th>C_J9A</th>\n",
       "      <th>C_J9_plus_card_and_2_other_aces</th>\n",
       "      <th>any_specified_feature_true</th>\n",
       "      <th>bad_decision</th>\n",
       "    </tr>\n",
       "  </thead>\n",
       "  <tbody>\n",
       "    <tr>\n",
       "      <th>0</th>\n",
       "      <td>False</td>\n",
       "      <td>False</td>\n",
       "      <td>False</td>\n",
       "      <td>True</td>\n",
       "      <td>True</td>\n",
       "      <td>False</td>\n",
       "      <td>True</td>\n",
       "      <td>True</td>\n",
       "      <td>False</td>\n",
       "      <td>False</td>\n",
       "      <td>...</td>\n",
       "      <td>False</td>\n",
       "      <td>False</td>\n",
       "      <td>False</td>\n",
       "      <td>False</td>\n",
       "      <td>False</td>\n",
       "      <td>False</td>\n",
       "      <td>False</td>\n",
       "      <td>False</td>\n",
       "      <td>False</td>\n",
       "      <td>False</td>\n",
       "    </tr>\n",
       "    <tr>\n",
       "      <th>1</th>\n",
       "      <td>False</td>\n",
       "      <td>False</td>\n",
       "      <td>False</td>\n",
       "      <td>False</td>\n",
       "      <td>False</td>\n",
       "      <td>False</td>\n",
       "      <td>False</td>\n",
       "      <td>False</td>\n",
       "      <td>True</td>\n",
       "      <td>True</td>\n",
       "      <td>...</td>\n",
       "      <td>False</td>\n",
       "      <td>False</td>\n",
       "      <td>False</td>\n",
       "      <td>False</td>\n",
       "      <td>False</td>\n",
       "      <td>False</td>\n",
       "      <td>False</td>\n",
       "      <td>False</td>\n",
       "      <td>False</td>\n",
       "      <td>False</td>\n",
       "    </tr>\n",
       "    <tr>\n",
       "      <th>2</th>\n",
       "      <td>True</td>\n",
       "      <td>False</td>\n",
       "      <td>False</td>\n",
       "      <td>True</td>\n",
       "      <td>False</td>\n",
       "      <td>False</td>\n",
       "      <td>False</td>\n",
       "      <td>False</td>\n",
       "      <td>False</td>\n",
       "      <td>False</td>\n",
       "      <td>...</td>\n",
       "      <td>False</td>\n",
       "      <td>False</td>\n",
       "      <td>False</td>\n",
       "      <td>False</td>\n",
       "      <td>False</td>\n",
       "      <td>False</td>\n",
       "      <td>False</td>\n",
       "      <td>False</td>\n",
       "      <td>False</td>\n",
       "      <td>False</td>\n",
       "    </tr>\n",
       "    <tr>\n",
       "      <th>3</th>\n",
       "      <td>False</td>\n",
       "      <td>False</td>\n",
       "      <td>False</td>\n",
       "      <td>False</td>\n",
       "      <td>False</td>\n",
       "      <td>False</td>\n",
       "      <td>False</td>\n",
       "      <td>False</td>\n",
       "      <td>False</td>\n",
       "      <td>True</td>\n",
       "      <td>...</td>\n",
       "      <td>False</td>\n",
       "      <td>False</td>\n",
       "      <td>False</td>\n",
       "      <td>False</td>\n",
       "      <td>False</td>\n",
       "      <td>False</td>\n",
       "      <td>False</td>\n",
       "      <td>False</td>\n",
       "      <td>False</td>\n",
       "      <td>False</td>\n",
       "    </tr>\n",
       "    <tr>\n",
       "      <th>4</th>\n",
       "      <td>False</td>\n",
       "      <td>True</td>\n",
       "      <td>False</td>\n",
       "      <td>False</td>\n",
       "      <td>False</td>\n",
       "      <td>False</td>\n",
       "      <td>False</td>\n",
       "      <td>False</td>\n",
       "      <td>True</td>\n",
       "      <td>True</td>\n",
       "      <td>...</td>\n",
       "      <td>False</td>\n",
       "      <td>False</td>\n",
       "      <td>False</td>\n",
       "      <td>False</td>\n",
       "      <td>False</td>\n",
       "      <td>False</td>\n",
       "      <td>False</td>\n",
       "      <td>False</td>\n",
       "      <td>True</td>\n",
       "      <td>False</td>\n",
       "    </tr>\n",
       "  </tbody>\n",
       "</table>\n",
       "<p>5 rows × 70 columns</p>\n",
       "</div>"
      ]
     },
     "execution_count": 42,
     "metadata": {},
     "output_type": "execute_result"
    }
   ],
   "execution_count": 42
  },
  {
   "metadata": {
    "ExecuteTime": {
     "end_time": "2024-11-05T18:27:35.905604Z",
     "start_time": "2024-11-05T18:27:35.898672Z"
    }
   },
   "cell_type": "code",
   "source": [
    "# Count the number of unique good and bad players\n",
    "bad_player_counts = user_labels.value_counts()\n",
    "print(bad_player_counts)"
   ],
   "outputs": [
    {
     "name": "stdout",
     "output_type": "stream",
     "text": [
      "bad_player\n",
      "0    2181\n",
      "1    1310\n",
      "Name: count, dtype: int64\n"
     ]
    }
   ],
   "execution_count": 43
  },
  {
   "metadata": {
    "ExecuteTime": {
     "end_time": "2024-11-05T18:27:36.013112Z",
     "start_time": "2024-11-05T18:27:36.005750Z"
    }
   },
   "cell_type": "code",
   "source": "user_labels",
   "outputs": [
    {
     "data": {
      "text/plain": [
       "user\n",
       "0        0\n",
       "1        0\n",
       "199      1\n",
       "331      0\n",
       "345      0\n",
       "        ..\n",
       "84453    1\n",
       "85114    0\n",
       "85653    1\n",
       "85654    0\n",
       "85907    1\n",
       "Name: bad_player, Length: 3491, dtype: int64"
      ]
     },
     "execution_count": 44,
     "metadata": {},
     "output_type": "execute_result"
    }
   ],
   "execution_count": 44
  },
  {
   "metadata": {
    "ExecuteTime": {
     "end_time": "2024-11-05T18:27:36.384839Z",
     "start_time": "2024-11-05T18:27:36.243431Z"
    }
   },
   "cell_type": "code",
   "source": [
    "# Filter to keep only good users (where 'bad_player' == 0)\n",
    "good_users = user_labels[user_labels == 0].index  # Extract user IDs where 'bad_player' is 0\n",
    "\n",
    "\n",
    "filtered_data = data[data['user'].isin(good_users)]\n",
    "\n",
    "\n",
    "# Drop the 'bad_player' column if it exists, as we only want the data without bad user information\n",
    "filtered_data = filtered_data.drop(columns=['bad_player', 'bad_decision', 'user', 'cards_count'], errors='ignore')\n",
    "\n",
    "\n",
    "print(filtered_data.columns)"
   ],
   "outputs": [
    {
     "name": "stdout",
     "output_type": "stream",
     "text": [
      "Index(['DA', 'DK', 'DQ', 'DJ', 'D10', 'D9', 'D8', 'D7', 'D6', 'HA', 'HK', 'HQ',\n",
      "       'HJ', 'H10', 'H9', 'H8', 'H7', 'H6', 'SA', 'SK', 'SQ', 'SJ', 'S10',\n",
      "       'S9', 'S8', 'S7', 'S6', 'CA', 'CK', 'CQ', 'CJ', 'C10', 'C9', 'C8', 'C7',\n",
      "       'C6', 'FH', 'trump', 'D_J9', 'D_AKQ', 'D_678', 'D_J_and_4_more',\n",
      "       'D_9A_and_3_more', 'D_J9A', 'D_J9_plus_card_and_2_other_aces', 'H_J9',\n",
      "       'H_AKQ', 'H_678', 'H_J_and_4_more', 'H_9A_and_3_more', 'H_J9A',\n",
      "       'H_J9_plus_card_and_2_other_aces', 'S_J9', 'S_AKQ', 'S_678',\n",
      "       'S_J_and_4_more', 'S_9A_and_3_more', 'S_J9A',\n",
      "       'S_J9_plus_card_and_2_other_aces', 'C_J9', 'C_AKQ', 'C_678',\n",
      "       'C_J_and_4_more', 'C_9A_and_3_more', 'C_J9A',\n",
      "       'C_J9_plus_card_and_2_other_aces', 'any_specified_feature_true'],\n",
      "      dtype='object')\n"
     ]
    }
   ],
   "execution_count": 45
  },
  {
   "metadata": {
    "ExecuteTime": {
     "end_time": "2024-11-05T18:27:36.543647Z",
     "start_time": "2024-11-05T18:27:36.501561Z"
    }
   },
   "cell_type": "code",
   "source": "feature_columns = filtered_data.drop(columns=['trump'])",
   "outputs": [],
   "execution_count": 46
  },
  {
   "metadata": {
    "ExecuteTime": {
     "end_time": "2024-11-05T18:27:37.029336Z",
     "start_time": "2024-11-05T18:27:36.571659Z"
    }
   },
   "cell_type": "code",
   "source": [
    "# split the data\n",
    "X_train, X_test, y_train, y_test = train_test_split(\n",
    "    feature_columns, filtered_data['trump'], test_size=0.2, stratify=filtered_data['trump'], random_state=42\n",
    ")\n",
    "\n",
    "\n",
    "print(\"X_train shape:\", X_train.shape)\n",
    "print(\"y_train distribution:\\n\", y_train.value_counts())"
   ],
   "outputs": [
    {
     "name": "stdout",
     "output_type": "stream",
     "text": [
      "X_train shape: (234000, 66)\n",
      "y_train distribution:\n",
      " trump\n",
      "PUSH        89202\n",
      "UNE_UFE     29385\n",
      "SPADES      25959\n",
      "CLUBS       25546\n",
      "OBE_ABE     23743\n",
      "HEARTS      20249\n",
      "DIAMONDS    19916\n",
      "Name: count, dtype: int64\n"
     ]
    }
   ],
   "execution_count": 47
  },
  {
   "metadata": {
    "ExecuteTime": {
     "end_time": "2024-11-05T18:27:56.922948Z",
     "start_time": "2024-11-05T18:27:56.913801Z"
    }
   },
   "cell_type": "code",
   "source": "print(X_train.values)",
   "outputs": [
    {
     "name": "stdout",
     "output_type": "stream",
     "text": [
      "[[False  True  True ... False False False]\n",
      " [False False False ... False False False]\n",
      " [False  True False ... False False False]\n",
      " ...\n",
      " [False  True  True ... False False  True]\n",
      " [ True False False ... False False False]\n",
      " [ True  True  True ... False False  True]]\n"
     ]
    }
   ],
   "execution_count": 50
  },
  {
   "cell_type": "markdown",
   "metadata": {},
   "source": [
    "### Exercise: The final Score\n",
    "\n",
    "Use the best setting you could find, train the classifier on all training data and evaluate on the yet unseen test data."
   ]
  },
  {
   "metadata": {
    "ExecuteTime": {
     "end_time": "2024-10-31T07:31:19.155017Z",
     "start_time": "2024-10-31T07:31:19.150485Z"
    }
   },
   "cell_type": "code",
   "source": [
    "import torch\n",
    "import torch.nn as nn\n",
    "import torch.optim as optim\n",
    "from torch.utils.data import DataLoader, TensorDataset\n",
    "from sklearn.preprocessing import LabelEncoder\n",
    "from sklearn.utils.class_weight import compute_class_weight\n",
    "import numpy as np"
   ],
   "outputs": [],
   "execution_count": 1074
  },
  {
   "metadata": {
    "ExecuteTime": {
     "end_time": "2024-10-31T07:28:24.195053Z",
     "start_time": "2024-10-31T07:28:24.125445Z"
    }
   },
   "cell_type": "code",
   "source": [
    "# Encode the 'trump' target variable\n",
    "label_encoder = LabelEncoder()\n",
    "y_train_encoded = label_encoder.fit_transform(y_train)\n",
    "y_test_encoded = label_encoder.transform(y_test)\n",
    "push_label_encoded = label_encoder.transform([\"PUSH\"])[0]\n",
    "\n",
    "\n",
    "# Convert encoded targets to tensors\n",
    "y_train_tensor = torch.tensor(y_train_encoded, dtype=torch.long)\n",
    "y_test_tensor = torch.tensor(y_test_encoded, dtype=torch.long)\n",
    "\n",
    "# Convert data to PyTorch tensors\n",
    "X_train_tensor = torch.tensor(X_train.values, dtype=torch.float32)\n",
    "X_test_tensor = torch.tensor(X_test.values, dtype=torch.float32)\n",
    "\n",
    "\n",
    "# Define Dataset and DataLoader\n",
    "train_dataset = TensorDataset(X_train_tensor, y_train_tensor)\n",
    "test_dataset = TensorDataset(X_test_tensor, y_test_tensor)\n",
    "train_loader = DataLoader(train_dataset, batch_size=64, shuffle=True)\n",
    "test_loader = DataLoader(test_dataset, batch_size=64, shuffle=False)\n",
    "\n"
   ],
   "outputs": [],
   "execution_count": 1065
  },
  {
   "metadata": {
    "ExecuteTime": {
     "end_time": "2024-10-31T08:04:02.332386Z",
     "start_time": "2024-10-31T08:04:02.327677Z"
    }
   },
   "cell_type": "code",
   "source": [
    "# Define the neural network model\n",
    "class TrumpPredictorNN(nn.Module):\n",
    "    def __init__(self, input_size, output_size):\n",
    "        super(TrumpPredictorNN, self).__init__()\n",
    "        self.fc1 = nn.Linear(input_size, 128)\n",
    "        self.bn1 = nn.BatchNorm1d(128)\n",
    "        self.fc2 = nn.Linear(128, 64)\n",
    "        self.bn2 = nn.BatchNorm1d(64)\n",
    "        self.fc3 = nn.Linear(64, output_size)\n",
    "        # self.relu = nn.ReLU()\n",
    "        self.relu = nn.LeakyReLU(0.01)\n",
    "\n",
    "        self.dropout = nn.Dropout(0.5)\n",
    "\n",
    "    def forward(self, x):\n",
    "        x = self.relu(self.bn1(self.fc1(x)))\n",
    "        x = self.dropout(x)\n",
    "        x = self.relu(self.bn2(self.fc2(x)))\n",
    "        x = self.fc3(x)\n",
    "        return x"
   ],
   "outputs": [],
   "execution_count": 1104
  },
  {
   "metadata": {
    "ExecuteTime": {
     "end_time": "2024-10-31T08:04:02.959612Z",
     "start_time": "2024-10-31T08:04:02.920240Z"
    }
   },
   "cell_type": "code",
   "source": [
    "# Initialize model, loss function, and optimizer with updated input_size\n",
    "\n",
    "class_weights = compute_class_weight('balanced', classes=np.unique(y_train_encoded), y=y_train_encoded)\n",
    "class_weights_tensor = torch.tensor(class_weights, dtype=torch.float32)\n",
    "\n",
    "input_size = X_train.shape[1]  # Confirm this includes all features (66 in total)\n",
    "output_size = len(set(y_train))  # Number of unique classes in 'trump'\n",
    "model = TrumpPredictorNN(input_size, output_size)\n",
    "criterion = nn.CrossEntropyLoss(weight=class_weights_tensor)\n",
    "optimizer = optim.SGD(model.parameters(), lr=0.001, momentum=0.9)\n"
   ],
   "outputs": [],
   "execution_count": 1105
  },
  {
   "metadata": {
    "ExecuteTime": {
     "end_time": "2024-10-31T08:04:03.760991Z",
     "start_time": "2024-10-31T08:04:03.756458Z"
    }
   },
   "cell_type": "code",
   "source": [
    "def evaluate_model(model, test_loader):\n",
    "    model.eval()\n",
    "    total_loss = 0  # Initialize total loss for validation\n",
    "    with torch.no_grad():\n",
    "        for X_batch, y_batch in test_loader:\n",
    "            outputs = model(X_batch)\n",
    "            loss = criterion(outputs, y_batch)\n",
    "            # Accumulate the loss\n",
    "            total_loss += loss.item()\n",
    "    # Calculate average validation loss\n",
    "    average_loss = total_loss / len(test_loader)\n",
    "    return average_loss\n"
   ],
   "outputs": [],
   "execution_count": 1106
  },
  {
   "metadata": {
    "ExecuteTime": {
     "end_time": "2024-10-31T08:04:04.716930Z",
     "start_time": "2024-10-31T08:04:04.711903Z"
    }
   },
   "cell_type": "code",
   "source": [
    "# Training function\n",
    "\n",
    "training_losses = []\n",
    "validation_losses = []\n",
    "num_epochs = 25\n",
    "\n",
    "# Training function with average loss calculation and validation\n",
    "def train_model(model, train_loader, test_loader, num_epochs):\n",
    "    for epoch in range(num_epochs):\n",
    "        model.train()\n",
    "        total_train_loss = 0  # Initialize total training loss\n",
    "        for X_batch, y_batch in train_loader:\n",
    "            # Zero the gradients\n",
    "            optimizer.zero_grad()\n",
    "            # Forward pass\n",
    "            outputs = model(X_batch)\n",
    "            # Compute loss\n",
    "            loss = criterion(outputs, y_batch)\n",
    "            # Backward pass\n",
    "            loss.backward()\n",
    "            # Update weights\n",
    "            optimizer.step()\n",
    "            # Accumulate training loss\n",
    "            total_train_loss += loss.item()\n",
    "        # Calculate average training loss\n",
    "        average_train_loss = total_train_loss / len(train_loader)\n",
    "        \n",
    "        # Compute validation loss\n",
    "        val_loss = evaluate_model(model, test_loader)\n",
    "        \n",
    "        # After calculating average losses\n",
    "        training_losses.append(average_train_loss)\n",
    "        validation_losses.append(val_loss)\n",
    "        \n",
    "        # Print losses\n",
    "        print(f\"Epoch {epoch + 1}/{num_epochs}, Training Loss: {average_train_loss:.4f}, Validation Loss: {val_loss:.4f}\")\n"
   ],
   "outputs": [],
   "execution_count": 1107
  },
  {
   "metadata": {
    "ExecuteTime": {
     "end_time": "2024-10-31T08:07:44.808552Z",
     "start_time": "2024-10-31T08:04:33.763481Z"
    }
   },
   "cell_type": "code",
   "source": [
    "# Training the model\n",
    "train_model(model, train_loader, test_loader, num_epochs)"
   ],
   "outputs": [
    {
     "name": "stdout",
     "output_type": "stream",
     "text": [
      "Epoch 1/25, Training Loss: 1.1530, Validation Loss: 0.8507\n",
      "Epoch 2/25, Training Loss: 0.9385, Validation Loss: 0.8112\n",
      "Epoch 3/25, Training Loss: 0.8979, Validation Loss: 0.7956\n",
      "Epoch 4/25, Training Loss: 0.8805, Validation Loss: 0.7871\n",
      "Epoch 5/25, Training Loss: 0.8696, Validation Loss: 0.7808\n",
      "Epoch 6/25, Training Loss: 0.8597, Validation Loss: 0.7797\n",
      "Epoch 7/25, Training Loss: 0.8554, Validation Loss: 0.7759\n",
      "Epoch 8/25, Training Loss: 0.8506, Validation Loss: 0.7737\n",
      "Epoch 9/25, Training Loss: 0.8475, Validation Loss: 0.7751\n",
      "Epoch 10/25, Training Loss: 0.8443, Validation Loss: 0.7726\n",
      "Epoch 11/25, Training Loss: 0.8423, Validation Loss: 0.7718\n",
      "Epoch 12/25, Training Loss: 0.8412, Validation Loss: 0.7728\n",
      "Epoch 13/25, Training Loss: 0.8383, Validation Loss: 0.7691\n",
      "Epoch 14/25, Training Loss: 0.8366, Validation Loss: 0.7704\n",
      "Epoch 15/25, Training Loss: 0.8360, Validation Loss: 0.7683\n",
      "Epoch 16/25, Training Loss: 0.8343, Validation Loss: 0.7657\n",
      "Epoch 17/25, Training Loss: 0.8319, Validation Loss: 0.7646\n",
      "Epoch 18/25, Training Loss: 0.8309, Validation Loss: 0.7656\n",
      "Epoch 19/25, Training Loss: 0.8293, Validation Loss: 0.7672\n",
      "Epoch 20/25, Training Loss: 0.8291, Validation Loss: 0.7695\n",
      "Epoch 21/25, Training Loss: 0.8283, Validation Loss: 0.7639\n",
      "Epoch 22/25, Training Loss: 0.8266, Validation Loss: 0.7640\n",
      "Epoch 23/25, Training Loss: 0.8266, Validation Loss: 0.7632\n",
      "Epoch 24/25, Training Loss: 0.8254, Validation Loss: 0.7650\n",
      "Epoch 25/25, Training Loss: 0.8265, Validation Loss: 0.7626\n"
     ]
    }
   ],
   "execution_count": 1109
  },
  {
   "metadata": {
    "ExecuteTime": {
     "end_time": "2024-10-31T08:14:11.300052Z",
     "start_time": "2024-10-31T08:14:11.185461Z"
    }
   },
   "cell_type": "code",
   "source": [
    "# After training is complete\n",
    "plt.figure(figsize=(8, 6))\n",
    "plt.plot(range(1, num_epochs + 1), training_losses, label='Training Loss')\n",
    "plt.plot(range(1, num_epochs + 1), validation_losses, label='Validation Loss')\n",
    "plt.xlabel('Epochs')\n",
    "plt.ylabel('Loss')\n",
    "plt.title('Training and Validation Loss over Epochs')\n",
    "plt.legend()\n",
    "plt.show()"
   ],
   "outputs": [
    {
     "data": {
      "text/plain": [
       "<Figure size 800x600 with 1 Axes>"
      ],
      "image/png": "[encoded data removed]"
     },
     "metadata": {},
     "output_type": "display_data"
    }
   ],
   "execution_count": 1110
  },
  {
   "metadata": {
    "ExecuteTime": {
     "end_time": "2024-10-31T08:14:19.784632Z",
     "start_time": "2024-10-31T08:14:19.779794Z"
    }
   },
   "cell_type": "code",
   "source": [
    "# Prediction function with restriction for `any_specified_feature_true`\n",
    "def predict_with_restriction(model, X, any_specified_feature_true):\n",
    "    model.eval()\n",
    "    with torch.no_grad():\n",
    "        outputs = model(X)\n",
    "        _, predictions = torch.max(outputs, 1)\n",
    "        # Apply restriction: Change \"PUSH\" predictions if `any_specified_feature_true` is True\n",
    "        restricted_predictions = []\n",
    "        for i, pred in enumerate(predictions):\n",
    "            if any_specified_feature_true[i] and pred == push_label_encoded:\n",
    "                # Assign a different class (e.g., set to class 0 as a fallback)\n",
    "                restricted_predictions.append(0)\n",
    "            else:\n",
    "                restricted_predictions.append(pred.item())\n",
    "        return torch.tensor(restricted_predictions)\n"
   ],
   "outputs": [],
   "execution_count": 1111
  },
  {
   "metadata": {
    "ExecuteTime": {
     "end_time": "2024-10-31T08:14:22.881869Z",
     "start_time": "2024-10-31T08:14:22.545692Z"
    }
   },
   "cell_type": "code",
   "source": [
    "# Making predictions with the restriction\n",
    "any_specified_feature_true = X_test['any_specified_feature_true'].values  # Assuming this is available\n",
    "X_test_tensor_restricted = torch.tensor(X_test.values, dtype=torch.float32)\n",
    "\n",
    "restricted_preds = predict_with_restriction(model, X_test_tensor_restricted, any_specified_feature_true)\n"
   ],
   "outputs": [],
   "execution_count": 1112
  },
  {
   "metadata": {
    "ExecuteTime": {
     "end_time": "2024-10-31T08:14:25.872375Z",
     "start_time": "2024-10-31T08:14:25.868138Z"
    }
   },
   "cell_type": "code",
   "source": [
    "# Evaluate the model (you can use metrics like accuracy, F1 score, etc.)\n",
    "accuracy = (restricted_preds == y_test_tensor).float().mean()\n",
    "print(f\"Accuracy with restriction: {accuracy:.4f}\")"
   ],
   "outputs": [
    {
     "name": "stdout",
     "output_type": "stream",
     "text": [
      "Accuracy with restriction: 0.5185\n"
     ]
    }
   ],
   "execution_count": 1113
  },
  {
   "metadata": {
    "ExecuteTime": {
     "end_time": "2024-10-31T08:14:30.038310Z",
     "start_time": "2024-10-31T08:14:30.021636Z"
    }
   },
   "cell_type": "code",
   "source": [
    "import matplotlib.pyplot as plt\n",
    "import seaborn as sns\n",
    "from sklearn.metrics import confusion_matrix\n",
    "import numpy as np\n"
   ],
   "outputs": [],
   "execution_count": 1115
  },
  {
   "metadata": {
    "ExecuteTime": {
     "end_time": "2024-10-31T08:14:32.002394Z",
     "start_time": "2024-10-31T08:14:30.417765Z"
    }
   },
   "cell_type": "code",
   "source": [
    "# Ensure the model is in evaluation mode\n",
    "model.eval()\n",
    "\n",
    "# Lists to store true labels and predictions\n",
    "all_targets = []\n",
    "all_preds = []\n",
    "\n",
    "with torch.no_grad():\n",
    "    for X_batch, y_batch in test_loader:\n",
    "        outputs = model(X_batch)\n",
    "        _, preds = torch.max(outputs, 1)\n",
    "        all_targets.extend(y_batch.cpu().numpy())\n",
    "        all_preds.extend(preds.cpu().numpy())\n",
    "\n",
    "\n",
    "# Compute confusion matrix\n",
    "cm = confusion_matrix(all_targets, all_preds)\n",
    "\n",
    "# Get class labels from the label encoder\n",
    "labels = label_encoder.classes_\n",
    "\n",
    "# Plot confusion matrix\n",
    "plt.figure(figsize=(10, 8))\n",
    "sns.heatmap(cm, annot=True, fmt='d', xticklabels=labels, yticklabels=labels, cmap='Blues')\n",
    "\n",
    "plt.ylabel('True Labels')\n",
    "plt.xlabel('Predicted Labels')\n",
    "plt.title('Confusion Matrix')\n",
    "plt.show()\n"
   ],
   "outputs": [
    {
     "data": {
      "text/plain": [
       "<Figure size 1000x800 with 2 Axes>"
      ],
      "image/png": "[encoded data removed]"
     },
     "metadata": {},
     "output_type": "display_data"
    }
   ],
   "execution_count": 1116
  },
  {
   "metadata": {
    "ExecuteTime": {
     "end_time": "2024-10-31T07:55:09.975131Z",
     "start_time": "2024-10-31T07:55:09.972067Z"
    }
   },
   "cell_type": "code",
   "source": [
    "# import joblib\n",
    "# \n",
    "# # Save the trained model\n",
    "# joblib.dump(mlpc, 'mlp_trump_selector_model.joblib')"
   ],
   "outputs": [],
   "execution_count": 1098
  },
  {
   "metadata": {},
   "cell_type": "code",
   "outputs": [],
   "execution_count": null,
   "source": ""
  }
 ],
 "metadata": {
  "kernelspec": {
   "display_name": "Python 3 (ipykernel)",
   "language": "python",
   "name": "python3"
  },
  "language_info": {
   "codemirror_mode": {
    "name": "ipython",
    "version": 3
   },
   "file_extension": ".py",
   "mimetype": "text/x-python",
   "name": "python",
   "nbconvert_exporter": "python",
   "pygments_lexer": "ipython3",
   "version": "3.10.4"
  }
 },
 "nbformat": 4,
 "nbformat_minor": 2
}
