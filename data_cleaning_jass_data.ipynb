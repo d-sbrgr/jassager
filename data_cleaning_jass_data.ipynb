{
 "cells": [
  {
   "cell_type": "code",
   "id": "initial_id",
   "metadata": {
    "collapsed": true,
    "ExecuteTime": {
     "end_time": "2024-11-05T19:32:10.383578Z",
     "start_time": "2024-11-05T19:32:10.378758Z"
    }
   },
   "source": [
    "%matplotlib inline\n",
    "\n",
    "import math\n",
    "import numpy as np\n",
    "import pandas as pd\n",
    "import matplotlib.pyplot as plt\n",
    "\n",
    "from pathlib import Path\n",
    "from sklearn.model_selection import train_test_split\n",
    "from sklearn.neural_network import MLPClassifier\n",
    "from sklearn.metrics import confusion_matrix, ConfusionMatrixDisplay\n"
   ],
   "outputs": [],
   "execution_count": 8
  },
  {
   "metadata": {
    "ExecuteTime": {
     "end_time": "2024-11-05T19:32:10.853241Z",
     "start_time": "2024-11-05T19:32:10.849654Z"
    }
   },
   "cell_type": "code",
   "source": "path_to_data = Path('jass_data')",
   "id": "55092c44143b4a42",
   "outputs": [],
   "execution_count": 9
  },
  {
   "metadata": {
    "ExecuteTime": {
     "end_time": "2024-11-05T19:32:11.694292Z",
     "start_time": "2024-11-05T19:32:11.174966Z"
    }
   },
   "cell_type": "code",
   "source": "data = pd.read_csv(path_to_data / '2018_10_18_trump.csv', header=None)",
   "id": "8f1b5f9aaaa44185",
   "outputs": [],
   "execution_count": 10
  },
  {
   "metadata": {
    "ExecuteTime": {
     "end_time": "2024-11-05T19:32:11.717511Z",
     "start_time": "2024-11-05T19:32:11.697307Z"
    }
   },
   "cell_type": "code",
   "source": [
    "cards = [\n",
    "# Diamonds\n",
    "'DA','DK','DQ','DJ','D10','D9','D8','D7','D6',\n",
    "# Hearts\n",
    "'HA','HK','HQ','HJ','H10','H9','H8','H7','H6',\n",
    "# Spades\n",
    "'SA','SK','SQ','SJ','S10','S9','S8','S7','S6',\n",
    "# Clubs\n",
    "'CA','CK','CQ','CJ','C10','C9','C8','C7','C6'\n",
    "]\n",
    "\n",
    "# Forehand (yes = 1, no = 0)\n",
    "forehand = ['FH']\n",
    "\n",
    "user  = ['user']\n",
    "trump = ['trump']\n",
    "\n",
    "data.columns = cards + forehand + user + trump\n",
    "print(data.head())"
   ],
   "id": "3956a75c39adac9",
   "outputs": [
    {
     "name": "stdout",
     "output_type": "stream",
     "text": [
      "   DA  DK  DQ  DJ  D10  D9  D8  D7  D6  HA  ...  CQ  CJ  C10  C9  C8  C7  C6  \\\n",
      "0   0   0   0   1    1   0   1   1   0   0  ...   1   0    0   0   1   0   0   \n",
      "1   0   0   0   0    0   0   0   0   1   1  ...   0   1    0   0   0   1   0   \n",
      "2   1   0   0   1    0   0   0   0   0   0  ...   1   0    0   0   0   1   1   \n",
      "3   0   0   0   0    0   0   0   0   0   1  ...   0   0    1   1   0   0   0   \n",
      "4   0   1   0   0    0   0   0   0   1   1  ...   0   1    0   0   0   0   0   \n",
      "\n",
      "   FH   user  trump  \n",
      "0   0  53248      6  \n",
      "1   0   4613      5  \n",
      "2   0  68780      6  \n",
      "3   0  24555      5  \n",
      "4   1   8392      4  \n",
      "\n",
      "[5 rows x 39 columns]\n"
     ]
    }
   ],
   "execution_count": 11
  },
  {
   "metadata": {
    "ExecuteTime": {
     "end_time": "2024-11-05T19:32:12.485406Z",
     "start_time": "2024-11-05T19:32:12.421535Z"
    }
   },
   "cell_type": "code",
   "source": [
    "data.trump = data.trump.astype('category')\n",
    "data[cards + forehand] = data[cards + forehand].astype(bool)\n",
    "data.dtypes"
   ],
   "id": "a101c578e8a39595",
   "outputs": [
    {
     "data": {
      "text/plain": [
       "DA           bool\n",
       "DK           bool\n",
       "DQ           bool\n",
       "DJ           bool\n",
       "D10          bool\n",
       "D9           bool\n",
       "D8           bool\n",
       "D7           bool\n",
       "D6           bool\n",
       "HA           bool\n",
       "HK           bool\n",
       "HQ           bool\n",
       "HJ           bool\n",
       "H10          bool\n",
       "H9           bool\n",
       "H8           bool\n",
       "H7           bool\n",
       "H6           bool\n",
       "SA           bool\n",
       "SK           bool\n",
       "SQ           bool\n",
       "SJ           bool\n",
       "S10          bool\n",
       "S9           bool\n",
       "S8           bool\n",
       "S7           bool\n",
       "S6           bool\n",
       "CA           bool\n",
       "CK           bool\n",
       "CQ           bool\n",
       "CJ           bool\n",
       "C10          bool\n",
       "C9           bool\n",
       "C8           bool\n",
       "C7           bool\n",
       "C6           bool\n",
       "FH           bool\n",
       "user        int64\n",
       "trump    category\n",
       "dtype: object"
      ]
     },
     "execution_count": 12,
     "metadata": {},
     "output_type": "execute_result"
    }
   ],
   "execution_count": 12
  },
  {
   "metadata": {
    "ExecuteTime": {
     "end_time": "2024-11-05T19:32:13.251852Z",
     "start_time": "2024-11-05T19:32:13.182058Z"
    }
   },
   "cell_type": "code",
   "source": [
    "data.trump = data.trump.cat.rename_categories({0: 'DIAMONDS', 1: 'HEARTS', 2: 'SPADES', 3:'CLUBS',\n",
    "                                  4: 'OBE_ABE', 5: 'UNE_UFE', 6: 'PUSH', 10: 'PUSH'})\n",
    "# Remove rows where the 'trump' column has the value 'PUSH'\n",
    "data = data[data['trump'] != 'PUSH']\n",
    "\n",
    "data.describe()"
   ],
   "id": "42dba4ee7a8f8cd2",
   "outputs": [
    {
     "data": {
      "text/plain": [
       "                user\n",
       "count  222271.000000\n",
       "mean    32058.063639\n",
       "std     28787.690786\n",
       "min         0.000000\n",
       "25%         0.000000\n",
       "50%     29201.000000\n",
       "75%     56520.000000\n",
       "max     85907.000000"
      ],
      "text/html": [
       "<div>\n",
       "<style scoped>\n",
       "    .dataframe tbody tr th:only-of-type {\n",
       "        vertical-align: middle;\n",
       "    }\n",
       "\n",
       "    .dataframe tbody tr th {\n",
       "        vertical-align: top;\n",
       "    }\n",
       "\n",
       "    .dataframe thead th {\n",
       "        text-align: right;\n",
       "    }\n",
       "</style>\n",
       "<table border=\"1\" class=\"dataframe\">\n",
       "  <thead>\n",
       "    <tr style=\"text-align: right;\">\n",
       "      <th></th>\n",
       "      <th>user</th>\n",
       "    </tr>\n",
       "  </thead>\n",
       "  <tbody>\n",
       "    <tr>\n",
       "      <th>count</th>\n",
       "      <td>222271.000000</td>\n",
       "    </tr>\n",
       "    <tr>\n",
       "      <th>mean</th>\n",
       "      <td>32058.063639</td>\n",
       "    </tr>\n",
       "    <tr>\n",
       "      <th>std</th>\n",
       "      <td>28787.690786</td>\n",
       "    </tr>\n",
       "    <tr>\n",
       "      <th>min</th>\n",
       "      <td>0.000000</td>\n",
       "    </tr>\n",
       "    <tr>\n",
       "      <th>25%</th>\n",
       "      <td>0.000000</td>\n",
       "    </tr>\n",
       "    <tr>\n",
       "      <th>50%</th>\n",
       "      <td>29201.000000</td>\n",
       "    </tr>\n",
       "    <tr>\n",
       "      <th>75%</th>\n",
       "      <td>56520.000000</td>\n",
       "    </tr>\n",
       "    <tr>\n",
       "      <th>max</th>\n",
       "      <td>85907.000000</td>\n",
       "    </tr>\n",
       "  </tbody>\n",
       "</table>\n",
       "</div>"
      ]
     },
     "execution_count": 13,
     "metadata": {},
     "output_type": "execute_result"
    }
   ],
   "execution_count": 13
  },
  {
   "metadata": {
    "ExecuteTime": {
     "end_time": "2024-11-05T19:32:13.888839Z",
     "start_time": "2024-11-05T19:32:13.833343Z"
    }
   },
   "cell_type": "code",
   "source": [
    "data['cards_count'] = data[cards].sum(axis=1)\n",
    "valid_hands = data['cards_count'] == 9  \n",
    "\n",
    "if valid_hands.all():\n",
    "    print(\"All hands contain exactly 9 cards.\")\n",
    "else:\n",
    "    print(\"There are hands that do not contain exactly 9 cards.\")\n",
    "    print(data[~valid_hands][['card_count'] + cards])"
   ],
   "id": "dcbb3e40db0af12f",
   "outputs": [
    {
     "name": "stdout",
     "output_type": "stream",
     "text": [
      "All hands contain exactly 9 cards.\n"
     ]
    }
   ],
   "execution_count": 14
  },
  {
   "metadata": {
    "ExecuteTime": {
     "end_time": "2024-11-05T19:32:14.778517Z",
     "start_time": "2024-11-05T19:32:14.772834Z"
    }
   },
   "cell_type": "code",
   "source": [
    "def count_colors(data):\n",
    "    colors = {}\n",
    "    for color in 'DHSC':\n",
    "        # Count all cards of the given suit (e.g., all Diamonds, Hearts, etc.)\n",
    "        colors[color] = data[[f'{color}{rank}' for rank in ['A', 'K', 'Q', 'J', '10', '9', '8', '7', '6']]].sum(axis=1)\n",
    "    return colors"
   ],
   "id": "702cf44a2fc71fd6",
   "outputs": [],
   "execution_count": 15
  },
  {
   "metadata": {
    "ExecuteTime": {
     "end_time": "2024-11-05T19:32:15.734965Z",
     "start_time": "2024-11-05T19:32:15.730989Z"
    }
   },
   "cell_type": "code",
   "source": "feature_columns = cards + forehand",
   "id": "7608f790f22d661c",
   "outputs": [],
   "execution_count": 16
  },
  {
   "metadata": {
    "ExecuteTime": {
     "end_time": "2024-11-05T19:32:17.699864Z",
     "start_time": "2024-11-05T19:32:17.068236Z"
    }
   },
   "cell_type": "code",
   "source": [
    "# Initialize lists to store feature names\n",
    "feature_columns = []\n",
    "specified_features = []\n",
    "\n",
    "# Feature creation loop\n",
    "for color in 'DHSC':\n",
    "    # Jack and nine combination\n",
    "    new_col = f'{color}_J9'\n",
    "    data[new_col] = data[f'{color}J'] & data[f'{color}9']\n",
    "    feature_columns.append(new_col)\n",
    "    specified_features.append(new_col)\n",
    "    \n",
    "    # A K Q combination\n",
    "    new_col = f'{color}_AKQ'\n",
    "    data[new_col] = data[f'{color}A'] & data[f'{color}K'] & data[f'{color}Q']\n",
    "    feature_columns.append(new_col)\n",
    "    specified_features.append(new_col)\n",
    "    \n",
    "    # 6 7 8 combination\n",
    "    new_col = f'{color}_678'\n",
    "    data[new_col] = data[f'{color}6'] & data[f'{color}7'] & data[f'{color}8']\n",
    "    feature_columns.append(new_col)\n",
    "    specified_features.append(new_col)\n",
    "    \n",
    "    # Jack and nine combination with 4 more cards\n",
    "    new_col = f'{color}_J_and_4_more'\n",
    "    has_jack = data[f'{color}J']\n",
    "    color_count = count_colors(data)[color]\n",
    "    data[new_col] = has_jack & (color_count >= 5)\n",
    "    feature_columns.append(new_col)\n",
    "    specified_features.append(new_col)\n",
    "    \n",
    "    # 9, A, and at least 3 other cards in the same suit\n",
    "    new_col = f'{color}_9A_and_3_more'\n",
    "    has_nine = data[f'{color}9']\n",
    "    has_ace = data[f'{color}A']\n",
    "    data[new_col] = has_nine & has_ace & (color_count >= 5)\n",
    "    feature_columns.append(new_col)\n",
    "    specified_features.append(new_col)\n",
    "    \n",
    "    # Jack, 9, and Ace in the same suit\n",
    "    new_col = f'{color}_J9A'\n",
    "    has_jack = data[f'{color}J']\n",
    "    has_nine = data[f'{color}9']\n",
    "    has_ace = data[f'{color}A']\n",
    "    data[new_col] = has_jack & has_nine & has_ace\n",
    "    feature_columns.append(new_col)\n",
    "    specified_features.append(new_col)\n",
    "    \n",
    "    # Jack, 9, and at least one other card in suit, plus two Aces in other suits\n",
    "    new_col = f'{color}_J9_plus_card_and_2_other_aces'\n",
    "    other_ranks = ['A', 'K', 'Q', '10', '8', '7', '6']\n",
    "    other_cards_in_suit = data[[f'{color}{rank}' for rank in other_ranks]].any(axis=1)\n",
    "    other_colors = [c for c in 'DHSC' if c != color]\n",
    "    aces_in_other_suits = data[[f'{c}A' for c in other_colors]].sum(axis=1)\n",
    "    has_two_aces_in_other_suits = aces_in_other_suits >= 2\n",
    "    data[new_col] = has_jack & has_nine & other_cards_in_suit & has_two_aces_in_other_suits\n",
    "    feature_columns.append(new_col)\n",
    "    specified_features.append(new_col)\n",
    "\n",
    "# Create a new column that is True if any of the specified features is True\n",
    "data['any_specified_feature_true'] = data[specified_features].any(axis=1)\n",
    "\n"
   ],
   "id": "f2862c3eb3bb4b9a",
   "outputs": [],
   "execution_count": 17
  },
  {
   "metadata": {
    "ExecuteTime": {
     "end_time": "2024-11-05T19:32:23.594539Z",
     "start_time": "2024-11-05T19:32:23.579596Z"
    }
   },
   "cell_type": "code",
   "source": "data.head()",
   "id": "bc90ff6ff1349110",
   "outputs": [
    {
     "data": {
      "text/plain": [
       "      DA     DK     DQ     DJ    D10     D9     D8     D7     D6     HA  ...  \\\n",
       "1  False  False  False  False  False  False  False  False   True   True  ...   \n",
       "3  False  False  False  False  False  False  False  False  False   True  ...   \n",
       "4  False   True  False  False  False  False  False  False   True   True  ...   \n",
       "5  False  False   True  False  False  False   True  False   True  False  ...   \n",
       "7  False  False  False  False  False  False  False  False   True   True  ...   \n",
       "\n",
       "   S_J9A  S_J9_plus_card_and_2_other_aces   C_J9  C_AKQ  C_678  \\\n",
       "1  False                            False  False  False  False   \n",
       "3  False                            False  False  False  False   \n",
       "4  False                            False  False  False  False   \n",
       "5  False                            False  False  False  False   \n",
       "7  False                            False  False  False  False   \n",
       "\n",
       "   C_J_and_4_more  C_9A_and_3_more  C_J9A  C_J9_plus_card_and_2_other_aces  \\\n",
       "1           False            False  False                            False   \n",
       "3           False            False  False                            False   \n",
       "4           False            False  False                            False   \n",
       "5           False            False  False                            False   \n",
       "7           False            False  False                            False   \n",
       "\n",
       "   any_specified_feature_true  \n",
       "1                       False  \n",
       "3                       False  \n",
       "4                        True  \n",
       "5                       False  \n",
       "7                        True  \n",
       "\n",
       "[5 rows x 69 columns]"
      ],
      "text/html": [
       "<div>\n",
       "<style scoped>\n",
       "    .dataframe tbody tr th:only-of-type {\n",
       "        vertical-align: middle;\n",
       "    }\n",
       "\n",
       "    .dataframe tbody tr th {\n",
       "        vertical-align: top;\n",
       "    }\n",
       "\n",
       "    .dataframe thead th {\n",
       "        text-align: right;\n",
       "    }\n",
       "</style>\n",
       "<table border=\"1\" class=\"dataframe\">\n",
       "  <thead>\n",
       "    <tr style=\"text-align: right;\">\n",
       "      <th></th>\n",
       "      <th>DA</th>\n",
       "      <th>DK</th>\n",
       "      <th>DQ</th>\n",
       "      <th>DJ</th>\n",
       "      <th>D10</th>\n",
       "      <th>D9</th>\n",
       "      <th>D8</th>\n",
       "      <th>D7</th>\n",
       "      <th>D6</th>\n",
       "      <th>HA</th>\n",
       "      <th>...</th>\n",
       "      <th>S_J9A</th>\n",
       "      <th>S_J9_plus_card_and_2_other_aces</th>\n",
       "      <th>C_J9</th>\n",
       "      <th>C_AKQ</th>\n",
       "      <th>C_678</th>\n",
       "      <th>C_J_and_4_more</th>\n",
       "      <th>C_9A_and_3_more</th>\n",
       "      <th>C_J9A</th>\n",
       "      <th>C_J9_plus_card_and_2_other_aces</th>\n",
       "      <th>any_specified_feature_true</th>\n",
       "    </tr>\n",
       "  </thead>\n",
       "  <tbody>\n",
       "    <tr>\n",
       "      <th>1</th>\n",
       "      <td>False</td>\n",
       "      <td>False</td>\n",
       "      <td>False</td>\n",
       "      <td>False</td>\n",
       "      <td>False</td>\n",
       "      <td>False</td>\n",
       "      <td>False</td>\n",
       "      <td>False</td>\n",
       "      <td>True</td>\n",
       "      <td>True</td>\n",
       "      <td>...</td>\n",
       "      <td>False</td>\n",
       "      <td>False</td>\n",
       "      <td>False</td>\n",
       "      <td>False</td>\n",
       "      <td>False</td>\n",
       "      <td>False</td>\n",
       "      <td>False</td>\n",
       "      <td>False</td>\n",
       "      <td>False</td>\n",
       "      <td>False</td>\n",
       "    </tr>\n",
       "    <tr>\n",
       "      <th>3</th>\n",
       "      <td>False</td>\n",
       "      <td>False</td>\n",
       "      <td>False</td>\n",
       "      <td>False</td>\n",
       "      <td>False</td>\n",
       "      <td>False</td>\n",
       "      <td>False</td>\n",
       "      <td>False</td>\n",
       "      <td>False</td>\n",
       "      <td>True</td>\n",
       "      <td>...</td>\n",
       "      <td>False</td>\n",
       "      <td>False</td>\n",
       "      <td>False</td>\n",
       "      <td>False</td>\n",
       "      <td>False</td>\n",
       "      <td>False</td>\n",
       "      <td>False</td>\n",
       "      <td>False</td>\n",
       "      <td>False</td>\n",
       "      <td>False</td>\n",
       "    </tr>\n",
       "    <tr>\n",
       "      <th>4</th>\n",
       "      <td>False</td>\n",
       "      <td>True</td>\n",
       "      <td>False</td>\n",
       "      <td>False</td>\n",
       "      <td>False</td>\n",
       "      <td>False</td>\n",
       "      <td>False</td>\n",
       "      <td>False</td>\n",
       "      <td>True</td>\n",
       "      <td>True</td>\n",
       "      <td>...</td>\n",
       "      <td>False</td>\n",
       "      <td>False</td>\n",
       "      <td>False</td>\n",
       "      <td>False</td>\n",
       "      <td>False</td>\n",
       "      <td>False</td>\n",
       "      <td>False</td>\n",
       "      <td>False</td>\n",
       "      <td>False</td>\n",
       "      <td>True</td>\n",
       "    </tr>\n",
       "    <tr>\n",
       "      <th>5</th>\n",
       "      <td>False</td>\n",
       "      <td>False</td>\n",
       "      <td>True</td>\n",
       "      <td>False</td>\n",
       "      <td>False</td>\n",
       "      <td>False</td>\n",
       "      <td>True</td>\n",
       "      <td>False</td>\n",
       "      <td>True</td>\n",
       "      <td>False</td>\n",
       "      <td>...</td>\n",
       "      <td>False</td>\n",
       "      <td>False</td>\n",
       "      <td>False</td>\n",
       "      <td>False</td>\n",
       "      <td>False</td>\n",
       "      <td>False</td>\n",
       "      <td>False</td>\n",
       "      <td>False</td>\n",
       "      <td>False</td>\n",
       "      <td>False</td>\n",
       "    </tr>\n",
       "    <tr>\n",
       "      <th>7</th>\n",
       "      <td>False</td>\n",
       "      <td>False</td>\n",
       "      <td>False</td>\n",
       "      <td>False</td>\n",
       "      <td>False</td>\n",
       "      <td>False</td>\n",
       "      <td>False</td>\n",
       "      <td>False</td>\n",
       "      <td>True</td>\n",
       "      <td>True</td>\n",
       "      <td>...</td>\n",
       "      <td>False</td>\n",
       "      <td>False</td>\n",
       "      <td>False</td>\n",
       "      <td>False</td>\n",
       "      <td>False</td>\n",
       "      <td>False</td>\n",
       "      <td>False</td>\n",
       "      <td>False</td>\n",
       "      <td>False</td>\n",
       "      <td>True</td>\n",
       "    </tr>\n",
       "  </tbody>\n",
       "</table>\n",
       "<p>5 rows × 69 columns</p>\n",
       "</div>"
      ]
     },
     "execution_count": 18,
     "metadata": {},
     "output_type": "execute_result"
    }
   ],
   "execution_count": 18
  },
  {
   "metadata": {
    "ExecuteTime": {
     "end_time": "2024-11-05T19:32:25.408182Z",
     "start_time": "2024-11-05T19:32:25.400417Z"
    }
   },
   "cell_type": "code",
   "source": [
    "# Count unique user IDs\n",
    "num_unique_users = data['user'].nunique()\n",
    "print(\"Number of unique users:\", num_unique_users)"
   ],
   "id": "8fe74f9fe6ac0cc4",
   "outputs": [
    {
     "name": "stdout",
     "output_type": "stream",
     "text": [
      "Number of unique users: 3222\n"
     ]
    }
   ],
   "execution_count": 19
  },
  {
   "metadata": {
    "ExecuteTime": {
     "end_time": "2024-11-05T19:32:29.440001Z",
     "start_time": "2024-11-05T19:32:29.430569Z"
    }
   },
   "cell_type": "code",
   "source": [
    "# Count occurrences of each user ID\n",
    "user_counts = data['user'].value_counts()\n",
    "print(user_counts)"
   ],
   "id": "a173c8249dce1ca7",
   "outputs": [
    {
     "name": "stdout",
     "output_type": "stream",
     "text": [
      "user\n",
      "0        59264\n",
      "4035       871\n",
      "19345      827\n",
      "56019      822\n",
      "26309      669\n",
      "         ...  \n",
      "61197        1\n",
      "7821         1\n",
      "83211        1\n",
      "81855        1\n",
      "82883        1\n",
      "Name: count, Length: 3222, dtype: int64\n"
     ]
    }
   ],
   "execution_count": 20
  },
  {
   "metadata": {
    "ExecuteTime": {
     "end_time": "2024-11-05T19:32:44.998295Z",
     "start_time": "2024-11-05T19:32:44.615127Z"
    }
   },
   "cell_type": "code",
   "source": [
    "# Display basic statistics\n",
    "print(user_counts.describe())\n",
    "\n",
    "# Plot a histogram to visualize the distribution of rounds per user\n",
    "plt.figure(figsize=(10, 6))\n",
    "plt.hist(user_counts, bins=30, edgecolor='k', log=True)  # Using log scale for better visualization\n",
    "plt.xlabel('Number of Rounds per User')\n",
    "plt.ylabel('Number of Users')\n",
    "plt.title('Distribution of Rounds per User')\n",
    "plt.show()\n"
   ],
   "id": "802a47bcfdf761e6",
   "outputs": [
    {
     "name": "stdout",
     "output_type": "stream",
     "text": [
      "count     3222.000000\n",
      "mean        68.985413\n",
      "std       1047.085722\n",
      "min          1.000000\n",
      "25%          2.000000\n",
      "50%         11.000000\n",
      "75%         59.000000\n",
      "max      59264.000000\n",
      "Name: count, dtype: float64\n"
     ]
    },
    {
     "data": {
      "text/plain": [
       "<Figure size 1000x600 with 1 Axes>"
      ],
      "image/png": "[encoded data removed]"
     },
     "metadata": {},
     "output_type": "display_data"
    }
   ],
   "execution_count": 21
  },
  {
   "metadata": {
    "ExecuteTime": {
     "end_time": "2024-11-05T19:32:47.461214Z",
     "start_time": "2024-11-05T19:32:47.412496Z"
    }
   },
   "cell_type": "code",
   "source": [
    "# Remove User 0 if determined to be a bot or outlier\n",
    "filtered_data = data[data['user'] != 0]\n"
   ],
   "id": "907b11f9000738c8",
   "outputs": [],
   "execution_count": 22
  },
  {
   "metadata": {
    "ExecuteTime": {
     "end_time": "2024-11-05T19:32:53.304524Z",
     "start_time": "2024-11-05T19:32:53.282956Z"
    }
   },
   "cell_type": "code",
   "source": "filtered_data.describe()",
   "id": "ab25c637452e1d84",
   "outputs": [
    {
     "data": {
      "text/plain": [
       "                user  cards_count\n",
       "count  163007.000000     163007.0\n",
       "mean    43713.324354          9.0\n",
       "std     24910.623019          0.0\n",
       "min         1.000000          9.0\n",
       "25%     17550.000000          9.0\n",
       "50%     52246.000000          9.0\n",
       "75%     61335.000000          9.0\n",
       "max     85907.000000          9.0"
      ],
      "text/html": [
       "<div>\n",
       "<style scoped>\n",
       "    .dataframe tbody tr th:only-of-type {\n",
       "        vertical-align: middle;\n",
       "    }\n",
       "\n",
       "    .dataframe tbody tr th {\n",
       "        vertical-align: top;\n",
       "    }\n",
       "\n",
       "    .dataframe thead th {\n",
       "        text-align: right;\n",
       "    }\n",
       "</style>\n",
       "<table border=\"1\" class=\"dataframe\">\n",
       "  <thead>\n",
       "    <tr style=\"text-align: right;\">\n",
       "      <th></th>\n",
       "      <th>user</th>\n",
       "      <th>cards_count</th>\n",
       "    </tr>\n",
       "  </thead>\n",
       "  <tbody>\n",
       "    <tr>\n",
       "      <th>count</th>\n",
       "      <td>163007.000000</td>\n",
       "      <td>163007.0</td>\n",
       "    </tr>\n",
       "    <tr>\n",
       "      <th>mean</th>\n",
       "      <td>43713.324354</td>\n",
       "      <td>9.0</td>\n",
       "    </tr>\n",
       "    <tr>\n",
       "      <th>std</th>\n",
       "      <td>24910.623019</td>\n",
       "      <td>0.0</td>\n",
       "    </tr>\n",
       "    <tr>\n",
       "      <th>min</th>\n",
       "      <td>1.000000</td>\n",
       "      <td>9.0</td>\n",
       "    </tr>\n",
       "    <tr>\n",
       "      <th>25%</th>\n",
       "      <td>17550.000000</td>\n",
       "      <td>9.0</td>\n",
       "    </tr>\n",
       "    <tr>\n",
       "      <th>50%</th>\n",
       "      <td>52246.000000</td>\n",
       "      <td>9.0</td>\n",
       "    </tr>\n",
       "    <tr>\n",
       "      <th>75%</th>\n",
       "      <td>61335.000000</td>\n",
       "      <td>9.0</td>\n",
       "    </tr>\n",
       "    <tr>\n",
       "      <th>max</th>\n",
       "      <td>85907.000000</td>\n",
       "      <td>9.0</td>\n",
       "    </tr>\n",
       "  </tbody>\n",
       "</table>\n",
       "</div>"
      ]
     },
     "execution_count": 23,
     "metadata": {},
     "output_type": "execute_result"
    }
   ],
   "execution_count": 23
  },
  {
   "metadata": {
    "ExecuteTime": {
     "end_time": "2024-11-05T19:33:00.897173Z",
     "start_time": "2024-11-05T19:33:00.641614Z"
    }
   },
   "cell_type": "code",
   "source": [
    "# Display basic statistics\n",
    "print(user_counts.describe())\n",
    "\n",
    "# Plot a histogram to visualize the distribution of rounds per user\n",
    "plt.figure(figsize=(10, 6))\n",
    "plt.hist(user_counts, bins=30, edgecolor='k', log=True)  # Using log scale for better visualization\n",
    "plt.xlabel('Number of Rounds per User')\n",
    "plt.ylabel('Number of Users')\n",
    "plt.title('Distribution of Rounds per User')\n",
    "plt.show()"
   ],
   "id": "7f9298e519d6afca",
   "outputs": [
    {
     "name": "stdout",
     "output_type": "stream",
     "text": [
      "count     3222.000000\n",
      "mean        68.985413\n",
      "std       1047.085722\n",
      "min          1.000000\n",
      "25%          2.000000\n",
      "50%         11.000000\n",
      "75%         59.000000\n",
      "max      59264.000000\n",
      "Name: count, dtype: float64\n"
     ]
    },
    {
     "data": {
      "text/plain": [
       "<Figure size 1000x600 with 1 Axes>"
      ],
      "image/png": "[encoded data removed]"
     },
     "metadata": {},
     "output_type": "display_data"
    }
   ],
   "execution_count": 24
  },
  {
   "metadata": {
    "ExecuteTime": {
     "end_time": "2024-11-05T19:33:02.596507Z",
     "start_time": "2024-11-05T19:33:02.588364Z"
    }
   },
   "cell_type": "code",
   "source": [
    "# Count occurrences of each user ID\n",
    "user_counts = filtered_data['user'].value_counts()\n",
    "print(user_counts)"
   ],
   "id": "4f9720bef49e9b73",
   "outputs": [
    {
     "name": "stdout",
     "output_type": "stream",
     "text": [
      "user\n",
      "4035     871\n",
      "19345    827\n",
      "56019    822\n",
      "26309    669\n",
      "331      619\n",
      "        ... \n",
      "21406      1\n",
      "52012      1\n",
      "52177      1\n",
      "29138      1\n",
      "82820      1\n",
      "Name: count, Length: 3221, dtype: int64\n"
     ]
    }
   ],
   "execution_count": 25
  },
  {
   "metadata": {
    "ExecuteTime": {
     "end_time": "2024-11-05T19:33:09.853715Z",
     "start_time": "2024-11-05T19:33:09.848829Z"
    }
   },
   "cell_type": "code",
   "source": [
    "def check_bad_decision(row):\n",
    "    bad_decision = 0\n",
    "    # Check if player has any special feature\n",
    "    for color in 'DHSC':\n",
    "        # Rule for J9 and J_and_4_more: Trump should match the suit\n",
    "        if row[f'{color}_J9'] and row['trump'] != color:\n",
    "            bad_decision += 1\n",
    "        if row[f'{color}_J_and_4_more'] and row['trump'] != color:\n",
    "            bad_decision += 1\n",
    "\n",
    "        # Rule for AKQ: Trump can be the same suit or OBE_ABE\n",
    "        if row[f'{color}_AKQ'] and row['trump'] not in [color, 'OBE_ABE']:\n",
    "            bad_decision += 1\n",
    "\n",
    "    # Rule for 678: Trump should be UNE_UFE\n",
    "    if (row['D_678'] or row['H_678'] or row['S_678'] or row['C_678']) and row['trump'] != 'UNE_UFE':\n",
    "        bad_decision += 1\n",
    "\n",
    "    # Return 1 if it's a bad decision (incorrect trump choice) for this round, else 0\n",
    "    return bad_decision > 0"
   ],
   "id": "221f5eda890c4926",
   "outputs": [],
   "execution_count": 26
  },
  {
   "metadata": {
    "ExecuteTime": {
     "end_time": "2024-11-05T19:33:19.917743Z",
     "start_time": "2024-11-05T19:33:15.262985Z"
    }
   },
   "cell_type": "code",
   "source": [
    "# Make a true copy of filtered_data if not already done\n",
    "filtered_data = data[data['user'] != 0].copy()\n",
    "\n",
    "# Now apply the bad decision function without triggering a warning\n",
    "filtered_data['bad_decision'] = filtered_data.apply(check_bad_decision, axis=1)\n"
   ],
   "id": "2fd95f9b2545d1ed",
   "outputs": [],
   "execution_count": 27
  },
  {
   "metadata": {
    "ExecuteTime": {
     "end_time": "2024-11-05T19:33:20.657196Z",
     "start_time": "2024-11-05T19:33:20.642900Z"
    }
   },
   "cell_type": "code",
   "source": "filtered_data.head()",
   "id": "eca65aacc611753a",
   "outputs": [
    {
     "data": {
      "text/plain": [
       "      DA     DK     DQ     DJ    D10     D9     D8     D7     D6     HA  ...  \\\n",
       "1  False  False  False  False  False  False  False  False   True   True  ...   \n",
       "3  False  False  False  False  False  False  False  False  False   True  ...   \n",
       "4  False   True  False  False  False  False  False  False   True   True  ...   \n",
       "5  False  False   True  False  False  False   True  False   True  False  ...   \n",
       "7  False  False  False  False  False  False  False  False   True   True  ...   \n",
       "\n",
       "   S_J9_plus_card_and_2_other_aces   C_J9  C_AKQ  C_678  C_J_and_4_more  \\\n",
       "1                            False  False  False  False           False   \n",
       "3                            False  False  False  False           False   \n",
       "4                            False  False  False  False           False   \n",
       "5                            False  False  False  False           False   \n",
       "7                            False  False  False  False           False   \n",
       "\n",
       "   C_9A_and_3_more  C_J9A  C_J9_plus_card_and_2_other_aces  \\\n",
       "1            False  False                            False   \n",
       "3            False  False                            False   \n",
       "4            False  False                            False   \n",
       "5            False  False                            False   \n",
       "7            False  False                            False   \n",
       "\n",
       "   any_specified_feature_true  bad_decision  \n",
       "1                       False         False  \n",
       "3                       False         False  \n",
       "4                        True         False  \n",
       "5                       False         False  \n",
       "7                        True         False  \n",
       "\n",
       "[5 rows x 70 columns]"
      ],
      "text/html": [
       "<div>\n",
       "<style scoped>\n",
       "    .dataframe tbody tr th:only-of-type {\n",
       "        vertical-align: middle;\n",
       "    }\n",
       "\n",
       "    .dataframe tbody tr th {\n",
       "        vertical-align: top;\n",
       "    }\n",
       "\n",
       "    .dataframe thead th {\n",
       "        text-align: right;\n",
       "    }\n",
       "</style>\n",
       "<table border=\"1\" class=\"dataframe\">\n",
       "  <thead>\n",
       "    <tr style=\"text-align: right;\">\n",
       "      <th></th>\n",
       "      <th>DA</th>\n",
       "      <th>DK</th>\n",
       "      <th>DQ</th>\n",
       "      <th>DJ</th>\n",
       "      <th>D10</th>\n",
       "      <th>D9</th>\n",
       "      <th>D8</th>\n",
       "      <th>D7</th>\n",
       "      <th>D6</th>\n",
       "      <th>HA</th>\n",
       "      <th>...</th>\n",
       "      <th>S_J9_plus_card_and_2_other_aces</th>\n",
       "      <th>C_J9</th>\n",
       "      <th>C_AKQ</th>\n",
       "      <th>C_678</th>\n",
       "      <th>C_J_and_4_more</th>\n",
       "      <th>C_9A_and_3_more</th>\n",
       "      <th>C_J9A</th>\n",
       "      <th>C_J9_plus_card_and_2_other_aces</th>\n",
       "      <th>any_specified_feature_true</th>\n",
       "      <th>bad_decision</th>\n",
       "    </tr>\n",
       "  </thead>\n",
       "  <tbody>\n",
       "    <tr>\n",
       "      <th>1</th>\n",
       "      <td>False</td>\n",
       "      <td>False</td>\n",
       "      <td>False</td>\n",
       "      <td>False</td>\n",
       "      <td>False</td>\n",
       "      <td>False</td>\n",
       "      <td>False</td>\n",
       "      <td>False</td>\n",
       "      <td>True</td>\n",
       "      <td>True</td>\n",
       "      <td>...</td>\n",
       "      <td>False</td>\n",
       "      <td>False</td>\n",
       "      <td>False</td>\n",
       "      <td>False</td>\n",
       "      <td>False</td>\n",
       "      <td>False</td>\n",
       "      <td>False</td>\n",
       "      <td>False</td>\n",
       "      <td>False</td>\n",
       "      <td>False</td>\n",
       "    </tr>\n",
       "    <tr>\n",
       "      <th>3</th>\n",
       "      <td>False</td>\n",
       "      <td>False</td>\n",
       "      <td>False</td>\n",
       "      <td>False</td>\n",
       "      <td>False</td>\n",
       "      <td>False</td>\n",
       "      <td>False</td>\n",
       "      <td>False</td>\n",
       "      <td>False</td>\n",
       "      <td>True</td>\n",
       "      <td>...</td>\n",
       "      <td>False</td>\n",
       "      <td>False</td>\n",
       "      <td>False</td>\n",
       "      <td>False</td>\n",
       "      <td>False</td>\n",
       "      <td>False</td>\n",
       "      <td>False</td>\n",
       "      <td>False</td>\n",
       "      <td>False</td>\n",
       "      <td>False</td>\n",
       "    </tr>\n",
       "    <tr>\n",
       "      <th>4</th>\n",
       "      <td>False</td>\n",
       "      <td>True</td>\n",
       "      <td>False</td>\n",
       "      <td>False</td>\n",
       "      <td>False</td>\n",
       "      <td>False</td>\n",
       "      <td>False</td>\n",
       "      <td>False</td>\n",
       "      <td>True</td>\n",
       "      <td>True</td>\n",
       "      <td>...</td>\n",
       "      <td>False</td>\n",
       "      <td>False</td>\n",
       "      <td>False</td>\n",
       "      <td>False</td>\n",
       "      <td>False</td>\n",
       "      <td>False</td>\n",
       "      <td>False</td>\n",
       "      <td>False</td>\n",
       "      <td>True</td>\n",
       "      <td>False</td>\n",
       "    </tr>\n",
       "    <tr>\n",
       "      <th>5</th>\n",
       "      <td>False</td>\n",
       "      <td>False</td>\n",
       "      <td>True</td>\n",
       "      <td>False</td>\n",
       "      <td>False</td>\n",
       "      <td>False</td>\n",
       "      <td>True</td>\n",
       "      <td>False</td>\n",
       "      <td>True</td>\n",
       "      <td>False</td>\n",
       "      <td>...</td>\n",
       "      <td>False</td>\n",
       "      <td>False</td>\n",
       "      <td>False</td>\n",
       "      <td>False</td>\n",
       "      <td>False</td>\n",
       "      <td>False</td>\n",
       "      <td>False</td>\n",
       "      <td>False</td>\n",
       "      <td>False</td>\n",
       "      <td>False</td>\n",
       "    </tr>\n",
       "    <tr>\n",
       "      <th>7</th>\n",
       "      <td>False</td>\n",
       "      <td>False</td>\n",
       "      <td>False</td>\n",
       "      <td>False</td>\n",
       "      <td>False</td>\n",
       "      <td>False</td>\n",
       "      <td>False</td>\n",
       "      <td>False</td>\n",
       "      <td>True</td>\n",
       "      <td>True</td>\n",
       "      <td>...</td>\n",
       "      <td>False</td>\n",
       "      <td>False</td>\n",
       "      <td>False</td>\n",
       "      <td>False</td>\n",
       "      <td>False</td>\n",
       "      <td>False</td>\n",
       "      <td>False</td>\n",
       "      <td>False</td>\n",
       "      <td>True</td>\n",
       "      <td>False</td>\n",
       "    </tr>\n",
       "  </tbody>\n",
       "</table>\n",
       "<p>5 rows × 70 columns</p>\n",
       "</div>"
      ]
     },
     "execution_count": 28,
     "metadata": {},
     "output_type": "execute_result"
    }
   ],
   "execution_count": 28
  },
  {
   "metadata": {
    "ExecuteTime": {
     "end_time": "2024-11-05T19:33:23.183137Z",
     "start_time": "2024-11-05T19:33:23.152435Z"
    }
   },
   "cell_type": "code",
   "source": [
    "# Define the threshold for bad player categorization (25% of rounds with special features)\n",
    "bad_decision_threshold = 0.30\n",
    "\n",
    "# Count the total number of bad decisions per user\n",
    "bad_decision_counts = filtered_data.groupby('user')['bad_decision'].sum()\n",
    "\n",
    "# Count the number of rounds with special features per user (rounds where `bad_decision` is evaluated)\n",
    "special_feature_rounds = filtered_data.groupby('user')['bad_decision'].count()\n",
    "\n",
    "# Calculate the percentage of bad decisions for each user\n",
    "bad_decision_percentage = (bad_decision_counts / special_feature_rounds).fillna(0)\n",
    "\n",
    "# Label users as bad if their percentage of bad decisions exceeds the threshold\n",
    "user_labels = (bad_decision_percentage > bad_decision_threshold).astype(int)  # 1 for bad, 0 for good\n",
    "user_labels = user_labels.rename(\"bad_player\")"
   ],
   "id": "fbc8fbce34523405",
   "outputs": [],
   "execution_count": 29
  },
  {
   "metadata": {
    "ExecuteTime": {
     "end_time": "2024-11-05T19:33:24.764924Z",
     "start_time": "2024-11-05T19:33:24.758275Z"
    }
   },
   "cell_type": "code",
   "source": [
    "# Count the number of unique good and bad players\n",
    "bad_player_counts = user_labels.value_counts()\n",
    "print(bad_player_counts)"
   ],
   "id": "a12b727c033e79e0",
   "outputs": [
    {
     "name": "stdout",
     "output_type": "stream",
     "text": [
      "bad_player\n",
      "1    1751\n",
      "0    1470\n",
      "Name: count, dtype: int64\n"
     ]
    }
   ],
   "execution_count": 30
  },
  {
   "metadata": {
    "ExecuteTime": {
     "end_time": "2024-11-05T19:33:27.675770Z",
     "start_time": "2024-11-05T19:33:27.628295Z"
    }
   },
   "cell_type": "code",
   "source": [
    "# Filter to keep only good users (where 'bad_player' == 0)\n",
    "good_users = user_labels[user_labels == 0].index  # Extract user IDs where 'bad_player' is 0\n",
    "\n",
    "\n",
    "filtered_data = data[data['user'].isin(good_users)]\n",
    "\n",
    "\n",
    "# Drop the 'bad_player' column if it exists, as we only want the data without bad user information\n",
    "filtered_data = filtered_data.drop(columns=['bad_player', 'bad_decision', 'user', 'cards_count'], errors='ignore')\n",
    "\n",
    "\n",
    "print(filtered_data)"
   ],
   "id": "b8e02229a20d84c6",
   "outputs": [
    {
     "name": "stdout",
     "output_type": "stream",
     "text": [
      "           DA     DK     DQ     DJ    D10     D9     D8     D7     D6     HA  \\\n",
      "4       False   True  False  False  False  False  False  False   True   True   \n",
      "11      False   True  False  False  False  False  False  False  False  False   \n",
      "17      False  False   True  False  False  False  False  False  False  False   \n",
      "34      False  False  False  False  False  False  False  False   True  False   \n",
      "37      False  False  False  False   True  False  False  False  False  False   \n",
      "...       ...    ...    ...    ...    ...    ...    ...    ...    ...    ...   \n",
      "359778  False  False  False  False  False  False  False  False  False  False   \n",
      "359780  False   True  False  False  False  False   True   True   True   True   \n",
      "359802   True  False   True  False  False  False  False  False   True  False   \n",
      "359812   True  False   True  False  False  False   True  False  False  False   \n",
      "359822   True   True   True  False  False  False  False  False  False  False   \n",
      "\n",
      "        ...  S_J9A  S_J9_plus_card_and_2_other_aces   C_J9  C_AKQ  C_678  \\\n",
      "4       ...  False                            False  False  False  False   \n",
      "11      ...  False                            False  False  False  False   \n",
      "17      ...  False                            False  False  False  False   \n",
      "34      ...  False                            False  False  False  False   \n",
      "37      ...  False                            False  False  False  False   \n",
      "...     ...    ...                              ...    ...    ...    ...   \n",
      "359778  ...  False                            False  False  False  False   \n",
      "359780  ...  False                            False  False  False  False   \n",
      "359802  ...  False                            False  False  False  False   \n",
      "359812  ...  False                            False  False  False  False   \n",
      "359822  ...  False                            False  False  False  False   \n",
      "\n",
      "        C_J_and_4_more  C_9A_and_3_more  C_J9A  \\\n",
      "4                False            False  False   \n",
      "11               False            False  False   \n",
      "17               False            False  False   \n",
      "34               False            False  False   \n",
      "37               False            False  False   \n",
      "...                ...              ...    ...   \n",
      "359778           False            False  False   \n",
      "359780           False            False  False   \n",
      "359802           False            False  False   \n",
      "359812           False            False  False   \n",
      "359822           False            False  False   \n",
      "\n",
      "        C_J9_plus_card_and_2_other_aces  any_specified_feature_true  \n",
      "4                                 False                        True  \n",
      "11                                False                        True  \n",
      "17                                False                       False  \n",
      "34                                False                       False  \n",
      "37                                False                       False  \n",
      "...                                 ...                         ...  \n",
      "359778                            False                       False  \n",
      "359780                            False                        True  \n",
      "359802                            False                       False  \n",
      "359812                            False                       False  \n",
      "359822                            False                        True  \n",
      "\n",
      "[51492 rows x 67 columns]\n"
     ]
    }
   ],
   "execution_count": 31
  },
  {
   "metadata": {
    "ExecuteTime": {
     "end_time": "2024-11-05T19:33:31.868310Z",
     "start_time": "2024-11-05T19:33:31.199859Z"
    }
   },
   "cell_type": "code",
   "source": [
    "# Save the DataFrame to a CSV file\n",
    "filtered_data.to_csv('filtered_data.csv', index=False)\n"
   ],
   "id": "2b3eeabc9cc05495",
   "outputs": [],
   "execution_count": 32
  },
  {
   "metadata": {},
   "cell_type": "code",
   "outputs": [],
   "execution_count": null,
   "source": "",
   "id": "5e7e9bda78b121e6"
  }
 ],
 "metadata": {
  "kernelspec": {
   "display_name": "Python 3",
   "language": "python",
   "name": "python3"
  },
  "language_info": {
   "codemirror_mode": {
    "name": "ipython",
    "version": 2
   },
   "file_extension": ".py",
   "mimetype": "text/x-python",
   "name": "python",
   "nbconvert_exporter": "python",
   "pygments_lexer": "ipython2",
   "version": "2.7.6"
  }
 },
 "nbformat": 4,
 "nbformat_minor": 5
}
