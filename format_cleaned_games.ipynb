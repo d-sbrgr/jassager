{
 "cells": [
  {
   "metadata": {
    "ExecuteTime": {
     "end_time": "2024-12-07T11:12:16.399493Z",
     "start_time": "2024-12-07T11:12:15.926470Z"
    }
   },
   "cell_type": "code",
   "source": [
    "import json\n",
    "import pandas as pd\n",
    "from pathlib import Path\n",
    "from jass.game.rule_schieber import RuleSchieber\n",
    "from jass.game.game_state import GameState\n",
    "from jass.game.game_state_util import state_from_complete_game\n",
    "from jass.game.game_util import convert_one_hot_encoded_cards_to_int_encoded_list\n",
    "from jass.game.const import team, next_player"
   ],
   "id": "6345913280967959",
   "outputs": [],
   "execution_count": 1
  },
  {
   "metadata": {
    "ExecuteTime": {
     "end_time": "2024-12-07T11:12:16.405743Z",
     "start_time": "2024-12-07T11:12:16.402494Z"
    }
   },
   "cell_type": "code",
   "source": "rule = RuleSchieber()",
   "id": "549df07225926025",
   "outputs": [],
   "execution_count": 2
  },
  {
   "metadata": {
    "ExecuteTime": {
     "end_time": "2024-12-07T11:12:16.583938Z",
     "start_time": "2024-12-07T11:12:16.580918Z"
    }
   },
   "cell_type": "code",
   "source": "final_game_aggregation = Path(\"./data/games.json\")",
   "id": "dcf1a51f7964a5ab",
   "outputs": [],
   "execution_count": 3
  },
  {
   "metadata": {
    "ExecuteTime": {
     "end_time": "2024-12-07T11:12:17.552858Z",
     "start_time": "2024-12-07T11:12:16.589500Z"
    }
   },
   "cell_type": "code",
   "source": "games = json.load(open(final_game_aggregation, \"r\"))",
   "id": "8f13e66b824dab80",
   "outputs": [],
   "execution_count": 4
  },
  {
   "metadata": {
    "ExecuteTime": {
     "end_time": "2024-12-07T11:12:17.562594Z",
     "start_time": "2024-12-07T11:12:17.558772Z"
    }
   },
   "cell_type": "code",
   "source": [
    "def get_played_cards_trick(s_: GameState) -> list[int]:\n",
    "    result = [0] * 36\n",
    "    for trick, cards in enumerate(s_.tricks, 1):\n",
    "        for card in cards:\n",
    "            if card == -1:\n",
    "                return result\n",
    "            result[card] = trick / 9\n",
    "    return result\n",
    "\n",
    "def get_played_cards_player(s_: GameState) -> list[int]:\n",
    "    result = [0] * 36\n",
    "    for trick, cards in enumerate(s_.tricks):\n",
    "        player = s_.trick_first_player[trick]\n",
    "        if player == -1:\n",
    "            break\n",
    "        for card in cards:\n",
    "            if card == -1:\n",
    "                break\n",
    "            result[card] = player + 1\n",
    "            player = next_player[player]\n",
    "    return result\n",
    "\n",
    "def get_last_played_card(s_: GameState) -> int:\n",
    "    tricks = s_.tricks.flatten()\n",
    "    return tricks[tricks != -1][-1]\n",
    "    "
   ],
   "id": "ead5029aadf5692b",
   "outputs": [],
   "execution_count": 5
  },
  {
   "metadata": {
    "ExecuteTime": {
     "end_time": "2024-12-07T11:12:17.572249Z",
     "start_time": "2024-12-07T11:12:17.568009Z"
    }
   },
   "cell_type": "code",
   "source": [
    "def get_data_for_state(s: GameState, ls: GameState, fs: GameState) -> dict:\n",
    "    return {\n",
    "        \"trump\": ls.trump + 1,\n",
    "        \"player\": (ls.player + 1) / 4,\n",
    "        \"declared_trump\": (ls.declared_trump + 1) / 4,\n",
    "        \"forehand\": ls.forehand,\n",
    "        \"hand\": convert_one_hot_encoded_cards_to_int_encoded_list(ls.hands[ls.player]),\n",
    "        \"possible_actions\": convert_one_hot_encoded_cards_to_int_encoded_list(rule.get_valid_actions_from_state(ls)),\n",
    "        \"cards_trick\": get_played_cards_trick(ls),\n",
    "        \"cards_player\": get_played_cards_player(ls),\n",
    "        \"current_points\": ls.points[team[ls.player]] / 157,\n",
    "        \"total_points\": fs.points[team[ls.player]] / 157,\n",
    "        \"total_cards\": ls.nr_played_cards / 36,\n",
    "        \"card_played\": get_last_played_card(s)\n",
    "    }"
   ],
   "id": "2023d3ddc08175f1",
   "outputs": [],
   "execution_count": 6
  },
  {
   "metadata": {
    "ExecuteTime": {
     "end_time": "2024-12-07T11:16:38.050749Z",
     "start_time": "2024-12-07T11:12:17.578168Z"
    }
   },
   "cell_type": "code",
   "source": [
    "data = []\n",
    "for index, game in enumerate(games, 1):\n",
    "    if index % 1000 == 0:\n",
    "        print(f\"Progress: {index}/{len(games)}\")\n",
    "    fs = GameState.from_json(game)\n",
    "    ls = None\n",
    "    for i in range(36):\n",
    "        s = state_from_complete_game(fs, i)\n",
    "        if ls is not None:\n",
    "            data.append(get_data_for_state(s, ls, fs))\n",
    "        ls = s\n",
    "    data.append(get_data_for_state(fs, ls, fs))\n",
    "df = pd.DataFrame(data)\n",
    "df.to_parquet(f\"./data/parquet/data.parquet\", engine=\"pyarrow\")\n",
    "print(f\"Process done!\")"
   ],
   "id": "86325991051f8a47",
   "outputs": [
    {
     "name": "stdout",
     "output_type": "stream",
     "text": [
      "Progress: 8000/58684\n",
      "Progress: 16000/58684\n",
      "Progress: 24000/58684\n",
      "Progress: 32000/58684\n",
      "Progress: 40000/58684\n",
      "Progress: 48000/58684\n",
      "Progress: 56000/58684\n",
      "Progress: 58684/58684\n"
     ]
    }
   ],
   "execution_count": 7
  }
 ],
 "metadata": {
  "kernelspec": {
   "display_name": "Python 3",
   "language": "python",
   "name": "python3"
  },
  "language_info": {
   "codemirror_mode": {
    "name": "ipython",
    "version": 2
   },
   "file_extension": ".py",
   "mimetype": "text/x-python",
   "name": "python",
   "nbconvert_exporter": "python",
   "pygments_lexer": "ipython2",
   "version": "2.7.6"
  }
 },
 "nbformat": 4,
 "nbformat_minor": 5
}
