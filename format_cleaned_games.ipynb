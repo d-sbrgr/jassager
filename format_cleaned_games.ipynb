{
 "cells": [
  {
   "metadata": {
    "ExecuteTime": {
     "end_time": "2024-12-07T09:43:52.513485Z",
     "start_time": "2024-12-07T09:43:49.066166Z"
    }
   },
   "cell_type": "code",
   "source": [
    "import json\n",
    "import pandas as pd\n",
    "from pathlib import Path\n",
    "from jass.game.rule_schieber import RuleSchieber\n",
    "from jass.game.game_state import GameState\n",
    "from jass.game.game_state_util import state_from_complete_game\n",
    "from jass.game.game_util import convert_one_hot_encoded_cards_to_int_encoded_list\n",
    "from jass.game.const import team, next_player"
   ],
   "id": "6345913280967959",
   "outputs": [],
   "execution_count": 1
  },
  {
   "metadata": {
    "ExecuteTime": {
     "end_time": "2024-12-07T09:43:52.529966Z",
     "start_time": "2024-12-07T09:43:52.526873Z"
    }
   },
   "cell_type": "code",
   "source": "rule = RuleSchieber()",
   "id": "549df07225926025",
   "outputs": [],
   "execution_count": 2
  },
  {
   "metadata": {
    "ExecuteTime": {
     "end_time": "2024-12-07T09:43:52.537091Z",
     "start_time": "2024-12-07T09:43:52.533968Z"
    }
   },
   "cell_type": "code",
   "source": "final_game_aggregation = Path(\"./data/games.json\")",
   "id": "dcf1a51f7964a5ab",
   "outputs": [],
   "execution_count": 3
  },
  {
   "metadata": {
    "ExecuteTime": {
     "end_time": "2024-12-07T09:43:53.483949Z",
     "start_time": "2024-12-07T09:43:52.541096Z"
    }
   },
   "cell_type": "code",
   "source": "games = json.load(open(final_game_aggregation, \"r\"))",
   "id": "8f13e66b824dab80",
   "outputs": [],
   "execution_count": 4
  },
  {
   "metadata": {
    "ExecuteTime": {
     "end_time": "2024-12-07T09:43:54.393995Z",
     "start_time": "2024-12-07T09:43:54.391499Z"
    }
   },
   "cell_type": "code",
   "source": [
    "def get_new_dataframe() -> pd.DataFrame:\n",
    "    return pd.DataFrame(columns=[\"trump\", \"declared_trump\", \"forehand\", \"player\", \"hand\", \"possible_actions\", \"cards_trick\", \"cards_player\", \"current_points\", \"total_points\", \"card_played\"])"
   ],
   "id": "563a9b1b9fa7d921",
   "outputs": [],
   "execution_count": 5
  },
  {
   "metadata": {
    "ExecuteTime": {
     "end_time": "2024-12-07T09:43:54.404264Z",
     "start_time": "2024-12-07T09:43:54.400357Z"
    }
   },
   "cell_type": "code",
   "source": [
    "def get_played_cards_trick(s_: GameState) -> list[int]:\n",
    "    result = [0] * 36\n",
    "    for trick, cards in enumerate(s_.tricks, 1):\n",
    "        for card in cards:\n",
    "            if card == -1:\n",
    "                return result\n",
    "            result[card] = trick / 9\n",
    "    return result\n",
    "\n",
    "def get_played_cards_player(s_: GameState) -> list[int]:\n",
    "    result = [0] * 36\n",
    "    for trick, cards in enumerate(s_.tricks):\n",
    "        player = s_.trick_first_player[trick]\n",
    "        if player == -1:\n",
    "            break\n",
    "        for card in cards:\n",
    "            if card == -1:\n",
    "                break\n",
    "            result[card] = player + 1\n",
    "            player = next_player[player]\n",
    "    return result\n",
    "\n",
    "def get_last_played_card(s_: GameState) -> int:\n",
    "    tricks = s_.tricks.flatten()\n",
    "    return tricks[tricks != -1][-1]\n",
    "    "
   ],
   "id": "ead5029aadf5692b",
   "outputs": [],
   "execution_count": 6
  },
  {
   "metadata": {
    "ExecuteTime": {
     "end_time": "2024-12-07T09:43:54.413490Z",
     "start_time": "2024-12-07T09:43:54.410045Z"
    }
   },
   "cell_type": "code",
   "source": [
    "def get_data_for_state(s: GameState, ls: GameState, fs: GameState) -> dict:\n",
    "    return {\n",
    "        \"trump\": ls.trump + 1,\n",
    "        \"player\": (ls.player + 1) - 4,\n",
    "        \"declared_trump\": (ls.declared_trump + 1) / 4,\n",
    "        \"forehand\": ls.forehand,\n",
    "        \"hand\": convert_one_hot_encoded_cards_to_int_encoded_list(ls.hands[ls.player]),\n",
    "        \"possible_actions\": convert_one_hot_encoded_cards_to_int_encoded_list(rule.get_valid_actions_from_state(ls)),\n",
    "        \"cards_trick\": get_played_cards_trick(ls),\n",
    "        \"cards_player\": get_played_cards_player(ls),\n",
    "        \"current_points\": ls.points[team[ls.player]] / 157,\n",
    "        \"total_points\": fs.points[team[ls.player]] / 157,\n",
    "        \"card_played\": get_last_played_card(s)\n",
    "    }"
   ],
   "id": "2023d3ddc08175f1",
   "outputs": [],
   "execution_count": 7
  },
  {
   "metadata": {
    "ExecuteTime": {
     "end_time": "2024-12-07T09:53:57.537172Z",
     "start_time": "2024-12-07T09:43:54.421646Z"
    }
   },
   "cell_type": "code",
   "source": [
    "df = get_new_dataframe()\n",
    "for index, game in enumerate(games, 1):\n",
    "    if index % 8000 == 0:\n",
    "        print(f\"Progress: {index}/{len(games)}\")\n",
    "        df.to_parquet(f\"./data/parquet/data_{index // 8000}.parquet\", engine=\"pyarrow\")\n",
    "        df = get_new_dataframe()\n",
    "    fs = GameState.from_json(game)\n",
    "    ls = None\n",
    "    for i in range(36):\n",
    "        s = state_from_complete_game(fs, i)\n",
    "        if ls is not None:\n",
    "            df.loc[len(df)] = get_data_for_state(s, ls, fs)\n",
    "        ls = s\n",
    "    df.loc[len(df)] = get_data_for_state(fs, ls, fs)\n",
    "print(f\"Progress: {len(games)}/{len(games)}\")\n",
    "df.to_parquet(f\"./data/parquet/data_{(index // 8000) + 1}.parquet\", engine=\"pyarrow\")"
   ],
   "id": "86325991051f8a47",
   "outputs": [],
   "execution_count": 8
  }
 ],
 "metadata": {
  "kernelspec": {
   "display_name": "Python 3",
   "language": "python",
   "name": "python3"
  },
  "language_info": {
   "codemirror_mode": {
    "name": "ipython",
    "version": 2
   },
   "file_extension": ".py",
   "mimetype": "text/x-python",
   "name": "python",
   "nbconvert_exporter": "python",
   "pygments_lexer": "ipython2",
   "version": "2.7.6"
  }
 },
 "nbformat": 4,
 "nbformat_minor": 5
}
