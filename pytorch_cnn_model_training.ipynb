{
 "cells": [
  {
   "cell_type": "code",
   "execution_count": 1,
   "id": "initial_id",
   "metadata": {
    "ExecuteTime": {
     "end_time": "2024-12-07T14:14:48.969390Z",
     "start_time": "2024-12-07T14:14:43.236382Z"
    }
   },
   "outputs": [],
   "source": [
    "import numpy as np\n",
    "import pandas as pd\n",
    "from pathlib import Path\n",
    "import torch\n",
    "import torch.nn as nn\n",
    "import torch.optim as optim\n",
    "from torch.utils.data import DataLoader, TensorDataset\n",
    "from sklearn.model_selection import train_test_split\n",
    "\n",
    "from bots.mcts_cnn_bots.tensors import df_to_tensors"
   ]
  },
  {
   "cell_type": "code",
   "execution_count": 2,
   "id": "6cdc4fc7c94024f6",
   "metadata": {
    "ExecuteTime": {
     "end_time": "2024-12-07T14:14:48.984030Z",
     "start_time": "2024-12-07T14:14:48.973033Z"
    }
   },
   "outputs": [
    {
     "name": "stdout",
     "output_type": "stream",
     "text": [
      "Using device: cuda\n"
     ]
    }
   ],
   "source": [
    "# Check if GPU is available\n",
    "device = torch.device(\"cuda\" if torch.cuda.is_available() else \"cpu\")\n",
    "print(f\"Using device: {device}\")"
   ]
  },
  {
   "cell_type": "code",
   "execution_count": 3,
   "id": "aaaac8bb9a04f7ef",
   "metadata": {
    "ExecuteTime": {
     "end_time": "2024-12-07T14:14:49.237934Z",
     "start_time": "2024-12-07T14:14:49.233174Z"
    }
   },
   "outputs": [],
   "source": [
    "training_data = Path(\"./data/parquet/data.parquet\")"
   ]
  },
  {
   "cell_type": "code",
   "execution_count": 4,
   "id": "f61d0aae2b6499a5",
   "metadata": {
    "ExecuteTime": {
     "end_time": "2024-12-07T14:14:54.300185Z",
     "start_time": "2024-12-07T14:14:49.248939Z"
    }
   },
   "outputs": [],
   "source": [
    "df = pd.read_parquet(training_data)"
   ]
  },
  {
   "cell_type": "code",
   "execution_count": 5,
   "id": "9a6a0a6ae5ccb620",
   "metadata": {
    "ExecuteTime": {
     "end_time": "2024-12-07T14:14:54.328133Z",
     "start_time": "2024-12-07T14:14:54.323667Z"
    }
   },
   "outputs": [],
   "source": [
    "def shuffle_data(df: pd.DataFrame, random_state=42):\n",
    "    return df.sample(frac=1, random_state=random_state).reset_index(drop=True)"
   ]
  },
  {
   "cell_type": "code",
   "execution_count": 6,
   "id": "b48f50c27e294f53",
   "metadata": {
    "ExecuteTime": {
     "end_time": "2024-12-07T14:14:54.357326Z",
     "start_time": "2024-12-07T14:14:54.350929Z"
    }
   },
   "outputs": [],
   "source": [
    "def split_data(state_tensors, policy_targets, value_targets, test_size=0.2, random_state=42):\n",
    "    indices = np.arange(len(state_tensors))\n",
    "    train_idx, test_idx = train_test_split(indices, test_size=test_size, random_state=random_state)\n",
    "\n",
    "    train_dataset = TensorDataset(state_tensors[train_idx], policy_targets[train_idx], value_targets[train_idx])\n",
    "    test_dataset = TensorDataset(state_tensors[test_idx], policy_targets[test_idx], value_targets[test_idx])\n",
    "\n",
    "    return train_dataset, test_dataset"
   ]
  },
  {
   "cell_type": "code",
   "execution_count": 7,
   "id": "b5098f92c07770b6",
   "metadata": {
    "ExecuteTime": {
     "end_time": "2024-12-07T14:14:54.391555Z",
     "start_time": "2024-12-07T14:14:54.380265Z"
    }
   },
   "outputs": [],
   "source": [
    "def train_model(model, train_loader, test_loader, epochs, lr, weight_decay):\n",
    "    training_loss_value = []\n",
    "    training_loss_policy = []\n",
    "    validation_loss_value = []\n",
    "    validation_loss_policy = []\n",
    "    \n",
    "    criterion_policy = nn.CrossEntropyLoss()\n",
    "    criterion_value = nn.MSELoss()\n",
    "    optimizer = optim.Adam(model.parameters(), lr=lr, weight_decay=weight_decay)\n",
    "\n",
    "    for epoch in range(epochs):\n",
    "        # Training phase\n",
    "        model.train()\n",
    "        train_policy_loss = 0.0\n",
    "        train_value_loss = 0.0\n",
    "\n",
    "        for state_batch, policy_batch, value_batch in train_loader:\n",
    "            state_batch = state_batch.to(device)\n",
    "            policy_batch = torch.argmax(policy_batch, dim=1)  # Converts one-hot to class indices\n",
    "            policy_batch = policy_batch.to(device)\n",
    "            value_batch = value_batch.to(device)\n",
    "            \n",
    "            optimizer.zero_grad()\n",
    "\n",
    "            # Forward pass\n",
    "            policy_pred, value_pred = model(state_batch)\n",
    "            \n",
    "            # Compute the individual losses\n",
    "            policy_loss = criterion_policy(policy_pred, policy_targets)\n",
    "            value_loss = criterion_value(value_pred, value_targets)\n",
    "            \n",
    "            # Dynamically scale based on current loss values\n",
    "            policy_weight = 1.0 / (policy_loss.item() + 1e-8)  # Avoid division by zero\n",
    "            value_weight = 1.0 / (value_loss.item() + 1e-8)\n",
    "            \n",
    "            # Normalize the weights to ensure they sum to 1\n",
    "            total_weight = policy_weight + value_weight\n",
    "            policy_weight /= total_weight\n",
    "            value_weight /= total_weight\n",
    "            \n",
    "            # Weighted combined loss\n",
    "            loss = policy_weight * policy_loss + value_weight * value_loss\n",
    "\n",
    "            # Backward pass\n",
    "            loss.backward()\n",
    "            optimizer.step()\n",
    "\n",
    "            train_policy_loss += policy_loss.item()\n",
    "            train_value_loss += value_loss.item()\n",
    "            \n",
    "        training_loss_value.append(train_value_loss / len(train_loader))\n",
    "        training_loss_policy.append(train_policy_loss / len(train_loader))\n",
    "\n",
    "        # Validation phase\n",
    "        model.eval()\n",
    "        val_policy_loss = 0.0\n",
    "        val_value_loss = 0.0\n",
    "\n",
    "        with torch.no_grad():\n",
    "            for state_batch, policy_batch, value_batch in test_loader:\n",
    "                policy_batch = torch.argmax(policy_batch, dim=1)  # Converts one-hot to class indices\n",
    "                policy_pred, value_pred = model(state_batch)\n",
    "                val_policy_loss += criterion_policy(policy_pred, policy_batch).item()\n",
    "                val_value_loss += criterion_value(value_pred, value_batch).item()\n",
    "                \n",
    "        validation_loss_value.append(val_value_loss / len(test_loader))\n",
    "        validation_loss_policy.append(val_policy_loss / len(test_loader))\n",
    "\n",
    "        print(\n",
    "            f\"Epoch {epoch+1}/{epochs}, \"\n",
    "            f\"Train Policy Loss: {training_loss_policy[-1]:.4f}, Train Value Loss: {training_loss_value[-1]:.4f}, \"\n",
    "            f\"Val Policy Loss: {validation_loss_policy[-1]:.4f}, Val Value Loss: {validation_loss_value[-1]:.4f}\"\n",
    "        )"
   ]
  },
  {
   "cell_type": "code",
   "execution_count": null,
   "id": "c1f1848a-e5b2-448e-9175-b00e0f48ea9f",
   "metadata": {},
   "outputs": [],
   "source": [
    "class JassCNN(nn.Module):\n",
    "    def __init__(self, input_channels=19, num_actions=36):\n",
    "        super().__init__()\n",
    "        self.conv1 = nn.Conv2d(input_channels, 128, kernel_size=(2, 3), stride=1, padding=1)\n",
    "        self.conv2 = nn.Conv2d(128, 256, kernel_size=(2, 3), stride=2, padding=0)\n",
    "        self.conv3 = nn.Conv2d(256, 256, kernel_size=(2, 2), stride=2, padding=0)\n",
    "        self.conv4 = nn.Conv2d(256, 256, kernel_size=(1, 2), stride=1, padding=0)\n",
    "\n",
    "        self.bn1 = nn.BatchNorm2d(128)\n",
    "        self.bn2 = nn.BatchNorm2d(256)\n",
    "        self.bn3 = nn.BatchNorm2d(256)\n",
    "        self.bn4 = nn.BatchNorm2d(256)\n",
    "        \n",
    "        self.fc1 = nn.Linear(256, 512)\n",
    "        self.fc2 = nn.Linear(512, 256)\n",
    "        self.fc3 = nn.Linear(256, 128)\n",
    "        \n",
    "        self.fc_policy = nn.Linear(128, num_actions)\n",
    "        self.fc_value = nn.Linear(128, 1)\n",
    "\n",
    "        self.dropout = nn.Dropout(0.5)\n",
    "\n",
    "    def forward(self, x):   \n",
    "        x = torch.relu(self.bn1(self.conv1(x)))\n",
    "        x = torch.relu(self.bn2(self.conv2(x)))\n",
    "        x = torch.relu(self.bn3(self.conv3(x)))\n",
    "        x = torch.relu(self.bn4(self.conv4(x)))\n",
    "\n",
    "        x = torch.flatten(x, start_dim=1)\n",
    "        x = torch.relu(self.fc1(x))\n",
    "        x = self.dropout(x)\n",
    "        x = torch.relu(self.fc2(x))\n",
    "        x = self.dropout(x)\n",
    "        shared_features = torch.relu(self.fc3(x))\n",
    "\n",
    "        policy = torch.softmax(self.fc_policy(shared_features), dim=-1)\n",
    "        value = torch.sigmoid(self.fc_value(shared_features))\n",
    "        \n",
    "        return policy, value"
   ]
  },
  {
   "cell_type": "code",
   "execution_count": 8,
   "id": "3fe7bd7e7ca6f612",
   "metadata": {
    "ExecuteTime": {
     "end_time": "2024-12-07T14:14:57.836574Z",
     "start_time": "2024-12-07T14:14:54.413150Z"
    }
   },
   "outputs": [],
   "source": [
    "df = shuffle_data(df, random_state=42)"
   ]
  },
  {
   "cell_type": "code",
   "execution_count": 9,
   "id": "829cd08fed1fe96a",
   "metadata": {
    "ExecuteTime": {
     "end_time": "2024-12-07T14:15:00.223238Z",
     "start_time": "2024-12-07T14:14:57.861618Z"
    }
   },
   "outputs": [],
   "source": [
    "state_tensors, policy_targets, value_targets = df_to_tensors(df)"
   ]
  },
  {
   "cell_type": "code",
   "execution_count": 10,
   "id": "bebd64f06c913737",
   "metadata": {
    "ExecuteTime": {
     "end_time": "2024-12-07T14:15:00.290392Z",
     "start_time": "2024-12-07T14:15:00.280892Z"
    }
   },
   "outputs": [],
   "source": [
    "train_state, test_state, train_policy, test_policy, train_value, test_value = train_test_split(\n",
    "    state_tensors, policy_targets, value_targets, test_size=0.2, random_state=42\n",
    ")\n",
    "\n",
    "train_state = train_state.to(device)\n",
    "train_policy = train_policy.to(device)\n",
    "train_value = train_value.to(device)\n",
    "test_state = test_state.to(device)\n",
    "test_policy = test_policy.to(device)\n",
    "test_value = test_value.to(device)\n",
    "\n",
    "train_dataset = TensorDataset(train_state, train_policy, train_value)\n",
    "test_dataset = TensorDataset(test_state, test_policy, test_value)"
   ]
  },
  {
   "cell_type": "code",
   "execution_count": 15,
   "id": "292edd65a60a2f6e",
   "metadata": {
    "ExecuteTime": {
     "end_time": "2024-12-07T14:15:00.423555Z",
     "start_time": "2024-12-07T14:15:00.392031Z"
    }
   },
   "outputs": [],
   "source": [
    "model = JassCNN().to(device)"
   ]
  },
  {
   "cell_type": "code",
   "execution_count": 16,
   "id": "c6f8989f0a4f2e20",
   "metadata": {
    "ExecuteTime": {
     "end_time": "2024-12-07T14:15:00.513499Z",
     "start_time": "2024-12-07T14:15:00.508169Z"
    }
   },
   "outputs": [],
   "source": [
    "BATCH_SIZE = 32\n",
    "EPOCHS = 80\n",
    "LEARNING_RATE = 0.001"
   ]
  },
  {
   "cell_type": "code",
   "execution_count": 17,
   "id": "66757e2af0f9bf9c",
   "metadata": {
    "ExecuteTime": {
     "end_time": "2024-12-07T14:15:34.473034Z",
     "start_time": "2024-12-07T14:15:00.603287Z"
    }
   },
   "outputs": [
    {
     "name": "stdout",
     "output_type": "stream",
     "text": [
      "Epoch 1/80, Train Policy Loss: 3.1175, Train Value Loss: 0.0399, Val Policy Loss: 3.0972, Val Value Loss: 0.0360\n",
      "Epoch 2/80, Train Policy Loss: 3.1098, Train Value Loss: 0.0400, Val Policy Loss: 3.0941, Val Value Loss: 0.0318\n",
      "Epoch 3/80, Train Policy Loss: 3.1193, Train Value Loss: 0.0403, Val Policy Loss: 3.0915, Val Value Loss: 0.0329\n",
      "Epoch 4/80, Train Policy Loss: 3.1296, Train Value Loss: 0.0405, Val Policy Loss: 3.1089, Val Value Loss: 0.0406\n",
      "Epoch 5/80, Train Policy Loss: 3.1636, Train Value Loss: 0.0412, Val Policy Loss: 3.1221, Val Value Loss: 0.0494\n",
      "Epoch 6/80, Train Policy Loss: 3.1482, Train Value Loss: 0.0417, Val Policy Loss: 3.1137, Val Value Loss: 0.0343\n",
      "Epoch 7/80, Train Policy Loss: 3.1489, Train Value Loss: 0.0407, Val Policy Loss: 3.0992, Val Value Loss: 0.0383\n",
      "Epoch 8/80, Train Policy Loss: 3.1786, Train Value Loss: 0.0421, Val Policy Loss: 3.2410, Val Value Loss: 0.0618\n",
      "Epoch 9/80, Train Policy Loss: 3.1697, Train Value Loss: 0.0428, Val Policy Loss: 3.1157, Val Value Loss: 0.0353\n"
     ]
    },
    {
     "ename": "KeyboardInterrupt",
     "evalue": "",
     "output_type": "error",
     "traceback": [
      "\u001B[0;31m---------------------------------------------------------------------------\u001B[0m",
      "\u001B[0;31mKeyboardInterrupt\u001B[0m                         Traceback (most recent call last)",
      "Cell \u001B[0;32mIn[17], line 4\u001B[0m\n\u001B[1;32m      1\u001B[0m train_loader \u001B[38;5;241m=\u001B[39m DataLoader(train_dataset, batch_size\u001B[38;5;241m=\u001B[39mBATCH_SIZE, shuffle\u001B[38;5;241m=\u001B[39m\u001B[38;5;28;01mFalse\u001B[39;00m)\n\u001B[1;32m      2\u001B[0m test_loader \u001B[38;5;241m=\u001B[39m DataLoader(test_dataset, batch_size\u001B[38;5;241m=\u001B[39mBATCH_SIZE, shuffle\u001B[38;5;241m=\u001B[39m\u001B[38;5;28;01mFalse\u001B[39;00m)\n\u001B[0;32m----> 4\u001B[0m \u001B[43mtrain_model\u001B[49m\u001B[43m(\u001B[49m\u001B[43mmodel\u001B[49m\u001B[43m,\u001B[49m\u001B[43m \u001B[49m\u001B[43mtrain_loader\u001B[49m\u001B[43m,\u001B[49m\u001B[43m \u001B[49m\u001B[43mtest_loader\u001B[49m\u001B[43m,\u001B[49m\u001B[43m \u001B[49m\u001B[43mepochs\u001B[49m\u001B[38;5;241;43m=\u001B[39;49m\u001B[43mEPOCHS\u001B[49m\u001B[43m,\u001B[49m\u001B[43m \u001B[49m\u001B[43mlr\u001B[49m\u001B[38;5;241;43m=\u001B[39;49m\u001B[43mLEARNING_RATE\u001B[49m\u001B[43m)\u001B[49m\n",
      "Cell \u001B[0;32mIn[7], line 32\u001B[0m, in \u001B[0;36mtrain_model\u001B[0;34m(model, train_loader, test_loader, epochs, lr)\u001B[0m\n\u001B[1;32m     29\u001B[0m total_loss \u001B[38;5;241m=\u001B[39m policy_loss \u001B[38;5;241m+\u001B[39m value_loss\n\u001B[1;32m     31\u001B[0m \u001B[38;5;66;03m# Backward pass\u001B[39;00m\n\u001B[0;32m---> 32\u001B[0m \u001B[43mtotal_loss\u001B[49m\u001B[38;5;241;43m.\u001B[39;49m\u001B[43mbackward\u001B[49m\u001B[43m(\u001B[49m\u001B[43m)\u001B[49m\n\u001B[1;32m     33\u001B[0m optimizer\u001B[38;5;241m.\u001B[39mstep()\n\u001B[1;32m     35\u001B[0m train_policy_loss \u001B[38;5;241m+\u001B[39m\u001B[38;5;241m=\u001B[39m policy_loss\u001B[38;5;241m.\u001B[39mitem()\n",
      "File \u001B[0;32m/opt/conda/lib/python3.11/site-packages/torch/_tensor.py:525\u001B[0m, in \u001B[0;36mTensor.backward\u001B[0;34m(self, gradient, retain_graph, create_graph, inputs)\u001B[0m\n\u001B[1;32m    515\u001B[0m \u001B[38;5;28;01mif\u001B[39;00m has_torch_function_unary(\u001B[38;5;28mself\u001B[39m):\n\u001B[1;32m    516\u001B[0m     \u001B[38;5;28;01mreturn\u001B[39;00m handle_torch_function(\n\u001B[1;32m    517\u001B[0m         Tensor\u001B[38;5;241m.\u001B[39mbackward,\n\u001B[1;32m    518\u001B[0m         (\u001B[38;5;28mself\u001B[39m,),\n\u001B[0;32m   (...)\u001B[0m\n\u001B[1;32m    523\u001B[0m         inputs\u001B[38;5;241m=\u001B[39minputs,\n\u001B[1;32m    524\u001B[0m     )\n\u001B[0;32m--> 525\u001B[0m \u001B[43mtorch\u001B[49m\u001B[38;5;241;43m.\u001B[39;49m\u001B[43mautograd\u001B[49m\u001B[38;5;241;43m.\u001B[39;49m\u001B[43mbackward\u001B[49m\u001B[43m(\u001B[49m\n\u001B[1;32m    526\u001B[0m \u001B[43m    \u001B[49m\u001B[38;5;28;43mself\u001B[39;49m\u001B[43m,\u001B[49m\u001B[43m \u001B[49m\u001B[43mgradient\u001B[49m\u001B[43m,\u001B[49m\u001B[43m \u001B[49m\u001B[43mretain_graph\u001B[49m\u001B[43m,\u001B[49m\u001B[43m \u001B[49m\u001B[43mcreate_graph\u001B[49m\u001B[43m,\u001B[49m\u001B[43m \u001B[49m\u001B[43minputs\u001B[49m\u001B[38;5;241;43m=\u001B[39;49m\u001B[43minputs\u001B[49m\n\u001B[1;32m    527\u001B[0m \u001B[43m\u001B[49m\u001B[43m)\u001B[49m\n",
      "File \u001B[0;32m/opt/conda/lib/python3.11/site-packages/torch/autograd/__init__.py:267\u001B[0m, in \u001B[0;36mbackward\u001B[0;34m(tensors, grad_tensors, retain_graph, create_graph, grad_variables, inputs)\u001B[0m\n\u001B[1;32m    262\u001B[0m     retain_graph \u001B[38;5;241m=\u001B[39m create_graph\n\u001B[1;32m    264\u001B[0m \u001B[38;5;66;03m# The reason we repeat the same comment below is that\u001B[39;00m\n\u001B[1;32m    265\u001B[0m \u001B[38;5;66;03m# some Python versions print out the first line of a multi-line function\u001B[39;00m\n\u001B[1;32m    266\u001B[0m \u001B[38;5;66;03m# calls in the traceback and some print out the last line\u001B[39;00m\n\u001B[0;32m--> 267\u001B[0m \u001B[43m_engine_run_backward\u001B[49m\u001B[43m(\u001B[49m\n\u001B[1;32m    268\u001B[0m \u001B[43m    \u001B[49m\u001B[43mtensors\u001B[49m\u001B[43m,\u001B[49m\n\u001B[1;32m    269\u001B[0m \u001B[43m    \u001B[49m\u001B[43mgrad_tensors_\u001B[49m\u001B[43m,\u001B[49m\n\u001B[1;32m    270\u001B[0m \u001B[43m    \u001B[49m\u001B[43mretain_graph\u001B[49m\u001B[43m,\u001B[49m\n\u001B[1;32m    271\u001B[0m \u001B[43m    \u001B[49m\u001B[43mcreate_graph\u001B[49m\u001B[43m,\u001B[49m\n\u001B[1;32m    272\u001B[0m \u001B[43m    \u001B[49m\u001B[43minputs\u001B[49m\u001B[43m,\u001B[49m\n\u001B[1;32m    273\u001B[0m \u001B[43m    \u001B[49m\u001B[43mallow_unreachable\u001B[49m\u001B[38;5;241;43m=\u001B[39;49m\u001B[38;5;28;43;01mTrue\u001B[39;49;00m\u001B[43m,\u001B[49m\n\u001B[1;32m    274\u001B[0m \u001B[43m    \u001B[49m\u001B[43maccumulate_grad\u001B[49m\u001B[38;5;241;43m=\u001B[39;49m\u001B[38;5;28;43;01mTrue\u001B[39;49;00m\u001B[43m,\u001B[49m\n\u001B[1;32m    275\u001B[0m \u001B[43m\u001B[49m\u001B[43m)\u001B[49m\n",
      "File \u001B[0;32m/opt/conda/lib/python3.11/site-packages/torch/autograd/graph.py:744\u001B[0m, in \u001B[0;36m_engine_run_backward\u001B[0;34m(t_outputs, *args, **kwargs)\u001B[0m\n\u001B[1;32m    742\u001B[0m     unregister_hooks \u001B[38;5;241m=\u001B[39m _register_logging_hooks_on_whole_graph(t_outputs)\n\u001B[1;32m    743\u001B[0m \u001B[38;5;28;01mtry\u001B[39;00m:\n\u001B[0;32m--> 744\u001B[0m     \u001B[38;5;28;01mreturn\u001B[39;00m \u001B[43mVariable\u001B[49m\u001B[38;5;241;43m.\u001B[39;49m\u001B[43m_execution_engine\u001B[49m\u001B[38;5;241;43m.\u001B[39;49m\u001B[43mrun_backward\u001B[49m\u001B[43m(\u001B[49m\u001B[43m  \u001B[49m\u001B[38;5;66;43;03m# Calls into the C++ engine to run the backward pass\u001B[39;49;00m\n\u001B[1;32m    745\u001B[0m \u001B[43m        \u001B[49m\u001B[43mt_outputs\u001B[49m\u001B[43m,\u001B[49m\u001B[43m \u001B[49m\u001B[38;5;241;43m*\u001B[39;49m\u001B[43margs\u001B[49m\u001B[43m,\u001B[49m\u001B[43m \u001B[49m\u001B[38;5;241;43m*\u001B[39;49m\u001B[38;5;241;43m*\u001B[39;49m\u001B[43mkwargs\u001B[49m\n\u001B[1;32m    746\u001B[0m \u001B[43m    \u001B[49m\u001B[43m)\u001B[49m  \u001B[38;5;66;03m# Calls into the C++ engine to run the backward pass\u001B[39;00m\n\u001B[1;32m    747\u001B[0m \u001B[38;5;28;01mfinally\u001B[39;00m:\n\u001B[1;32m    748\u001B[0m     \u001B[38;5;28;01mif\u001B[39;00m attach_logging_hooks:\n",
      "\u001B[0;31mKeyboardInterrupt\u001B[0m: "
     ]
    }
   ],
   "source": [
    "train_loader = DataLoader(train_dataset, batch_size=BATCH_SIZE, shuffle=False)\n",
    "test_loader = DataLoader(test_dataset, batch_size=BATCH_SIZE, shuffle=False)\n",
    "\n",
    "train_model(model, train_loader, test_loader, epochs=EPOCHS, lr=LEARNING_RATE)"
   ]
  },
  {
   "cell_type": "code",
   "execution_count": null,
   "id": "2ceb7fa9-9a20-43ef-8470-43d0635b322b",
   "metadata": {},
   "outputs": [],
   "source": []
  }
 ],
 "metadata": {
  "kernelspec": {
   "display_name": "Python 3 (ipykernel)",
   "language": "python",
   "name": "python3"
  },
  "language_info": {
   "codemirror_mode": {
    "name": "ipython",
    "version": 3
   },
   "file_extension": ".py",
   "mimetype": "text/x-python",
   "name": "python",
   "nbconvert_exporter": "python",
   "pygments_lexer": "ipython3",
   "version": "3.11.9"
  }
 },
 "nbformat": 4,
 "nbformat_minor": 5
}
