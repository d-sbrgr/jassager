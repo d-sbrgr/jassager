{
 "cells": [
  {
   "cell_type": "code",
   "execution_count": 1,
   "id": "initial_id",
   "metadata": {
    "ExecuteTime": {
     "end_time": "2024-12-07T14:14:48.969390Z",
     "start_time": "2024-12-07T14:14:43.236382Z"
    }
   },
   "outputs": [],
   "source": [
    "from typing import Any, Iterator, Type\n",
    "from dataclasses import dataclass\n",
    "from itertools import product\n",
    "import numpy as np\n",
    "import pandas as pd\n",
    "from pathlib import Path\n",
    "import torch\n",
    "import torch.nn as nn\n",
    "import torch.optim as optim\n",
    "from torch.utils.data import DataLoader, TensorDataset\n",
    "from sklearn.model_selection import train_test_split\n",
    "\n",
    "from bots.mcts_cnn_bots.tensors import df_to_tensors"
   ]
  },
  {
   "cell_type": "code",
   "execution_count": 2,
   "id": "6cdc4fc7c94024f6",
   "metadata": {
    "ExecuteTime": {
     "end_time": "2024-12-07T14:14:48.984030Z",
     "start_time": "2024-12-07T14:14:48.973033Z"
    }
   },
   "outputs": [
    {
     "name": "stdout",
     "output_type": "stream",
     "text": [
      "Using device: cuda\n"
     ]
    }
   ],
   "source": [
    "# Check if GPU is available\n",
    "device = torch.device(\"cuda\" if torch.cuda.is_available() else \"cpu\")\n",
    "print(f\"Using device: {device}\")"
   ]
  },
  {
   "cell_type": "code",
   "execution_count": 3,
   "id": "aaaac8bb9a04f7ef",
   "metadata": {
    "ExecuteTime": {
     "end_time": "2024-12-07T14:14:49.237934Z",
     "start_time": "2024-12-07T14:14:49.233174Z"
    }
   },
   "outputs": [],
   "source": [
    "training_data = Path(\"./data/parquet/data.parquet\")"
   ]
  },
  {
   "cell_type": "code",
   "execution_count": 4,
   "id": "f61d0aae2b6499a5",
   "metadata": {
    "ExecuteTime": {
     "end_time": "2024-12-07T14:14:54.300185Z",
     "start_time": "2024-12-07T14:14:49.248939Z"
    }
   },
   "outputs": [],
   "source": [
    "df = pd.read_parquet(training_data)"
   ]
  },
  {
   "cell_type": "code",
   "execution_count": 5,
   "id": "9a6a0a6ae5ccb620",
   "metadata": {
    "ExecuteTime": {
     "end_time": "2024-12-07T14:14:54.328133Z",
     "start_time": "2024-12-07T14:14:54.323667Z"
    }
   },
   "outputs": [],
   "source": [
    "def shuffle_data(df: pd.DataFrame, random_state=42):\n",
    "    return df.sample(frac=1, random_state=random_state).reset_index(drop=True)"
   ]
  },
  {
   "cell_type": "code",
   "execution_count": 6,
   "id": "b48f50c27e294f53",
   "metadata": {
    "ExecuteTime": {
     "end_time": "2024-12-07T14:14:54.357326Z",
     "start_time": "2024-12-07T14:14:54.350929Z"
    }
   },
   "outputs": [],
   "source": [
    "def split_data(state_tensors, policy_targets, value_targets, test_size=0.2, random_state=42):\n",
    "    indices = np.arange(len(state_tensors))\n",
    "    train_idx, test_idx = train_test_split(indices, test_size=test_size, random_state=random_state)\n",
    "\n",
    "    train_dataset = TensorDataset(state_tensors[train_idx], policy_targets[train_idx], value_targets[train_idx])\n",
    "    test_dataset = TensorDataset(state_tensors[test_idx], policy_targets[test_idx], value_targets[test_idx])\n",
    "\n",
    "    return train_dataset, test_dataset"
   ]
  },
  {
   "metadata": {},
   "cell_type": "code",
   "outputs": [],
   "execution_count": null,
   "source": "df = shuffle_data(df, random_state=42)",
   "id": "9e1f8ed58c059293"
  },
  {
   "metadata": {},
   "cell_type": "code",
   "outputs": [],
   "execution_count": null,
   "source": "state_tensors, policy_targets, value_targets = df_to_tensors(df)",
   "id": "297e133e7aab239d"
  },
  {
   "metadata": {},
   "cell_type": "code",
   "outputs": [],
   "execution_count": null,
   "source": [
    "train_state, test_state, train_policy, test_policy, train_value, test_value = train_test_split(\n",
    "    state_tensors, policy_targets, value_targets, test_size=0.2, random_state=42\n",
    ")\n",
    "\n",
    "train_state = train_state.to(device)\n",
    "train_policy = train_policy.to(device)\n",
    "train_value = train_value.to(device)\n",
    "test_state = test_state.to(device)\n",
    "test_policy = test_policy.to(device)\n",
    "test_value = test_value.to(device)\n",
    "\n",
    "train_dataset = TensorDataset(train_state, train_policy, train_value)\n",
    "test_dataset = TensorDataset(test_state, test_policy, test_value)"
   ],
   "id": "340ee4fbb7443437"
  },
  {
   "cell_type": "code",
   "execution_count": 7,
   "id": "b5098f92c07770b6",
   "metadata": {
    "ExecuteTime": {
     "end_time": "2024-12-07T14:14:54.391555Z",
     "start_time": "2024-12-07T14:14:54.380265Z"
    }
   },
   "outputs": [],
   "source": [
    "def train_model(model, train_loader, test_loader, epochs, lr, weight_decay, optimizer, criterion):\n",
    "    training_loss_value = []\n",
    "    validation_loss_value = []\n",
    "    \n",
    "    criterion_value = criterion\n",
    "    optimizer = optimizer(model.parameters(), lr=lr, weight_decay=weight_decay)\n",
    "    scheduler = torch.optim.lr_scheduler.ReduceLROnPlateau(optimizer, mode='min', factor=0.5, patience=5, verbose=True)\n",
    "\n",
    "    for epoch in range(epochs):\n",
    "        # Training phase\n",
    "        model.train()\n",
    "        train_policy_loss = 0.0\n",
    "        train_value_loss = 0.0\n",
    "\n",
    "        for state_batch, _, value_batch in train_loader:\n",
    "            state_batch = state_batch.to(device)\n",
    "            value_batch = value_batch.to(device)\n",
    "            \n",
    "            optimizer.zero_grad()\n",
    "\n",
    "            # Forward pass\n",
    "            value_pred = model(state_batch)\n",
    "            \n",
    "            # Compute the individual losses\n",
    "            value_loss = criterion_value(value_pred, value_batch)\n",
    "\n",
    "            # Backward pass\n",
    "            value_loss.backward()\n",
    "            torch.nn.utils.clip_grad_norm_(model.parameters(), max_norm=1.0)\n",
    "            optimizer.step()\n",
    "\n",
    "            train_value_loss += value_loss.item()\n",
    "            \n",
    "        training_loss_value.append(train_value_loss / len(train_loader))\n",
    "\n",
    "        # Validation phase\n",
    "        model.eval()\n",
    "        val_value_loss = 0.0\n",
    "\n",
    "        with torch.no_grad():\n",
    "            for state_batch, _, value_batch in test_loader:\n",
    "                state_batch = state_batch.to(device)\n",
    "                value_batch = value_batch.to(device)\n",
    "                value_pred = model(state_batch)\n",
    "                val_value_loss += criterion_value(value_pred, value_batch).item()\n",
    "                \n",
    "        validation_loss_value.append(val_value_loss / len(test_loader))\n",
    "        \n",
    "        scheduler.step(val_value_loss)\n",
    "\n",
    "        print(\n",
    "            f\"Epoch {epoch+1}/{epochs}, \"\n",
    "            f\"Train Value Loss: {training_loss_value[-1]:.4f}, \"\n",
    "            f\"Val Value Loss: {validation_loss_value[-1]:.4f}\"\n",
    "        )"
   ]
  },
  {
   "metadata": {},
   "cell_type": "code",
   "outputs": [],
   "execution_count": null,
   "source": [
    "@dataclass\n",
    "class Parameters:\n",
    "    criterion: Any\n",
    "    optimizer: Any\n",
    "    epochs: int\n",
    "    learning_rate: float\n",
    "    weight_decay: float\n",
    "    batch_size: int\n",
    "    \n",
    "    def __str__(self):\n",
    "        return (f\"crit: {self.criterion}, optm: {self.optimizer}, epcs: {self.epochs}, \"\n",
    "                f\"lrnt: {self.learning_rate}, wedc: {self.weight_decay}, basz: {self.batch_size}\")\n",
    "\n",
    "@dataclass\n",
    "class ParamGrid:\n",
    "    criterion: tuple[Any, ...]\n",
    "    optimizer: tuple[Any, ...]\n",
    "    epochs: tuple[int, ...]\n",
    "    learning_rate: tuple[float, ...]\n",
    "    weight_decay: tuple[float, ...]\n",
    "    batch_size: tuple[int, ...]\n",
    "    \n",
    "    def iter_product(self) -> Iterator[Parameters]:\n",
    "        for combination in product(self.criterion, self.optimizer, self.epochs, self.learning_rate, self.weight_decay, self.batch_size):\n",
    "            yield Parameters(*combination)"
   ],
   "id": "b0c83d159d6b45f8"
  },
  {
   "metadata": {},
   "cell_type": "code",
   "outputs": [],
   "execution_count": null,
   "source": [
    "def grid_search(t_loader, v_loader, param_grid: ParamGrid, model_class: Type[nn.Module]):\n",
    "    best_params = None\n",
    "    best_score = float('inf')\n",
    "    \n",
    "    for params in param_grid.iter_product():        \n",
    "        # Initialize model, criterion, and optimizer\n",
    "        m = model_class()\n",
    "\n",
    "        # Train and evaluate the model\n",
    "        score = train_model(m, t_loader, v_loader, params.epochs, params.learning_rate, params.weight_decay, params.optimizer, params.criterion)\n",
    "        print(f\"Params: {params}, Validation Loss: {score}\")\n",
    "        \n",
    "        # Update best parameters if current score is better\n",
    "        if score < best_score:\n",
    "            best_score = score\n",
    "            best_params = params\n",
    "    \n",
    "    return best_params, best_score"
   ],
   "id": "75f1ee2338eddee7"
  },
  {
   "cell_type": "code",
   "execution_count": 8,
   "id": "c1f1848a-e5b2-448e-9175-b00e0f48ea9f",
   "metadata": {},
   "outputs": [],
   "source": [
    "class JassCNN(nn.Module):\n",
    "    def __init__(self, input_channels=19, num_actions=36):\n",
    "        super().__init__()\n",
    "        self.conv1 = nn.Conv2d(input_channels, 256, kernel_size=(3, 3), stride=1, padding=1)\n",
    "        self.conv2 = nn.Conv2d(256, 256, kernel_size=(2, 3), stride=2, padding=1)\n",
    "        self.conv3 = nn.Conv2d(256, 256, kernel_size=(2, 2), stride=1, padding=1)\n",
    "        self.conv4 = nn.Conv2d(256, 256, kernel_size=(2, 2), stride=2, padding=0)\n",
    "        self.conv5 = nn.Conv2d(256, 256, kernel_size=(2, 2), stride=1, padding=0)\n",
    "\n",
    "        self.bn1 = nn.BatchNorm2d(256)\n",
    "        self.bn2 = nn.BatchNorm2d(256)\n",
    "        self.bn3 = nn.BatchNorm2d(256)\n",
    "        self.bn4 = nn.BatchNorm2d(256)\n",
    "        self.bn5 = nn.BatchNorm2d(256)\n",
    "        \n",
    "        self.fc1 = nn.Linear(512, 256)\n",
    "        self.fc2 = nn.Linear(256, 128)\n",
    "        self.fc_value = nn.Linear(128, 1)\n",
    "\n",
    "    def forward(self, x):   \n",
    "        x = nn.functional.leaky_relu(self.bn1(self.conv1(x)), negative_slope=0.01)\n",
    "        x = nn.functional.leaky_relu(self.bn2(self.conv2(x)), negative_slope=0.01)\n",
    "        x = nn.functional.leaky_relu(self.bn3(self.conv3(x)), negative_slope=0.01)\n",
    "        x = nn.functional.leaky_relu(self.bn4(self.conv4(x)), negative_slope=0.01)\n",
    "        x = nn.functional.leaky_relu(self.bn5(self.conv5(x)), negative_slope=0.01)\n",
    "\n",
    "        x = torch.flatten(x, start_dim=1)\n",
    "        x = torch.relu(self.fc1(x))\n",
    "        x = torch.relu(self.fc2(x))\n",
    "        value = torch.sigmoid(self.fc_value(x))\n",
    "        \n",
    "        return value"
   ]
  },
  {
   "cell_type": "code",
   "execution_count": 12,
   "id": "292edd65a60a2f6e",
   "metadata": {
    "ExecuteTime": {
     "end_time": "2024-12-07T14:15:00.423555Z",
     "start_time": "2024-12-07T14:15:00.392031Z"
    }
   },
   "outputs": [],
   "source": [
    "model = JassCNN().to(device)"
   ]
  },
  {
   "cell_type": "code",
   "execution_count": 13,
   "id": "c6f8989f0a4f2e20",
   "metadata": {
    "ExecuteTime": {
     "end_time": "2024-12-07T14:15:00.513499Z",
     "start_time": "2024-12-07T14:15:00.508169Z"
    }
   },
   "outputs": [],
   "source": [
    "BATCH_SIZE = 64\n",
    "EPOCHS = 20\n",
    "LEARNING_RATE = 5e-4\n",
    "WEIGHT_DECAY = 1e-5"
   ]
  },
  {
   "cell_type": "code",
   "id": "66757e2af0f9bf9c",
   "metadata": {},
   "source": [
    "train_loader = DataLoader(train_dataset, batch_size=BATCH_SIZE, shuffle=False)\n",
    "test_loader = DataLoader(test_dataset, batch_size=BATCH_SIZE, shuffle=False)"
   ],
   "outputs": [],
   "execution_count": null
  },
  {
   "cell_type": "code",
   "execution_count": null,
   "id": "2ceb7fa9-9a20-43ef-8470-43d0635b322b",
   "metadata": {},
   "outputs": [],
   "source": "train_model(model, train_loader, test_loader, epochs=EPOCHS, lr=LEARNING_RATE, weight_decay=WEIGHT_DECAY, optimizer=optim.Adam, criterion=nn.MSELoss)"
  },
  {
   "metadata": {},
   "cell_type": "code",
   "outputs": [],
   "execution_count": null,
   "source": [
    "param_grid = ParamGrid(\n",
    "    criterion=(nn.HuberLoss(delta=1.35), nn.SmoothL1Loss(beta=1.35)),\n",
    "    optimizer=(optim.Adam, optim.AdamW, optim.SGD),\n",
    "    epochs=(7, ),\n",
    "    learning_rate=(5e-3, 1e-3, 5e-4),\n",
    "    weight_decay=(1e-4, 1e-5),\n",
    "    batch_size=(32, 64, 128)\n",
    ")"
   ],
   "id": "a745151d7ccc1064"
  },
  {
   "metadata": {},
   "cell_type": "code",
   "outputs": [],
   "execution_count": null,
   "source": "params = grid_search(train_loader, test_loader, param_grid, JassCNN)",
   "id": "83cbfb8516eadcb6"
  }
 ],
 "metadata": {
  "kernelspec": {
   "display_name": "Python 3 (ipykernel)",
   "language": "python",
   "name": "python3"
  },
  "language_info": {
   "codemirror_mode": {
    "name": "ipython",
    "version": 3
   },
   "file_extension": ".py",
   "mimetype": "text/x-python",
   "name": "python",
   "nbconvert_exporter": "python",
   "pygments_lexer": "ipython3",
   "version": "3.11.9"
  }
 },
 "nbformat": 4,
 "nbformat_minor": 5
}
