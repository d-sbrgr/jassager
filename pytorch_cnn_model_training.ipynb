{
 "cells": [
  {
   "cell_type": "code",
   "execution_count": 1,
   "id": "initial_id",
   "metadata": {
    "ExecuteTime": {
     "end_time": "2024-12-07T14:14:48.969390Z",
     "start_time": "2024-12-07T14:14:43.236382Z"
    }
   },
   "outputs": [],
   "source": [
    "import numpy as np\n",
    "import pandas as pd\n",
    "from pathlib import Path\n",
    "import torch\n",
    "import torch.nn as nn\n",
    "import torch.optim as optim\n",
    "from torch.utils.data import DataLoader, TensorDataset\n",
    "from sklearn.model_selection import train_test_split\n",
    "\n",
    "from bots.mcts_cnn_bots.tensors import df_to_tensors"
   ]
  },
  {
   "cell_type": "code",
   "execution_count": 2,
   "id": "6cdc4fc7c94024f6",
   "metadata": {
    "ExecuteTime": {
     "end_time": "2024-12-07T14:14:48.984030Z",
     "start_time": "2024-12-07T14:14:48.973033Z"
    }
   },
   "outputs": [
    {
     "name": "stdout",
     "output_type": "stream",
     "text": [
      "Using device: cuda\n"
     ]
    }
   ],
   "source": [
    "# Check if GPU is available\n",
    "device = torch.device(\"cuda\" if torch.cuda.is_available() else \"cpu\")\n",
    "print(f\"Using device: {device}\")"
   ]
  },
  {
   "cell_type": "code",
   "execution_count": 3,
   "id": "aaaac8bb9a04f7ef",
   "metadata": {
    "ExecuteTime": {
     "end_time": "2024-12-07T14:14:49.237934Z",
     "start_time": "2024-12-07T14:14:49.233174Z"
    }
   },
   "outputs": [],
   "source": [
    "training_data = Path(\"./data/parquet/data.parquet\")"
   ]
  },
  {
   "cell_type": "code",
   "execution_count": 4,
   "id": "f61d0aae2b6499a5",
   "metadata": {
    "ExecuteTime": {
     "end_time": "2024-12-07T14:14:54.300185Z",
     "start_time": "2024-12-07T14:14:49.248939Z"
    }
   },
   "outputs": [],
   "source": [
    "df = pd.read_parquet(training_data)"
   ]
  },
  {
   "cell_type": "code",
   "execution_count": 5,
   "id": "9a6a0a6ae5ccb620",
   "metadata": {
    "ExecuteTime": {
     "end_time": "2024-12-07T14:14:54.328133Z",
     "start_time": "2024-12-07T14:14:54.323667Z"
    }
   },
   "outputs": [],
   "source": [
    "def shuffle_data(df: pd.DataFrame, random_state=42):\n",
    "    return df.sample(frac=1, random_state=random_state).reset_index(drop=True)"
   ]
  },
  {
   "cell_type": "code",
   "execution_count": 6,
   "id": "b48f50c27e294f53",
   "metadata": {
    "ExecuteTime": {
     "end_time": "2024-12-07T14:14:54.357326Z",
     "start_time": "2024-12-07T14:14:54.350929Z"
    }
   },
   "outputs": [],
   "source": [
    "def split_data(state_tensors, policy_targets, value_targets, test_size=0.2, random_state=42):\n",
    "    indices = np.arange(len(state_tensors))\n",
    "    train_idx, test_idx = train_test_split(indices, test_size=test_size, random_state=random_state)\n",
    "\n",
    "    train_dataset = TensorDataset(state_tensors[train_idx], policy_targets[train_idx], value_targets[train_idx])\n",
    "    test_dataset = TensorDataset(state_tensors[test_idx], policy_targets[test_idx], value_targets[test_idx])\n",
    "\n",
    "    return train_dataset, test_dataset"
   ]
  },
  {
   "cell_type": "code",
   "execution_count": 18,
   "id": "b5098f92c07770b6",
   "metadata": {
    "ExecuteTime": {
     "end_time": "2024-12-07T14:14:54.391555Z",
     "start_time": "2024-12-07T14:14:54.380265Z"
    }
   },
   "outputs": [],
   "source": [
    "def train_model(model, train_loader, test_loader, epochs, lr, weight_decay):\n",
    "    training_loss_value = []\n",
    "    training_loss_policy = []\n",
    "    validation_loss_value = []\n",
    "    validation_loss_policy = []\n",
    "    \n",
    "    criterion_policy = nn.CrossEntropyLoss()\n",
    "    criterion_value = nn.MSELoss()\n",
    "    optimizer = optim.Adam(model.parameters(), lr=lr, weight_decay=weight_decay)\n",
    "    scheduler = torch.optim.lr_scheduler.ReduceLROnPlateau(optimizer, mode='min', factor=0.5, patience=5, verbose=True)\n",
    "\n",
    "    for epoch in range(epochs):\n",
    "        # Training phase\n",
    "        model.train()\n",
    "        train_policy_loss = 0.0\n",
    "        train_value_loss = 0.0\n",
    "\n",
    "        for state_batch, policy_batch, value_batch in train_loader:\n",
    "            state_batch = state_batch.to(device)\n",
    "            policy_batch = torch.argmax(policy_batch, dim=1)  # Converts one-hot to class indices\n",
    "            policy_batch = policy_batch.to(device)\n",
    "            value_batch = value_batch.to(device)\n",
    "            \n",
    "            optimizer.zero_grad()\n",
    "\n",
    "            # Forward pass\n",
    "            policy_pred, value_pred = model(state_batch)\n",
    "            \n",
    "            # Compute the individual losses\n",
    "            policy_loss = criterion_policy(policy_pred, policy_batch)\n",
    "            value_loss = criterion_value(value_pred, value_batch)\n",
    "            \n",
    "            # Dynamically scale based on current loss values\n",
    "            policy_weight = 1.0\n",
    "            value_weight = policy_loss.item() / (value_loss.item() + 1e-8)\n",
    "            loss = policy_weight * policy_loss + value_weight * value_loss\n",
    "\n",
    "            # Backward pass\n",
    "            loss.backward()\n",
    "            torch.nn.utils.clip_grad_norm_(model.parameters(), max_norm=1.0)\n",
    "            optimizer.step()\n",
    "\n",
    "            train_policy_loss += policy_loss.item()\n",
    "            train_value_loss += value_loss.item()\n",
    "            \n",
    "        training_loss_value.append(train_value_loss / len(train_loader))\n",
    "        training_loss_policy.append(train_policy_loss / len(train_loader))\n",
    "\n",
    "        # Validation phase\n",
    "        model.eval()\n",
    "        val_policy_loss = 0.0\n",
    "        val_value_loss = 0.0\n",
    "\n",
    "        with torch.no_grad():\n",
    "            for state_batch, policy_batch, value_batch in test_loader:\n",
    "                policy_batch = torch.argmax(policy_batch, dim=1)  # Converts one-hot to class indices\n",
    "                policy_pred, value_pred = model(state_batch)\n",
    "                val_policy_loss += criterion_policy(policy_pred, policy_batch).item()\n",
    "                val_value_loss += criterion_value(value_pred, value_batch).item()\n",
    "                \n",
    "        validation_loss_value.append(val_value_loss / len(test_loader))\n",
    "        validation_loss_policy.append(val_policy_loss / len(test_loader))\n",
    "        \n",
    "        scheduler.step((val_value_loss + val_policy_loss) / 2)\n",
    "\n",
    "        print(\n",
    "            f\"Epoch {epoch+1}/{epochs}, \"\n",
    "            f\"Train Policy Loss: {training_loss_policy[-1]:.4f}, Train Value Loss: {training_loss_value[-1]:.4f}, \"\n",
    "            f\"Val Policy Loss: {validation_loss_policy[-1]:.4f}, Val Value Loss: {validation_loss_value[-1]:.4f}\"\n",
    "        )"
   ]
  },
  {
   "cell_type": "code",
   "execution_count": 19,
   "id": "c1f1848a-e5b2-448e-9175-b00e0f48ea9f",
   "metadata": {},
   "outputs": [],
   "source": [
    "class JassCNN(nn.Module):\n",
    "    def __init__(self, input_channels=19, num_actions=36):\n",
    "        super().__init__()\n",
    "        self.conv1 = nn.Conv2d(input_channels, 256, kernel_size=(2, 3), stride=1, padding=1)\n",
    "        self.conv2 = nn.Conv2d(256, 256, kernel_size=(2, 3), stride=2, padding=0)\n",
    "        self.conv3 = nn.Conv2d(256, 256, kernel_size=(2, 2), stride=2, padding=0)\n",
    "        self.conv4 = nn.Conv2d(256, 256, kernel_size=(1, 2), stride=1, padding=0)\n",
    "\n",
    "        self.bn1 = nn.BatchNorm2d(128)\n",
    "        self.bn2 = nn.BatchNorm2d(256)\n",
    "        self.bn3 = nn.BatchNorm2d(256)\n",
    "        self.bn4 = nn.BatchNorm2d(256)\n",
    "        \n",
    "        self.fc1 = nn.Linear(256, 1024)\n",
    "        self.fc2 = nn.Linear(1024, 512)\n",
    "        self.fc3 = nn.Linear(512, 256)\n",
    "        self.fc4 = nn.Linear(256, 128)\n",
    "        \n",
    "        self.fc_policy = nn.Linear(128, num_actions)\n",
    "        self.fc_value = nn.Linear(128, 1)\n",
    "\n",
    "    def forward(self, x):   \n",
    "        x = torch.leaky_relu(self.bn1(self.conv1(x)), negative_slope=0.01)\n",
    "        x = torch.leaky_relu(self.bn2(self.conv2(x)), negative_slope=0.01)\n",
    "        x = torch.leaky_relu(self.bn3(self.conv3(x)), negative_slope=0.01)\n",
    "        x = torch.leaky_relu(self.bn4(self.conv4(x)), negative_slope=0.01)\n",
    "\n",
    "        x = torch.flatten(x, start_dim=1)\n",
    "        x = torch.relu(self.fc1(x))\n",
    "        x = torch.relu(self.fc2(x))\n",
    "        x = torch.relu(self.fc3(x))\n",
    "        shared_features = torch.relu(self.fc4(x))\n",
    "\n",
    "        policy = torch.softmax(self.fc_policy(shared_features), dim=-1)\n",
    "        value = torch.sigmoid(self.fc_value(shared_features))\n",
    "        \n",
    "        return policy, value"
   ]
  },
  {
   "cell_type": "code",
   "execution_count": 9,
   "id": "3fe7bd7e7ca6f612",
   "metadata": {
    "ExecuteTime": {
     "end_time": "2024-12-07T14:14:57.836574Z",
     "start_time": "2024-12-07T14:14:54.413150Z"
    }
   },
   "outputs": [],
   "source": [
    "df = shuffle_data(df, random_state=42)"
   ]
  },
  {
   "cell_type": "code",
   "execution_count": 10,
   "id": "829cd08fed1fe96a",
   "metadata": {
    "ExecuteTime": {
     "end_time": "2024-12-07T14:15:00.223238Z",
     "start_time": "2024-12-07T14:14:57.861618Z"
    }
   },
   "outputs": [],
   "source": [
    "state_tensors, policy_targets, value_targets = df_to_tensors(df)"
   ]
  },
  {
   "cell_type": "code",
   "execution_count": 11,
   "id": "bebd64f06c913737",
   "metadata": {
    "ExecuteTime": {
     "end_time": "2024-12-07T14:15:00.290392Z",
     "start_time": "2024-12-07T14:15:00.280892Z"
    }
   },
   "outputs": [],
   "source": [
    "train_state, test_state, train_policy, test_policy, train_value, test_value = train_test_split(\n",
    "    state_tensors, policy_targets, value_targets, test_size=0.2, random_state=42\n",
    ")\n",
    "\n",
    "train_state = train_state.to(device)\n",
    "train_policy = train_policy.to(device)\n",
    "train_value = train_value.to(device)\n",
    "test_state = test_state.to(device)\n",
    "test_policy = test_policy.to(device)\n",
    "test_value = test_value.to(device)\n",
    "\n",
    "train_dataset = TensorDataset(train_state, train_policy, train_value)\n",
    "test_dataset = TensorDataset(test_state, test_policy, test_value)"
   ]
  },
  {
   "cell_type": "code",
   "execution_count": 12,
   "id": "292edd65a60a2f6e",
   "metadata": {
    "ExecuteTime": {
     "end_time": "2024-12-07T14:15:00.423555Z",
     "start_time": "2024-12-07T14:15:00.392031Z"
    }
   },
   "outputs": [],
   "source": [
    "model = JassCNN().to(device)"
   ]
  },
  {
   "cell_type": "code",
   "execution_count": 15,
   "id": "c6f8989f0a4f2e20",
   "metadata": {
    "ExecuteTime": {
     "end_time": "2024-12-07T14:15:00.513499Z",
     "start_time": "2024-12-07T14:15:00.508169Z"
    }
   },
   "outputs": [],
   "source": [
    "BATCH_SIZE = 32\n",
    "EPOCHS = 20\n",
    "LEARNING_RATE = 1e-3\n",
    "WEIGHT_DECAY = 1e-4"
   ]
  },
  {
   "cell_type": "code",
   "execution_count": 20,
   "id": "66757e2af0f9bf9c",
   "metadata": {
    "ExecuteTime": {
     "end_time": "2024-12-07T14:15:34.473034Z",
     "start_time": "2024-12-07T14:15:00.603287Z"
    }
   },
   "outputs": [
    {
     "name": "stdout",
     "output_type": "stream",
     "text": [
      "Epoch 1/20, Train Policy Loss: 3.5835, Train Value Loss: 0.0269, Val Policy Loss: 3.5835, Val Value Loss: 0.0231\n",
      "Epoch 2/20, Train Policy Loss: 3.5835, Train Value Loss: 0.0229, Val Policy Loss: 3.5835, Val Value Loss: 0.0208\n",
      "Epoch 3/20, Train Policy Loss: 3.5835, Train Value Loss: 0.0223, Val Policy Loss: 3.5835, Val Value Loss: 0.0209\n",
      "Epoch 4/20, Train Policy Loss: 3.5835, Train Value Loss: 0.0222, Val Policy Loss: 3.5835, Val Value Loss: 0.0210\n",
      "Epoch 5/20, Train Policy Loss: 3.5835, Train Value Loss: 0.0222, Val Policy Loss: 3.5835, Val Value Loss: 0.0210\n",
      "Epoch 6/20, Train Policy Loss: 3.5835, Train Value Loss: 0.0222, Val Policy Loss: 3.5835, Val Value Loss: 0.0206\n",
      "Epoch 7/20, Train Policy Loss: 3.5835, Train Value Loss: 0.0222, Val Policy Loss: 3.5835, Val Value Loss: 0.0211\n",
      "Epoch 8/20, Train Policy Loss: 3.5835, Train Value Loss: 0.0222, Val Policy Loss: 3.5835, Val Value Loss: 0.0208\n",
      "Epoch 9/20, Train Policy Loss: 3.5835, Train Value Loss: 0.0222, Val Policy Loss: 3.5835, Val Value Loss: 0.0205\n",
      "Epoch 10/20, Train Policy Loss: 3.5835, Train Value Loss: 0.0222, Val Policy Loss: 3.5835, Val Value Loss: 0.0208\n",
      "Epoch 11/20, Train Policy Loss: 3.5835, Train Value Loss: 0.0222, Val Policy Loss: 3.5835, Val Value Loss: 0.0206\n",
      "Epoch 12/20, Train Policy Loss: 3.5835, Train Value Loss: 0.0222, Val Policy Loss: 3.5835, Val Value Loss: 0.0206\n",
      "Epoch 13/20, Train Policy Loss: 3.5835, Train Value Loss: 0.0222, Val Policy Loss: 3.5835, Val Value Loss: 0.0206\n",
      "Epoch 14/20, Train Policy Loss: 3.5835, Train Value Loss: 0.0222, Val Policy Loss: 3.5835, Val Value Loss: 0.0209\n",
      "Epoch 15/20, Train Policy Loss: 3.5835, Train Value Loss: 0.0222, Val Policy Loss: 3.5835, Val Value Loss: 0.0204\n",
      "Epoch 16/20, Train Policy Loss: 3.5835, Train Value Loss: 0.0222, Val Policy Loss: 3.5835, Val Value Loss: 0.0204\n",
      "Epoch 17/20, Train Policy Loss: 3.5835, Train Value Loss: 0.0222, Val Policy Loss: 3.5835, Val Value Loss: 0.0205\n",
      "Epoch 18/20, Train Policy Loss: 3.5835, Train Value Loss: 0.0222, Val Policy Loss: 3.5835, Val Value Loss: 0.0206\n",
      "Epoch 19/20, Train Policy Loss: 3.5835, Train Value Loss: 0.0222, Val Policy Loss: 3.5835, Val Value Loss: 0.0206\n",
      "Epoch 20/20, Train Policy Loss: 3.5835, Train Value Loss: 0.0222, Val Policy Loss: 3.5835, Val Value Loss: 0.0204\n"
     ]
    }
   ],
   "source": [
    "train_loader = DataLoader(train_dataset, batch_size=BATCH_SIZE, shuffle=False)\n",
    "test_loader = DataLoader(test_dataset, batch_size=BATCH_SIZE, shuffle=False)\n",
    "\n",
    "train_model(model, train_loader, test_loader, epochs=EPOCHS, lr=LEARNING_RATE, weight_decay=WEIGHT_DECAY)"
   ]
  },
  {
   "cell_type": "code",
   "execution_count": null,
   "id": "2ceb7fa9-9a20-43ef-8470-43d0635b322b",
   "metadata": {},
   "outputs": [],
   "source": []
  }
 ],
 "metadata": {
  "kernelspec": {
   "display_name": "Python 3 (ipykernel)",
   "language": "python",
   "name": "python3"
  },
  "language_info": {
   "codemirror_mode": {
    "name": "ipython",
    "version": 3
   },
   "file_extension": ".py",
   "mimetype": "text/x-python",
   "name": "python",
   "nbconvert_exporter": "python",
   "pygments_lexer": "ipython3",
   "version": "3.11.9"
  }
 },
 "nbformat": 4,
 "nbformat_minor": 5
}
