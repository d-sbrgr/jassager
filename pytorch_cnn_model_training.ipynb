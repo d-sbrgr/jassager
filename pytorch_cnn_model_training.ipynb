{
 "cells": [
  {
   "cell_type": "code",
   "id": "initial_id",
   "metadata": {
    "collapsed": true,
    "ExecuteTime": {
     "end_time": "2024-12-07T14:14:48.969390Z",
     "start_time": "2024-12-07T14:14:43.236382Z"
    }
   },
   "source": [
    "import numpy as np\n",
    "import pandas as pd\n",
    "from pathlib import Path\n",
    "import torch\n",
    "import torch.nn as nn\n",
    "import torch.optim as optim\n",
    "from torch.utils.data import DataLoader, TensorDataset\n",
    "from sklearn.model_selection import train_test_split\n",
    "\n",
    "from bots.mcts_cnn_bots.tensors import df_to_tensors\n",
    "from bots.mcts_cnn_bots.JassCNN import JassCNN"
   ],
   "outputs": [],
   "execution_count": 1
  },
  {
   "metadata": {
    "ExecuteTime": {
     "end_time": "2024-12-07T14:14:48.984030Z",
     "start_time": "2024-12-07T14:14:48.973033Z"
    }
   },
   "cell_type": "code",
   "source": [
    "# Check if GPU is available\n",
    "device = torch.device(\"cuda\" if torch.cuda.is_available() else \"cpu\")\n",
    "print(f\"Using device: {device}\")"
   ],
   "id": "6cdc4fc7c94024f6",
   "outputs": [
    {
     "name": "stdout",
     "output_type": "stream",
     "text": [
      "Using device: cpu\n"
     ]
    }
   ],
   "execution_count": 2
  },
  {
   "metadata": {
    "ExecuteTime": {
     "end_time": "2024-12-07T14:14:49.237934Z",
     "start_time": "2024-12-07T14:14:49.233174Z"
    }
   },
   "cell_type": "code",
   "source": "training_data = Path(\"./data/parquet/data.parquet\")",
   "id": "aaaac8bb9a04f7ef",
   "outputs": [],
   "execution_count": 3
  },
  {
   "metadata": {
    "ExecuteTime": {
     "end_time": "2024-12-07T14:14:54.300185Z",
     "start_time": "2024-12-07T14:14:49.248939Z"
    }
   },
   "cell_type": "code",
   "source": "df = pd.read_parquet(training_data)",
   "id": "f61d0aae2b6499a5",
   "outputs": [],
   "execution_count": 4
  },
  {
   "metadata": {
    "ExecuteTime": {
     "end_time": "2024-12-07T14:14:54.328133Z",
     "start_time": "2024-12-07T14:14:54.323667Z"
    }
   },
   "cell_type": "code",
   "source": [
    "def shuffle_data(df: pd.DataFrame, random_state=42):\n",
    "    return df.sample(frac=1, random_state=random_state).reset_index(drop=True)"
   ],
   "id": "9a6a0a6ae5ccb620",
   "outputs": [],
   "execution_count": 5
  },
  {
   "metadata": {
    "ExecuteTime": {
     "end_time": "2024-12-07T14:14:54.357326Z",
     "start_time": "2024-12-07T14:14:54.350929Z"
    }
   },
   "cell_type": "code",
   "source": [
    "def split_data(state_tensors, policy_targets, value_targets, test_size=0.2, random_state=42):\n",
    "    indices = np.arange(len(state_tensors))\n",
    "    train_idx, test_idx = train_test_split(indices, test_size=test_size, random_state=random_state)\n",
    "\n",
    "    train_dataset = TensorDataset(state_tensors[train_idx], policy_targets[train_idx], value_targets[train_idx])\n",
    "    test_dataset = TensorDataset(state_tensors[test_idx], policy_targets[test_idx], value_targets[test_idx])\n",
    "\n",
    "    return train_dataset, test_dataset"
   ],
   "id": "b48f50c27e294f53",
   "outputs": [],
   "execution_count": 6
  },
  {
   "metadata": {
    "ExecuteTime": {
     "end_time": "2024-12-07T14:14:54.391555Z",
     "start_time": "2024-12-07T14:14:54.380265Z"
    }
   },
   "cell_type": "code",
   "source": [
    "def train_model(model, train_loader, test_loader, epochs, lr):\n",
    "    training_loss_value = []\n",
    "    training_loss_policy = []\n",
    "    validation_loss_value = []\n",
    "    validation_loss_policy = []\n",
    "    \n",
    "    criterion_policy = nn.CrossEntropyLoss()\n",
    "    criterion_value = nn.MSELoss()\n",
    "    optimizer = optim.Adam(model.parameters(), lr=lr)\n",
    "\n",
    "    for epoch in range(epochs):\n",
    "        # Training phase\n",
    "        model.train()\n",
    "        train_policy_loss = 0.0\n",
    "        train_value_loss = 0.0\n",
    "\n",
    "        for state_batch, policy_batch, value_batch in train_loader:\n",
    "            state_batch = state_batch.to(device)\n",
    "            policy_batch = torch.argmax(policy_batch, dim=1)  # Converts one-hot to class indices\n",
    "            policy_batch = policy_batch.to(device)\n",
    "            value_batch = value_batch.to(device)\n",
    "            \n",
    "            optimizer.zero_grad()\n",
    "\n",
    "            # Forward pass\n",
    "            policy_pred, value_pred = model(state_batch)\n",
    "            policy_loss = criterion_policy(policy_pred, policy_batch)\n",
    "            value_loss = criterion_value(value_pred, value_batch)\n",
    "            total_loss = policy_loss + value_loss\n",
    "\n",
    "            # Backward pass\n",
    "            total_loss.backward()\n",
    "            optimizer.step()\n",
    "\n",
    "            train_policy_loss += policy_loss.item()\n",
    "            train_value_loss += value_loss.item()\n",
    "            \n",
    "        training_loss_value.append(train_value_loss / len(train_loader))\n",
    "        training_loss_policy.append(train_policy_loss / len(train_loader))\n",
    "\n",
    "        # Validation phase\n",
    "        model.eval()\n",
    "        val_policy_loss = 0.0\n",
    "        val_value_loss = 0.0\n",
    "\n",
    "        with torch.no_grad():\n",
    "            for state_batch, policy_batch, value_batch in test_loader:\n",
    "                policy_batch = torch.argmax(policy_batch, dim=1)  # Converts one-hot to class indices\n",
    "                policy_pred, value_pred = model(state_batch)\n",
    "                val_policy_loss += criterion_policy(policy_pred, policy_batch).item()\n",
    "                val_value_loss += criterion_value(value_pred, value_batch).item()\n",
    "                \n",
    "        validation_loss_value.append(val_value_loss / len(test_loader))\n",
    "        validation_loss_policy.append(val_policy_loss / len(test_loader))\n",
    "\n",
    "        print(\n",
    "            f\"Epoch {epoch+1}/{epochs}, \"\n",
    "            f\"Train Policy Loss: {training_loss_policy[-1]:.4f}, Train Value Loss: {training_loss_value[-1]:.4f}, \"\n",
    "            f\"Val Policy Loss: {validation_loss_policy[-1]:.4f}, Val Value Loss: {validation_loss_value[-1]:.4f}\"\n",
    "        )"
   ],
   "id": "b5098f92c07770b6",
   "outputs": [],
   "execution_count": 7
  },
  {
   "metadata": {
    "ExecuteTime": {
     "end_time": "2024-12-07T14:14:57.836574Z",
     "start_time": "2024-12-07T14:14:54.413150Z"
    }
   },
   "cell_type": "code",
   "source": "df = shuffle_data(df, random_state=42)",
   "id": "3fe7bd7e7ca6f612",
   "outputs": [],
   "execution_count": 8
  },
  {
   "metadata": {
    "ExecuteTime": {
     "end_time": "2024-12-07T14:15:00.223238Z",
     "start_time": "2024-12-07T14:14:57.861618Z"
    }
   },
   "cell_type": "code",
   "source": "state_tensors, policy_targets, value_targets = df_to_tensors(df)",
   "id": "829cd08fed1fe96a",
   "outputs": [],
   "execution_count": 9
  },
  {
   "metadata": {
    "ExecuteTime": {
     "end_time": "2024-12-07T14:15:00.290392Z",
     "start_time": "2024-12-07T14:15:00.280892Z"
    }
   },
   "cell_type": "code",
   "source": [
    "train_state, test_state, train_policy, test_policy, train_value, test_value = train_test_split(\n",
    "    state_tensors, policy_targets, value_targets, test_size=0.2, random_state=42\n",
    ")\n",
    "\n",
    "train_state = train_state.to(device)\n",
    "train_policy = train_policy.to(device)\n",
    "train_value = train_value.to(device)\n",
    "test_state = test_state.to(device)\n",
    "test_policy = test_policy.to(device)\n",
    "test_value = test_value.to(device)\n",
    "\n",
    "train_dataset = TensorDataset(train_state, train_policy, train_value)\n",
    "test_dataset = TensorDataset(test_state, test_policy, test_value)"
   ],
   "id": "bebd64f06c913737",
   "outputs": [],
   "execution_count": 10
  },
  {
   "metadata": {
    "ExecuteTime": {
     "end_time": "2024-12-07T14:15:00.423555Z",
     "start_time": "2024-12-07T14:15:00.392031Z"
    }
   },
   "cell_type": "code",
   "source": "model = JassCNN().to(device)",
   "id": "292edd65a60a2f6e",
   "outputs": [],
   "execution_count": 11
  },
  {
   "metadata": {
    "ExecuteTime": {
     "end_time": "2024-12-07T14:15:00.513499Z",
     "start_time": "2024-12-07T14:15:00.508169Z"
    }
   },
   "cell_type": "code",
   "source": [
    "BATCH_SIZE = 32\n",
    "EPOCHS = 20\n",
    "LEARNING_RATE = 0.001"
   ],
   "id": "c6f8989f0a4f2e20",
   "outputs": [],
   "execution_count": 12
  },
  {
   "metadata": {
    "ExecuteTime": {
     "end_time": "2024-12-07T14:15:34.473034Z",
     "start_time": "2024-12-07T14:15:00.603287Z"
    }
   },
   "cell_type": "code",
   "source": [
    "train_loader = DataLoader(train_dataset, batch_size=BATCH_SIZE, shuffle=False)\n",
    "test_loader = DataLoader(test_dataset, batch_size=BATCH_SIZE, shuffle=False)\n",
    "\n",
    "train_model(model, train_loader, test_loader, epochs=EPOCHS, lr=LEARNING_RATE)"
   ],
   "id": "66757e2af0f9bf9c",
   "outputs": [
    {
     "name": "stdout",
     "output_type": "stream",
     "text": [
      "Epoch 1/20, Train Policy Loss: 3.5831, Train Value Loss: 0.0668, Val Policy Loss: 3.5846, Val Value Loss: 0.0402\n",
      "Epoch 2/20, Train Policy Loss: 3.5811, Train Value Loss: 0.0427, Val Policy Loss: 3.5843, Val Value Loss: 0.0373\n",
      "Epoch 3/20, Train Policy Loss: 3.5768, Train Value Loss: 0.0390, Val Policy Loss: 3.5850, Val Value Loss: 0.0345\n",
      "Epoch 4/20, Train Policy Loss: 3.5764, Train Value Loss: 0.0375, Val Policy Loss: 3.5879, Val Value Loss: 0.0359\n",
      "Epoch 5/20, Train Policy Loss: 3.5744, Train Value Loss: 0.0348, Val Policy Loss: 3.5861, Val Value Loss: 0.0370\n",
      "Epoch 6/20, Train Policy Loss: 3.5693, Train Value Loss: 0.0360, Val Policy Loss: 3.5877, Val Value Loss: 0.0376\n",
      "Epoch 7/20, Train Policy Loss: 3.5708, Train Value Loss: 0.0361, Val Policy Loss: 3.5877, Val Value Loss: 0.0379\n",
      "Epoch 8/20, Train Policy Loss: 3.5678, Train Value Loss: 0.0352, Val Policy Loss: 3.5870, Val Value Loss: 0.0404\n",
      "Epoch 9/20, Train Policy Loss: 3.5633, Train Value Loss: 0.0327, Val Policy Loss: 3.5873, Val Value Loss: 0.0367\n",
      "Epoch 10/20, Train Policy Loss: 3.5559, Train Value Loss: 0.0342, Val Policy Loss: 3.5820, Val Value Loss: 0.0352\n",
      "Epoch 11/20, Train Policy Loss: 3.5432, Train Value Loss: 0.0365, Val Policy Loss: 3.5712, Val Value Loss: 0.0377\n",
      "Epoch 12/20, Train Policy Loss: 3.5324, Train Value Loss: 0.0394, Val Policy Loss: 3.5525, Val Value Loss: 0.0444\n",
      "Epoch 13/20, Train Policy Loss: 3.5177, Train Value Loss: 0.0389, Val Policy Loss: 3.5381, Val Value Loss: 0.0431\n",
      "Epoch 14/20, Train Policy Loss: 3.4960, Train Value Loss: 0.0445, Val Policy Loss: 3.5197, Val Value Loss: 0.0513\n",
      "Epoch 15/20, Train Policy Loss: 3.4570, Train Value Loss: 0.0455, Val Policy Loss: 3.4733, Val Value Loss: 0.0658\n",
      "Epoch 16/20, Train Policy Loss: 3.4372, Train Value Loss: 0.0441, Val Policy Loss: 3.4654, Val Value Loss: 0.0543\n",
      "Epoch 17/20, Train Policy Loss: 3.4029, Train Value Loss: 0.0463, Val Policy Loss: 3.4370, Val Value Loss: 0.0625\n",
      "Epoch 18/20, Train Policy Loss: 3.3549, Train Value Loss: 0.0522, Val Policy Loss: 3.4148, Val Value Loss: 0.0501\n",
      "Epoch 19/20, Train Policy Loss: 3.3174, Train Value Loss: 0.0480, Val Policy Loss: 3.4091, Val Value Loss: 0.0495\n",
      "Epoch 20/20, Train Policy Loss: 3.2910, Train Value Loss: 0.0436, Val Policy Loss: 3.3851, Val Value Loss: 0.0461\n"
     ]
    }
   ],
   "execution_count": 13
  }
 ],
 "metadata": {
  "kernelspec": {
   "display_name": "Python 3",
   "language": "python",
   "name": "python3"
  },
  "language_info": {
   "codemirror_mode": {
    "name": "ipython",
    "version": 2
   },
   "file_extension": ".py",
   "mimetype": "text/x-python",
   "name": "python",
   "nbconvert_exporter": "python",
   "pygments_lexer": "ipython2",
   "version": "2.7.6"
  }
 },
 "nbformat": 4,
 "nbformat_minor": 5
}
